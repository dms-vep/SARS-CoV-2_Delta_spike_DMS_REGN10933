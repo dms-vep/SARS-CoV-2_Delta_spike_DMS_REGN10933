{
 "cells": [
  {
   "cell_type": "markdown",
   "id": "a1d0b0d2-8dd1-4f2a-81f8-d130a6089854",
   "metadata": {},
   "source": [
    "# Validation neutralization assays versus `polyclonal` fits\n",
    "Compare actual measured neutralization values for specific mutants to the `polyclonal` fits.\n",
    "\n",
    "Import Python modules:"
   ]
  },
  {
   "cell_type": "code",
   "execution_count": null,
   "id": "49915887-e758-42d5-9de3-f1993d5549aa",
   "metadata": {
    "tags": []
   },
   "outputs": [],
   "source": [
    "import os\n",
    "import pickle\n",
    "\n",
    "import altair as alt\n",
    "\n",
    "import pandas as pd\n",
    "\n",
    "import yaml"
   ]
  },
  {
   "cell_type": "markdown",
   "id": "bde31c10-cd4b-46fb-b954-43029300c9b7",
   "metadata": {},
   "source": [
    "Read configuration and validation assay measurements:"
   ]
  },
  {
   "cell_type": "code",
   "execution_count": null,
   "id": "1ce28e92-f53e-47e1-81a8-f7894cfc3036",
   "metadata": {
    "tags": []
   },
   "outputs": [],
   "source": [
    "with open(\"config.yaml\") as f:\n",
    "    config = yaml.safe_load(f)\n",
    "    \n",
    "validation_ic50s = pd.read_csv(config[\"validation_ic50s\"], na_filter=None)\n",
    "\n",
    "validation_ic50s"
   ]
  },
  {
   "cell_type": "markdown",
   "id": "b17a6dc4-095c-437f-8482-af3189efa8b0",
   "metadata": {},
   "source": [
    "Now get the predictions by the averaged `polyclonal` model fits:"
   ]
  },
  {
   "cell_type": "code",
   "execution_count": null,
   "id": "d125179d-b1c2-4b04-b756-9ba4a35744c6",
   "metadata": {
    "tags": []
   },
   "outputs": [],
   "source": [
    "validation_vs_prediction = []\n",
    "for antibody, antibody_df in validation_ic50s.groupby(\"antibody\"):\n",
    "    with open(os.path.join(config[\"escape_dir\"], f\"{antibody}.pickle\"), \"rb\") as f:\n",
    "        model = pickle.load(f)\n",
    "    validation_vs_prediction.append(model.icXX(antibody_df))\n",
    "    \n",
    "validation_vs_prediction = pd.concat(validation_vs_prediction, ignore_index=True)\n",
    "\n",
    "validation_vs_prediction"
   ]
  },
  {
   "cell_type": "markdown",
   "id": "d58fc803-bbc6-4d0e-9033-a70f2534d8a9",
   "metadata": {
    "execution": {
     "iopub.execute_input": "2022-08-18T21:39:12.549294Z",
     "iopub.status.busy": "2022-08-18T21:39:12.549006Z",
     "iopub.status.idle": "2022-08-18T21:39:12.563996Z",
     "shell.execute_reply": "2022-08-18T21:39:12.563039Z",
     "shell.execute_reply.started": "2022-08-18T21:39:12.549268Z"
    },
    "tags": []
   },
   "source": [
    "Now plot the results.\n",
    "We will plot the **median** across the replicate `polyclonal` fits to different deep mutational scanning replicates.\n",
    "This is an interactive plot that you can mouse over for details:"
   ]
  },
  {
   "cell_type": "code",
   "execution_count": null,
   "id": "63e00942-3f78-47ce-959d-4e5cf5ca0e4b",
   "metadata": {
    "tags": []
   },
   "outputs": [],
   "source": [
    "corr_chart = (\n",
    "    alt.Chart(validation_vs_prediction)\n",
    "    .encode(\n",
    "        x=alt.X(\"measured IC50\", scale=alt.Scale(type=\"log\")),\n",
    "        y=alt.Y(\n",
    "            \"median_IC50\",\n",
    "            title=\"predicted IC50 from DMS\",\n",
    "            scale=alt.Scale(type=\"log\"),\n",
    "        ),\n",
    "        facet=alt.Facet(\"antibody\", columns=4, title=None),\n",
    "        color=alt.Color(\"lower_bound\", title=\"lower_bound\"),\n",
    "        tooltip=[\n",
    "            alt.Tooltip(c, format=\".3g\") if validation_vs_prediction[c].dtype == float\n",
    "            else c\n",
    "            for c in validation_vs_prediction.columns.tolist()\n",
    "        ],\n",
    "    )\n",
    "    .mark_circle(filled=True, size=60, opacity=0.6)\n",
    "    .configure_axis(grid=False)\n",
    "    .resolve_scale(y=\"independent\", x=\"independent\")\n",
    "    .properties(width=150, height=150)\n",
    ")\n",
    "\n",
    "corr_chart"
   ]
  },
  {
   "cell_type": "code",
   "execution_count": null,
   "id": "1b6b1815-ee13-45ef-bd1e-a94b19f3a1bd",
   "metadata": {},
   "outputs": [],
   "source": []
  }
 ],
 "metadata": {
  "kernelspec": {
   "display_name": "Python 3 (ipykernel)",
   "language": "python",
   "name": "python3"
  },
  "language_info": {
   "codemirror_mode": {
    "name": "ipython",
    "version": 3
   },
   "file_extension": ".py",
   "mimetype": "text/x-python",
   "name": "python",
   "nbconvert_exporter": "python",
   "pygments_lexer": "ipython3",
   "version": "3.9.13"
  }
 },
 "nbformat": 4,
 "nbformat_minor": 5
}
