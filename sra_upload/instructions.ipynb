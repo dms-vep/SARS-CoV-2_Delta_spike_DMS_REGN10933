{
 "cells": [
  {
   "cell_type": "code",
   "execution_count": 1,
   "id": "59752c64",
   "metadata": {},
   "outputs": [],
   "source": [
    "from utils import sra_metadata, ftp_upload\n",
    "import yaml\n",
    "import os\n",
    "import pandas as pd"
   ]
  },
  {
   "cell_type": "markdown",
   "id": "c3335af1",
   "metadata": {},
   "source": [
    "# Uploading your sequencing runs to the SRA\n",
    "\n",
    "Before publishing your study, you must make the raw sequencing runs available. This notebook contains the instructions and code for uploading these `fastq` files to the [NCBI Sequence Read Archive](https://www.ncbi.nlm.nih.gov/sra)."
   ]
  },
  {
   "cell_type": "markdown",
   "id": "c6da75c8",
   "metadata": {},
   "source": [
    "The recommended way to organize your experiments on the SRA is as follows:\n",
    "\n",
    "```\n",
    "BioProject: Variant library (i.e Omicron BA.1)\n",
    "|\n",
    "|___BioSamples: PacBio barcode linking, Illumina barcodes from individual studies\n",
    "\t|\n",
    "\t|___SRA Experiments: Individual runs and replicates of antibodies, sera, etc..\n",
    "```\n",
    "\n",
    "This structure is in keeping with the scheme used in Tyler's and Allie's Yeast Display DMS projects like this one [here](https://www.ncbi.nlm.nih.gov/bioproject/PRJNA639956). You can see what this looks like for an individual run from it's [`BioProject`](https://www.ncbi.nlm.nih.gov/bioproject/PRJNA639956) >> to it's [`BioSample`](https://www.ncbi.nlm.nih.gov/biosample/19925005) >> and finally, the [`SRA Run`](https://www.ncbi.nlm.nih.gov/sra/SRX11291810[accn]) itself.\n"
   ]
  },
  {
   "cell_type": "markdown",
   "id": "9009a5f6",
   "metadata": {},
   "source": [
    "**Note:** *The instructions below are applicable whether you have a new variant library for which a* `BioProject` *doesn't exist, or whether you are uploading a new* `BioSample` *to an existing* `BioProject`."
   ]
  },
  {
   "cell_type": "markdown",
   "id": "6af746f5",
   "metadata": {},
   "source": [
    "---"
   ]
  },
  {
   "cell_type": "markdown",
   "id": "599248a3",
   "metadata": {},
   "source": [
    "<details>\n",
    "  \n",
    "  <summary>\n",
    "      <h1>&#9758; Click to Create the BioProject</h1>\n",
    "  </summary>\n",
    "    \n",
    "*If you haven't yet created a* `BioProject` *for this Variant Library, follow the instructions here.* \n",
    "    \n",
    "First, go to the [SRA Submission Portal](https://submit.ncbi.nlm.nih.gov/subs/) and login. Once logged into the submission portal, click on **`BioProject`** and click on the blue **`New Submission`** button. \n",
    "    \n",
    "When you click this button, you will be prompted to fill out the **`Submitter`** information, do so. After this, you'll fill out the **`Project Type`** information, for **`Project Data Type`**, select `Raw sequence reads`. and for **`Sample scope`** select `Synthetic`. Fill in the **`Target`** and **`General Info`** pages with applicable information describing your library. For **`BioSample`** do not add anything, just hit **`Continue`**. \n",
    "    \n",
    "After you've filled out each of the fields, check that the information is correct and submit the new BioProject. It can take a bit for the project to be added and get a BioProject Accession. \n",
    "  \n",
    "</details>"
   ]
  },
  {
   "cell_type": "markdown",
   "id": "c0f4ffb4",
   "metadata": {},
   "source": [
    "<p><strong>If you haven't yet created a </strong><code>BioProject</code><strong> for your variant library, click the pointing finger ( &#9758; ) to see how to set this up.</strong></p>"
   ]
  },
  {
   "cell_type": "code",
   "execution_count": 2,
   "id": "f33bc914",
   "metadata": {},
   "outputs": [],
   "source": [
    "# After you've created the BioProject,\n",
    "# or if you already have a BioProject that you'd like to add to,\n",
    "# put the correct Accession here.\n",
    "\n",
    "BioProject_ID = \"PRJNA889020\""
   ]
  },
  {
   "cell_type": "markdown",
   "id": "716f695e",
   "metadata": {},
   "source": [
    "---\n",
    "# Create the BioSample for your Barcodes\n",
    "\n",
    "**Otherwise, if your** `BioProject` **already exists and you are uploading barcode runs, start with these instructions.**\n",
    "\n",
    "First, go to the [SRA Submission Portal](https://submit.ncbi.nlm.nih.gov/subs/) and login.\n",
    "\n",
    "Then under the **`Start a new submission`** banner, click **`BioSample`** to create a new BioSample. You are now on a page that has a blue **`New Submission`** button, which you should select. This will bring you to a page with some Submitter information; check that it is correct and then hit **`Continue`**. \n",
    "\n",
    "You will then be on the **`General Information`** page. Select when to release the submission to the public (*generally, immediately is OK*). Then click that you are uploading a `Single BioSample` and hit **`Continue`**.\n",
    "\n",
    "You will now be at the **`Sample Type`** page, and you have to select the package that best describes the submission. Click `Microbe`. Then click **`Continue`**. \n",
    "\n",
    "Now, you will enter the sample attributes. For the sample name, provide a short name that describes the sample, such as `SARS-CoV-2_Delta_spike_DMS_REGN10933_Illumina_barcodes` which comes from the Git repo name. Also provide the rest of the information by editing the first section of the [`config.yml`](config.yml) in this directory. **Run the cell below to check what you've set and will need to add to the SRA.** "
   ]
  },
  {
   "cell_type": "code",
   "execution_count": 3,
   "id": "76fc768c",
   "metadata": {},
   "outputs": [
    {
     "name": "stdout",
     "output_type": "stream",
     "text": [
      "\n",
      "Organism: severe acute respiratory syndrome coronavirus 2\n",
      "\n",
      "Strain: Delta\n",
      "\n",
      "Isolation Source: HEK-293T-rtTA\n",
      "\n",
      "Collection Data: 2022\n",
      "\n",
      "Geographic Location: USA: Washington\n",
      "\n",
      "Sample Type: plasmid\n",
      "\n"
     ]
    }
   ],
   "source": [
    "with open('config.yml') as f:\n",
    "    config = yaml.safe_load(f)\n",
    "    \n",
    "print(\n",
    "f\"\"\"\n",
    "Organism: {config['organism']}\\n\n",
    "Strain: {config['strain']}\\n\n",
    "Isolation Source: {config['isolation_source']}\\n\n",
    "Collection Data: {config['collection_date']}\\n\n",
    "Geographic Location: {config['geographic_location']}\\n\n",
    "Sample Type: {config['sample_type']}\n",
    "\"\"\"\n",
    ")"
   ]
  },
  {
   "cell_type": "markdown",
   "id": "04c87bec",
   "metadata": {},
   "source": [
    "Then hit **`Continue`**.\n",
    "\n",
    "You will now be on the page to specify the `BioProject`. You should either be adding to an existing BioProject, or have created a new on according to the instructions above. Enter the correct ID in the format of `PRJNAXXXXXX` as the **`Existing BioProject`** and hit **`Continue`**.\n",
    "\n",
    "Finally, add a sample title, such as `\"Illumina barcode sequencing from mutational antigenic profiling of Delta Spike with clinically relevant antibodies.\"` Then hit **`Continue`**, make sure everything looks correct, then hit **`Submit`**.\n",
    "\n",
    "After a brief bit of processing, the `BioSample` submission should show up, along with a sample accession that will be in the format of `SAMNXXXXXXX`. Add this sample accession to [`config.yml`](config.yml) as the value for the `accession` key under the `barcode_runs` key."
   ]
  },
  {
   "cell_type": "code",
   "execution_count": 4,
   "id": "a285646b",
   "metadata": {
    "scrolled": true
   },
   "outputs": [
    {
     "name": "stdout",
     "output_type": "stream",
     "text": [
      "The BioSample accession for these Illumina Barcode runs is: SAMN31230628\n",
      "The BioProject accession for these Illumina Barcode runs is: PRJNA889020\n"
     ]
    }
   ],
   "source": [
    "with open('config.yml') as f:\n",
    "    config = yaml.safe_load(f)\n",
    "print(f\"The BioSample accession for these Illumina Barcode runs is: {config['barcode_runs']['accession']}\")\n",
    "print(f\"The BioProject accession for these Illumina Barcode runs is: {BioProject_ID}\")"
   ]
  },
  {
   "cell_type": "markdown",
   "id": "39e190a9",
   "metadata": {},
   "source": [
    "---\n",
    "## Upload the sequencing data\n",
    "\n",
    "Go back to the [SRA Submission Portal](https://submit.ncbi.nlm.nih.gov/subs/) and login again. This time, under the **`Start a new submission banner`**, click **`Sequence Read Archive`** to upload the actual sequencing data.\n",
    "\n",
    "You are now on a page with a **`New submission`** button, which you should click. Check that the submitter information is correct, then click **`Continue`**.\n",
    "\n",
    "You will now be at the **`General Information`** page. We are adding to an existing `BioProject`, so enter the correct `BioProject` accession as the **`Existing BioProject`**. Then for the question of whether you already registered a `BioSample`, also select yes. Then select a Release Date depending on whether you want to release the results immediately (*usually fine*) or at some future date. Then click **`Continue`**.\n",
    "\n",
    "You will now be at a page that asks how you want to provide the `SRA Metadata`. Click to Upload a file. The next section describes how to create this table."
   ]
  },
  {
   "cell_type": "markdown",
   "id": "1f259d55",
   "metadata": {},
   "source": [
    "---\n",
    "## Create SRA metadata submission table\n",
    "\n",
    "To create the SRA metadata submission table for the Illumina Barcode runs, you'll edit the values under the `barcode_runs` key in the [`config.yml`](config.yml) file in this directory. \n",
    "\n",
    "For the key `barcode_runs` >> `file_path`, add the path to a `*.csv` file with **only** the barcode runs that you're going to submit to the SRA for *this BioSample*. \n",
    "\n",
    "Most of the values should be self explanatory, however, for the key `sample_id_columns`, choose the columns that should be concatenated in order to make a unique `library_ID` for the submission. **The order of the columns matters**. \n",
    "\n",
    "After you've edited the [`config.yml`](config.yml) file, run the cell below to double-check that the values are correct. "
   ]
  },
  {
   "cell_type": "code",
   "execution_count": 9,
   "id": "d5f98ba5",
   "metadata": {},
   "outputs": [
    {
     "name": "stdout",
     "output_type": "stream",
     "text": [
      "file_path: ../data/barcode_runs.csv\n",
      " accession: SAMN31230628\n",
      " sample_id_columns: ['date', 'virus_batch', 'sample_type', 'antibody', 'antibody_concentration', 'replicate']\n",
      " title_prefix: Delta spike Illumina barcode sequencing for sample\n",
      " description: Illumina barcode sequencing Delta spike\n",
      " strategy: AMPLICON\n",
      " source: SYNTHETIC\n",
      " selection: PCR\n",
      " layout: single\n",
      " platform: ILLUMINA\n",
      " model: Illumina HiSeq 2500\n",
      "\n"
     ]
    }
   ],
   "source": [
    "with open('config.yml') as f:\n",
    "    config = yaml.safe_load(f)\n",
    "\n",
    "print(*[f\"{k}: {v}\\n\" for k,v in config['barcode_runs'].items() if k != \"ftp_subfolder\"])"
   ]
  },
  {
   "cell_type": "markdown",
   "id": "456bbbea",
   "metadata": {},
   "source": [
    "If these values are correct, run the cell below to make the `barcodes_SRA_metadata.tsv` file for the Illumina Barcode runs that you're including in this `BioSample` submission and save a file containing the paths to the files for upload.\n",
    "\n",
    "**Check that the table looks like you expect it to!**"
   ]
  },
  {
   "cell_type": "code",
   "execution_count": 12,
   "id": "b81eba3a",
   "metadata": {},
   "outputs": [
    {
     "data": {
      "text/html": [
       "<div>\n",
       "<style scoped>\n",
       "    .dataframe tbody tr th:only-of-type {\n",
       "        vertical-align: middle;\n",
       "    }\n",
       "\n",
       "    .dataframe tbody tr th {\n",
       "        vertical-align: top;\n",
       "    }\n",
       "\n",
       "    .dataframe thead th {\n",
       "        text-align: right;\n",
       "    }\n",
       "</style>\n",
       "<table border=\"1\" class=\"dataframe\">\n",
       "  <thead>\n",
       "    <tr style=\"text-align: right;\">\n",
       "      <th></th>\n",
       "      <th>biosample_accession</th>\n",
       "      <th>library_ID</th>\n",
       "      <th>title</th>\n",
       "      <th>library_strategy</th>\n",
       "      <th>library_source</th>\n",
       "      <th>library_selection</th>\n",
       "      <th>library_layout</th>\n",
       "      <th>platform</th>\n",
       "      <th>instrument_model</th>\n",
       "      <th>design_description</th>\n",
       "      <th>filetype</th>\n",
       "      <th>filename</th>\n",
       "    </tr>\n",
       "  </thead>\n",
       "  <tbody>\n",
       "    <tr>\n",
       "      <th>0</th>\n",
       "      <td>SAMN31230628</td>\n",
       "      <td>Lib-1_2021-10-28_thaw-1_VSVG_control_none_none_1</td>\n",
       "      <td>Delta spike Illumina barcode sequencing for sa...</td>\n",
       "      <td>AMPLICON</td>\n",
       "      <td>SYNTHETIC</td>\n",
       "      <td>PCR</td>\n",
       "      <td>single</td>\n",
       "      <td>ILLUMINA</td>\n",
       "      <td>Illumina HiSeq 2500</td>\n",
       "      <td>Illumina barcode sequencing Delta spike</td>\n",
       "      <td>fastq</td>\n",
       "      <td>Lib-1_2021-10-28_thaw-1_VSVG_control_none_none...</td>\n",
       "    </tr>\n",
       "    <tr>\n",
       "      <th>1</th>\n",
       "      <td>SAMN31230628</td>\n",
       "      <td>Lib-1_2021-10-28_thaw-1_VSVG_control_none_none_2</td>\n",
       "      <td>Delta spike Illumina barcode sequencing for sa...</td>\n",
       "      <td>AMPLICON</td>\n",
       "      <td>SYNTHETIC</td>\n",
       "      <td>PCR</td>\n",
       "      <td>single</td>\n",
       "      <td>ILLUMINA</td>\n",
       "      <td>Illumina HiSeq 2500</td>\n",
       "      <td>Illumina barcode sequencing Delta spike</td>\n",
       "      <td>fastq</td>\n",
       "      <td>Lib-1_2021-10-28_thaw-1_VSVG_control_none_none...</td>\n",
       "    </tr>\n",
       "    <tr>\n",
       "      <th>2</th>\n",
       "      <td>SAMN31230628</td>\n",
       "      <td>Lib-3_2021-10-28_thaw-1_VSVG_control_none_none_1</td>\n",
       "      <td>Delta spike Illumina barcode sequencing for sa...</td>\n",
       "      <td>AMPLICON</td>\n",
       "      <td>SYNTHETIC</td>\n",
       "      <td>PCR</td>\n",
       "      <td>single</td>\n",
       "      <td>ILLUMINA</td>\n",
       "      <td>Illumina HiSeq 2500</td>\n",
       "      <td>Illumina barcode sequencing Delta spike</td>\n",
       "      <td>fastq</td>\n",
       "      <td>Lib-3_2021-10-28_thaw-1_VSVG_control_none_none...</td>\n",
       "    </tr>\n",
       "    <tr>\n",
       "      <th>3</th>\n",
       "      <td>SAMN31230628</td>\n",
       "      <td>Lib-3_2021-10-28_thaw-1_VSVG_control_none_none_2</td>\n",
       "      <td>Delta spike Illumina barcode sequencing for sa...</td>\n",
       "      <td>AMPLICON</td>\n",
       "      <td>SYNTHETIC</td>\n",
       "      <td>PCR</td>\n",
       "      <td>single</td>\n",
       "      <td>ILLUMINA</td>\n",
       "      <td>Illumina HiSeq 2500</td>\n",
       "      <td>Illumina barcode sequencing Delta spike</td>\n",
       "      <td>fastq</td>\n",
       "      <td>Lib-3_2021-10-28_thaw-1_VSVG_control_none_none...</td>\n",
       "    </tr>\n",
       "    <tr>\n",
       "      <th>4</th>\n",
       "      <td>SAMN31230628</td>\n",
       "      <td>Lib-4_2021-10-28_thaw-1_VSVG_control_none_none_1</td>\n",
       "      <td>Delta spike Illumina barcode sequencing for sa...</td>\n",
       "      <td>AMPLICON</td>\n",
       "      <td>SYNTHETIC</td>\n",
       "      <td>PCR</td>\n",
       "      <td>single</td>\n",
       "      <td>ILLUMINA</td>\n",
       "      <td>Illumina HiSeq 2500</td>\n",
       "      <td>Illumina barcode sequencing Delta spike</td>\n",
       "      <td>fastq</td>\n",
       "      <td>Lib-4_2021-10-28_thaw-1_VSVG_control_none_none...</td>\n",
       "    </tr>\n",
       "  </tbody>\n",
       "</table>\n",
       "</div>"
      ],
      "text/plain": [
       "  biosample_accession                                        library_ID  \\\n",
       "0        SAMN31230628  Lib-1_2021-10-28_thaw-1_VSVG_control_none_none_1   \n",
       "1        SAMN31230628  Lib-1_2021-10-28_thaw-1_VSVG_control_none_none_2   \n",
       "2        SAMN31230628  Lib-3_2021-10-28_thaw-1_VSVG_control_none_none_1   \n",
       "3        SAMN31230628  Lib-3_2021-10-28_thaw-1_VSVG_control_none_none_2   \n",
       "4        SAMN31230628  Lib-4_2021-10-28_thaw-1_VSVG_control_none_none_1   \n",
       "\n",
       "                                               title library_strategy  \\\n",
       "0  Delta spike Illumina barcode sequencing for sa...         AMPLICON   \n",
       "1  Delta spike Illumina barcode sequencing for sa...         AMPLICON   \n",
       "2  Delta spike Illumina barcode sequencing for sa...         AMPLICON   \n",
       "3  Delta spike Illumina barcode sequencing for sa...         AMPLICON   \n",
       "4  Delta spike Illumina barcode sequencing for sa...         AMPLICON   \n",
       "\n",
       "  library_source library_selection library_layout  platform  \\\n",
       "0      SYNTHETIC               PCR         single  ILLUMINA   \n",
       "1      SYNTHETIC               PCR         single  ILLUMINA   \n",
       "2      SYNTHETIC               PCR         single  ILLUMINA   \n",
       "3      SYNTHETIC               PCR         single  ILLUMINA   \n",
       "4      SYNTHETIC               PCR         single  ILLUMINA   \n",
       "\n",
       "      instrument_model                       design_description filetype  \\\n",
       "0  Illumina HiSeq 2500  Illumina barcode sequencing Delta spike    fastq   \n",
       "1  Illumina HiSeq 2500  Illumina barcode sequencing Delta spike    fastq   \n",
       "2  Illumina HiSeq 2500  Illumina barcode sequencing Delta spike    fastq   \n",
       "3  Illumina HiSeq 2500  Illumina barcode sequencing Delta spike    fastq   \n",
       "4  Illumina HiSeq 2500  Illumina barcode sequencing Delta spike    fastq   \n",
       "\n",
       "                                            filename  \n",
       "0  Lib-1_2021-10-28_thaw-1_VSVG_control_none_none...  \n",
       "1  Lib-1_2021-10-28_thaw-1_VSVG_control_none_none...  \n",
       "2  Lib-3_2021-10-28_thaw-1_VSVG_control_none_none...  \n",
       "3  Lib-3_2021-10-28_thaw-1_VSVG_control_none_none...  \n",
       "4  Lib-4_2021-10-28_thaw-1_VSVG_control_none_none...  "
      ]
     },
     "execution_count": 12,
     "metadata": {},
     "output_type": "execute_result"
    }
   ],
   "source": [
    "sra_metadata.format_metadata_tsv(config, \"\", pacbio=False)\n",
    "\n",
    "if not all(map(os.path.isfile, [\"barcodes_SRA_metadata.tsv\", \"barcodes_fasta_files.csv\"])):\n",
    "    raise Exception(\"You're missing either one or both of the expected output files.\")\n",
    "\n",
    "barcodes_SRA_metadata = pd.read_csv(\"barcodes_SRA_metadata.tsv\", sep=\"\\t\")\n",
    "barcodes_SRA_metadata.head()"
   ]
  },
  {
   "cell_type": "markdown",
   "id": "869152c5",
   "metadata": {},
   "source": [
    "---\n",
    "## Upload the submission table\n",
    "\n",
    "Now return to the [SRA Submission Portal](https://submit.ncbi.nlm.nih.gov/subs/sra/) webpage, and if needed navigate back to your submission. You should still be at the **`SRA Metadata`** step, and see a **`Choose file`** box to upload your `barcode_SRA_metadata.tsv` file that you just created in the step above. Then click **`Continue`**.\n",
    "\n",
    "After a little while, you should now get a page (**`Files`**) that asks you how you want to upload the files for this submission. Click the option for **`FTP or Aspera Command Line file preload`**.\n",
    "\n",
    "If you click on the **`+`** FTP upload instructions, you will see details. Add the `Username` and `Account folder` provided in these instructions to the [config.yml](config.yml) file as the values for the keys `ftp_username` and `ftp_account_folder` at the bottom of the file. Also, add a value for the key `ftp_subfolder` that is meaningful for this particular submission under the `barcode_runs` key. Finally, put the FTP password as plain text in a file called `ftp_password.txt` which is not tracked in this repo."
   ]
  },
  {
   "cell_type": "code",
   "execution_count": 13,
   "id": "0225392f",
   "metadata": {},
   "outputs": [
    {
     "name": "stdout",
     "output_type": "stream",
     "text": [
      "\n",
      "ftp_username: subftp\n",
      "ftp_account_folder: uploads/whannon_fredhutch.org_K2yAcKhg\n",
      "ftp_subfolder: Delta_spike_DMS_REGN10933_barcodes\n",
      "\n",
      "ftp_password.txt Exists!\n"
     ]
    }
   ],
   "source": [
    "with open('config.yml') as f:\n",
    "    config = yaml.safe_load(f)\n",
    "    \n",
    "print(f\"\"\"\n",
    "ftp_username: {config['ftp_username']}\n",
    "ftp_account_folder: {config['ftp_account_folder']}\n",
    "ftp_subfolder: {config['barcode_runs']['ftp_subfolder']}\n",
    "\"\"\")\n",
    "\n",
    "if os.path.isfile('ftp_password.txt'):\n",
    "    print(\"ftp_password.txt Exists!\")\n",
    "else:\n",
    "    raise Exception(\"Make sure that ftp_password.txt exists in this directory.\")\n"
   ]
  },
  {
   "cell_type": "markdown",
   "id": "2d002607",
   "metadata": {},
   "source": [
    "---\n",
    "## Upload the sequencing data\n",
    "\n",
    "Now we need to upload the actual sequencing data. This is done by running the cells below. It first creates a very large `*.tar` file called `SRA_submission.tar` that contains all the `fastqs` specified in the Illumina Barcode metadata. \n",
    "\n",
    "**Run the cell below to make this file. This can take a bit.**"
   ]
  },
  {
   "cell_type": "code",
   "execution_count": 14,
   "id": "e08a9d44",
   "metadata": {},
   "outputs": [
    {
     "name": "stdout",
     "output_type": "stream",
     "text": [
      "Concatenating and Adding file 1 of 38 to barcode_SRA_submission.tar\n",
      "Concatenating and Adding file 10 of 38 to barcode_SRA_submission.tar\n",
      "Concatenating and Adding file 20 of 38 to barcode_SRA_submission.tar\n",
      "Concatenating and Adding file 30 of 38 to barcode_SRA_submission.tar\n",
      "Concatenating and Adding file 38 of 38 to barcode_SRA_submission.tar\n",
      "Added all files to barcode_SRA_submission.tar\n",
      "\n",
      "Removing tmp directory.\n",
      "\n",
      "The size of barcode_SRA_submission.tar is 22.5 GB\n",
      "\n",
      "barcode_SRA_submission.tar contains all 38 expected files.\n",
      "\n",
      "Finished preparing the tar file for upload.\n"
     ]
    }
   ],
   "source": [
    "ftp_upload.make_tar_file(\"barcodes_fasta_files.csv\", \"barcode_SRA_submission.tar\")"
   ]
  },
  {
   "cell_type": "markdown",
   "id": "50e17cac",
   "metadata": {},
   "source": [
    "If the size of the `*.tar` file is what you expect, **run the chunk below to use FTP to upload the file to the SRA.** This can take a pretty long time to finish running, <strong style=color:red;>so if you have more than 5 gbs of data to upload, do not run this.</strong>"
   ]
  },
  {
   "cell_type": "code",
   "execution_count": 9,
   "id": "23c21ad2",
   "metadata": {},
   "outputs": [],
   "source": [
    "# ftp_upload.upload_via_ftp(tar_path=\"barcode_SRA_submission.tar\",\n",
    "#                ftp_username=config['ftp_username'],\n",
    "#                ftp_account_folder=config['ftp_account_folder'],\n",
    "#                ftp_subfolder=config['barcode_runs']['ftp_subfolder'],\n",
    "#                ftp_address='ftp-private.ncbi.nlm.nih.gov',\n",
    "#                ftp_password='ftp_password.txt'\n",
    "#               )"
   ]
  },
  {
   "cell_type": "markdown",
   "id": "8677db03",
   "metadata": {},
   "source": [
    "<strong style=color:red;>Instead, because this can take a very long time for large amounts of data, run this from the command line and submit to `slurm` as follows:</strong> \n",
    "\n",
    "```\n",
    "sbatch --wrap \"python utils/ftp_upload.py --config config.yml --sampletype barcodes\" --time 2-0\n",
    "```"
   ]
  },
  {
   "cell_type": "markdown",
   "id": "6e9c101d",
   "metadata": {},
   "source": [
    "Now that the transfer has finished, **manually log into the FTP site to see the file and use** `ls` **to see the size of what has been transferred to make sure that it worked correctly.** "
   ]
  },
  {
   "cell_type": "markdown",
   "id": "82a541f0",
   "metadata": {},
   "source": [
    "Finally, return to the SRA submission webpage for the reads, and check the blue **`Select preload folder`** box. Note that you need to wait about 10 minutes for the pre-load folder to become visible. The click to select the folder you created (this is the `ftp_subfolder` defined in `config.yaml`) and click Use selected folder. Finally, check **`Autofinish submission`** box and hit Continue. You will get a warning that files are missing since you uploaded a `*.tar` archive; do not worry about this and just click **`Continue`**.\n",
    "\n",
    "The webpage will then indicate it is extracting files from the `*.tar`, so wait for this to finish. It should then show that your submission is complete and just waiting for processing."
   ]
  },
  {
   "cell_type": "markdown",
   "id": "2c95b4f9",
   "metadata": {},
   "source": [
    "You then probably want to delete the `barcodes_SRA_submission.tar` file as it is very large."
   ]
  },
  {
   "cell_type": "markdown",
   "id": "50865237",
   "metadata": {},
   "source": [
    "<h2 style=color:red;>&#128721; Stop! If you don't also need to add PacBio sequencing, you're done! &#128721;</h2>"
   ]
  },
  {
   "cell_type": "markdown",
   "id": "83ff6beb",
   "metadata": {},
   "source": [
    "---\n",
    "**However, if you've made a new** `BioProject` **for this submission and haven't yet added you're PacBio sequencing linking variants to barcodes, go ahead and do this here.** \n",
    "\n",
    "The steps below are more-or-less identical to the steps above. **Make sure that you have a** `pacbio_runs` **key in the** [`config.yml`](config.yml) **file** with the correct information filled out. Click on the heading to expand the instructions as you need them."
   ]
  },
  {
   "cell_type": "markdown",
   "id": "55c2a360",
   "metadata": {},
   "source": [
    "---\n",
    "<details>\n",
    "\n",
    "<summary><h1> &#9758; Create the BioSample for your PacBio</h1></summary>\n",
    "\n",
    "Just like you did above, go to the [SRA Submission Portal](https://submit.ncbi.nlm.nih.gov/subs/) and login.\n",
    "\n",
    "Then under the **`Start a new submission`** banner, click `BioSample` to create a new BioSample. You are now on a page that has a blue **`New Submission`** button, which you should select. This will bring you to a page with some Submitter information; check that it is correct and then hit **`Continue`**. \n",
    "\n",
    "You will then be on the **`General Information`** page. Select when to release the submission to the public (*generally, immediately is OK*). Then click that you are uploading a `Single BioSample` and hit **`Continue`**.\n",
    "\n",
    "You will now be at the **`Sample Type`** page, and you have to select the package that best describes the submission. Click `Microbe`. Then click **`Continue`**. \n",
    "\n",
    "Now, you will enter the sample attributes. For the sample name, provide a short name that describes the sample, such as `SARS-CoV-2_Omicron_BA.1_spike_DMS_mAbs_PacBio_CCSs`. Also provide the rest of the information by editing the first section of the [`config.yml`](config.yml) in this directory. **Run the cell below to check what you've set and will need to add to the SRA.** \n",
    "    \n",
    "</details>"
   ]
  },
  {
   "cell_type": "code",
   "execution_count": 15,
   "id": "37ad7e27",
   "metadata": {},
   "outputs": [],
   "source": [
    "# Load in the config again and check that there is pacbio sequencing.\n",
    "# End the notebook here if there isn't.\n",
    "with open('config.yml') as f:\n",
    "    config = yaml.safe_load(f)\n",
    "\n",
    "if \"pacbio_runs\" not in config.keys(): \n",
    "    raise Exception(\"It looks like you don't have PacBio sequencing info in your config. You might be done.\")"
   ]
  },
  {
   "cell_type": "code",
   "execution_count": 16,
   "id": "d72eb545",
   "metadata": {},
   "outputs": [
    {
     "name": "stdout",
     "output_type": "stream",
     "text": [
      "\n",
      "Organism: severe acute respiratory syndrome coronavirus 2\n",
      "\n",
      "Strain: Delta\n",
      "\n",
      "Isolation Source: plasmid\n",
      "\n",
      "Collection Data: 2022\n",
      "\n",
      "Geographic Location: USA: Washington\n",
      "\n",
      "Sample Type: plasmid\n",
      "\n"
     ]
    }
   ],
   "source": [
    "print(\n",
    "f\"\"\"\n",
    "Organism: {config['organism']}\\n\n",
    "Strain: {config['strain']}\\n\n",
    "Isolation Source: plasmid\\n\n",
    "Collection Data: {config['collection_date']}\\n\n",
    "Geographic Location: {config['geographic_location']}\\n\n",
    "Sample Type: plasmid\n",
    "\"\"\"\n",
    ")"
   ]
  },
  {
   "cell_type": "markdown",
   "id": "16d857f1",
   "metadata": {},
   "source": [
    "<details>\n",
    "    <summary><strong>Click to see details</strong></summary>\n",
    "\n",
    "In addition to these values, there will be a field for **`Custom Attributes`**. Under this field, add `name`: `experiment type`, and `value`: `link barcodes to variants`. Then hit **`Continue`**.\n",
    "\n",
    "You will now be on the page to specify the `BioProject`. You should either be adding to an existing BioProject, or have created a new on according to the instructions above. Enter the correct ID in the format of `PRJNAXXXXXX` as the **`Existing BioProject`** and hit **`Continue`**.\n",
    "\n",
    "Finally, add a sample title, such as `\"PacBio sequencing to link barcodes to variants for mutational antigenic profiling of Omicron BA.1 Spike.\"` Then hit **`Continue`**, make sure everything looks correct, then hit **`Submit`**.\n",
    "\n",
    "After a brief bit of processing, the `BioSample` submission should show up, along with a sample accession that will be in the format of `SAMNXXXXXXX`. Add this sample accession to [`config.yml`](config.yml) as the value for the `accession` key **under the `pacbio_runs` key.**\n",
    "</details>"
   ]
  },
  {
   "cell_type": "code",
   "execution_count": 17,
   "id": "63792f91",
   "metadata": {},
   "outputs": [
    {
     "name": "stdout",
     "output_type": "stream",
     "text": [
      "The BioSample accession for these PacBio Variant Linking runs is: SAMN31230634\n",
      "The BioProject accession for these is: PRJNA889020\n"
     ]
    }
   ],
   "source": [
    "with open('config.yml') as f:\n",
    "    config = yaml.safe_load(f)\n",
    "print(f\"The BioSample accession for these PacBio Variant Linking runs is: {config['pacbio_runs']['accession']}\")\n",
    "print(f\"The BioProject accession for these is: {BioProject_ID}\")"
   ]
  },
  {
   "cell_type": "markdown",
   "id": "1567dd44",
   "metadata": {},
   "source": [
    "---\n",
    "<details>\n",
    "<summary><h2> &#9758; Upload the sequencing data</h2></summary>\n",
    "\n",
    "Go back to the [SRA Submission Portal](https://submit.ncbi.nlm.nih.gov/subs/) and login again. This time, under the **`Start a new submission banner`**, click **`Sequence Read Archive`** to upload the actual sequencing data.\n",
    "\n",
    "You are now on a page with a **`New submission`** button, which you should click. Check that the submitter information is correct, then click **`Continue`**.\n",
    "\n",
    "You will now be at the **`General Information`** page. We are adding to an existing `BioProject`, so enter the correct `BioProject` accession as the **`Existing BioProject`**. Then for the question of whether you already registered a `BioSample`, also select yes. Then select a Release Date depending on whether you want to release the results immediately (*usually fine*) or at some future date. Then click **`Continue`**.\n",
    "\n",
    "You will now be at a page that asks how you want to provide the `SRA Metadata`. Click to Upload a file. The next section describes how to create this table.\n",
    "</details>"
   ]
  },
  {
   "cell_type": "markdown",
   "id": "0bf1e29c",
   "metadata": {},
   "source": [
    "---\n",
    "<details>\n",
    "\n",
    "<summary><h2>&#9758; Create SRA metadata submission table</h2></summary>\n",
    "    \n",
    "To create the SRA metadata submission table for the PacBio runs, you'll edit the values under the `pacbio_runs` key in the [`config.yml`](config.yml) file in this directory. \n",
    "\n",
    "For the key `pacbio_runs` >> `file_path`, add the path to a `*.csv` file with **only** the barcode runs that you're going to submit to the SRA for *this BioSample*. This will be named something like `PacBio_runs.csv`.\n",
    "\n",
    "After you've edited the [`config.yml`](config.yml) file, run the cell below to double-check that the values are correct. \n",
    "</details>"
   ]
  },
  {
   "cell_type": "code",
   "execution_count": 18,
   "id": "f242940e",
   "metadata": {},
   "outputs": [
    {
     "name": "stdout",
     "output_type": "stream",
     "text": [
      "file_path: ../data/PacBio_runs.csv\n",
      " accession: SAMN31230634\n",
      " title_prefix: PacBio CCSs linking variants to barcodes for SARS-CoV-2 Delta spike deep mutational scanning for\n",
      " description: Restriction digest of plasmids carrying barcoded spike variants\n",
      " strategy: Synthetic-Long-Read\n",
      " source: SYNTHETIC\n",
      " selection: Restriction Digest\n",
      " layout: single\n",
      " platform: PACBIO_SMRT\n",
      " model: PacBio Sequel II\n",
      "\n"
     ]
    }
   ],
   "source": [
    "with open('config.yml') as f:\n",
    "    config = yaml.safe_load(f)\n",
    "\n",
    "print(*[f\"{k}: {v}\\n\" for k,v in config['pacbio_runs'].items() if k != \"ftp_subfolder\"])"
   ]
  },
  {
   "cell_type": "markdown",
   "id": "f397bae2",
   "metadata": {},
   "source": [
    "If these values are correct, run the cell below to make the `pacbio_SRA_metadata.tsv` file for the runs that you're including in this `BioSample` submission and save a file containing the paths to the files for upload.\n",
    "\n",
    "**Check that the table looks like you expect it to!**"
   ]
  },
  {
   "cell_type": "code",
   "execution_count": 21,
   "id": "e545d557",
   "metadata": {},
   "outputs": [
    {
     "data": {
      "text/html": [
       "<div>\n",
       "<style scoped>\n",
       "    .dataframe tbody tr th:only-of-type {\n",
       "        vertical-align: middle;\n",
       "    }\n",
       "\n",
       "    .dataframe tbody tr th {\n",
       "        vertical-align: top;\n",
       "    }\n",
       "\n",
       "    .dataframe thead th {\n",
       "        text-align: right;\n",
       "    }\n",
       "</style>\n",
       "<table border=\"1\" class=\"dataframe\">\n",
       "  <thead>\n",
       "    <tr style=\"text-align: right;\">\n",
       "      <th></th>\n",
       "      <th>biosample_accession</th>\n",
       "      <th>library_ID</th>\n",
       "      <th>title</th>\n",
       "      <th>library_strategy</th>\n",
       "      <th>library_source</th>\n",
       "      <th>library_selection</th>\n",
       "      <th>library_layout</th>\n",
       "      <th>platform</th>\n",
       "      <th>instrument_model</th>\n",
       "      <th>design_description</th>\n",
       "      <th>filetype</th>\n",
       "      <th>filename</th>\n",
       "    </tr>\n",
       "  </thead>\n",
       "  <tbody>\n",
       "    <tr>\n",
       "      <th>0</th>\n",
       "      <td>SAMN31230634</td>\n",
       "      <td>Lib-1_211105_PacBio_CCSs</td>\n",
       "      <td>PacBio CCSs linking variants to barcodes for S...</td>\n",
       "      <td>Synthetic-Long-Read</td>\n",
       "      <td>SYNTHETIC</td>\n",
       "      <td>Restriction Digest</td>\n",
       "      <td>single</td>\n",
       "      <td>PACBIO_SMRT</td>\n",
       "      <td>PacBio Sequel II</td>\n",
       "      <td>Restriction digest of plasmids carrying barcod...</td>\n",
       "      <td>fastq</td>\n",
       "      <td>Lib-1_211105_PacBio_CCSs.fastq.gz</td>\n",
       "    </tr>\n",
       "    <tr>\n",
       "      <th>1</th>\n",
       "      <td>SAMN31230634</td>\n",
       "      <td>Lib-3_211105_PacBio_CCSs</td>\n",
       "      <td>PacBio CCSs linking variants to barcodes for S...</td>\n",
       "      <td>Synthetic-Long-Read</td>\n",
       "      <td>SYNTHETIC</td>\n",
       "      <td>Restriction Digest</td>\n",
       "      <td>single</td>\n",
       "      <td>PACBIO_SMRT</td>\n",
       "      <td>PacBio Sequel II</td>\n",
       "      <td>Restriction digest of plasmids carrying barcod...</td>\n",
       "      <td>fastq</td>\n",
       "      <td>Lib-3_211105_PacBio_CCSs.fastq.gz</td>\n",
       "    </tr>\n",
       "    <tr>\n",
       "      <th>2</th>\n",
       "      <td>SAMN31230634</td>\n",
       "      <td>Lib-2_211105_PacBio_CCSs</td>\n",
       "      <td>PacBio CCSs linking variants to barcodes for S...</td>\n",
       "      <td>Synthetic-Long-Read</td>\n",
       "      <td>SYNTHETIC</td>\n",
       "      <td>Restriction Digest</td>\n",
       "      <td>single</td>\n",
       "      <td>PACBIO_SMRT</td>\n",
       "      <td>PacBio Sequel II</td>\n",
       "      <td>Restriction digest of plasmids carrying barcod...</td>\n",
       "      <td>fastq</td>\n",
       "      <td>Lib-2_211105_PacBio_CCSs.fastq.gz</td>\n",
       "    </tr>\n",
       "    <tr>\n",
       "      <th>3</th>\n",
       "      <td>SAMN31230634</td>\n",
       "      <td>Lib-4_211105_PacBio_CCSs</td>\n",
       "      <td>PacBio CCSs linking variants to barcodes for S...</td>\n",
       "      <td>Synthetic-Long-Read</td>\n",
       "      <td>SYNTHETIC</td>\n",
       "      <td>Restriction Digest</td>\n",
       "      <td>single</td>\n",
       "      <td>PACBIO_SMRT</td>\n",
       "      <td>PacBio Sequel II</td>\n",
       "      <td>Restriction digest of plasmids carrying barcod...</td>\n",
       "      <td>fastq</td>\n",
       "      <td>Lib-4_211105_PacBio_CCSs.fastq.gz</td>\n",
       "    </tr>\n",
       "    <tr>\n",
       "      <th>4</th>\n",
       "      <td>SAMN31230634</td>\n",
       "      <td>Lib-1_220124_PacBio_CCSs</td>\n",
       "      <td>PacBio CCSs linking variants to barcodes for S...</td>\n",
       "      <td>Synthetic-Long-Read</td>\n",
       "      <td>SYNTHETIC</td>\n",
       "      <td>Restriction Digest</td>\n",
       "      <td>single</td>\n",
       "      <td>PACBIO_SMRT</td>\n",
       "      <td>PacBio Sequel II</td>\n",
       "      <td>Restriction digest of plasmids carrying barcod...</td>\n",
       "      <td>fastq</td>\n",
       "      <td>Lib-1_220124_PacBio_CCSs.fastq.gz</td>\n",
       "    </tr>\n",
       "  </tbody>\n",
       "</table>\n",
       "</div>"
      ],
      "text/plain": [
       "  biosample_accession                library_ID  \\\n",
       "0        SAMN31230634  Lib-1_211105_PacBio_CCSs   \n",
       "1        SAMN31230634  Lib-3_211105_PacBio_CCSs   \n",
       "2        SAMN31230634  Lib-2_211105_PacBio_CCSs   \n",
       "3        SAMN31230634  Lib-4_211105_PacBio_CCSs   \n",
       "4        SAMN31230634  Lib-1_220124_PacBio_CCSs   \n",
       "\n",
       "                                               title     library_strategy  \\\n",
       "0  PacBio CCSs linking variants to barcodes for S...  Synthetic-Long-Read   \n",
       "1  PacBio CCSs linking variants to barcodes for S...  Synthetic-Long-Read   \n",
       "2  PacBio CCSs linking variants to barcodes for S...  Synthetic-Long-Read   \n",
       "3  PacBio CCSs linking variants to barcodes for S...  Synthetic-Long-Read   \n",
       "4  PacBio CCSs linking variants to barcodes for S...  Synthetic-Long-Read   \n",
       "\n",
       "  library_source   library_selection library_layout     platform  \\\n",
       "0      SYNTHETIC  Restriction Digest         single  PACBIO_SMRT   \n",
       "1      SYNTHETIC  Restriction Digest         single  PACBIO_SMRT   \n",
       "2      SYNTHETIC  Restriction Digest         single  PACBIO_SMRT   \n",
       "3      SYNTHETIC  Restriction Digest         single  PACBIO_SMRT   \n",
       "4      SYNTHETIC  Restriction Digest         single  PACBIO_SMRT   \n",
       "\n",
       "   instrument_model                                 design_description  \\\n",
       "0  PacBio Sequel II  Restriction digest of plasmids carrying barcod...   \n",
       "1  PacBio Sequel II  Restriction digest of plasmids carrying barcod...   \n",
       "2  PacBio Sequel II  Restriction digest of plasmids carrying barcod...   \n",
       "3  PacBio Sequel II  Restriction digest of plasmids carrying barcod...   \n",
       "4  PacBio Sequel II  Restriction digest of plasmids carrying barcod...   \n",
       "\n",
       "  filetype                           filename  \n",
       "0    fastq  Lib-1_211105_PacBio_CCSs.fastq.gz  \n",
       "1    fastq  Lib-3_211105_PacBio_CCSs.fastq.gz  \n",
       "2    fastq  Lib-2_211105_PacBio_CCSs.fastq.gz  \n",
       "3    fastq  Lib-4_211105_PacBio_CCSs.fastq.gz  \n",
       "4    fastq  Lib-1_220124_PacBio_CCSs.fastq.gz  "
      ]
     },
     "execution_count": 21,
     "metadata": {},
     "output_type": "execute_result"
    }
   ],
   "source": [
    "sra_metadata.format_metadata_tsv(config, \"\", pacbio=True)\n",
    "\n",
    "if not all(map(os.path.isfile, [\"pacbio_SRA_metadata.tsv\", \"pacbio_fasta_files.csv\"])):\n",
    "    raise Exception(\"You're missing either one or both of the expected output files.\")\n",
    "\n",
    "pacbio_SRA_metadata = pd.read_csv(\"pacbio_SRA_metadata.tsv\", sep=\"\\t\")\n",
    "pacbio_SRA_metadata.head()"
   ]
  },
  {
   "cell_type": "markdown",
   "id": "61d7d562",
   "metadata": {},
   "source": [
    "---\n",
    "<details>\n",
    "    <summary><h2> &#9758; Upload the submission table </h2></summary>\n",
    "\n",
    "Now return to the [SRA Submission Portal](https://submit.ncbi.nlm.nih.gov/subs/sra/) webpage, and if needed navigate back to your submission. You should still be at the **`BioSample Attributes`** step, and see a **`Choose file`** box to upload your `BioSampe` attributes. Use this click box to upload the `pacbio_SRA_metadata.tsv` file that you just created in the step above. Then click **`Continue`**.\n",
    "\n",
    "After a little while, you should now get a page that asks you how you want to upload the files for this submission. Click the option for **`FTP or Aspera Command Line file preload`**.\n",
    "\n",
    "If you click on the **`+`** FTP upload instructions, you will see details. Add the `Username` and a`ccount folder` provided in these instructions to the [config.yml](config.yml) file as the values for the keys `ftp_username` and `ftp_account_folder` at the bottom of the file. Also add a value for the key `ftp_subfolder` that is meaningful for this particular submission under the `pacbio_runs` key. Finally, put the FTP password as plain text in a file called `ftp_password.txt` which is not tracked in this repo.\n",
    "</details>"
   ]
  },
  {
   "cell_type": "code",
   "execution_count": 22,
   "id": "98146840",
   "metadata": {},
   "outputs": [
    {
     "name": "stdout",
     "output_type": "stream",
     "text": [
      "\n",
      "ftp_username: subftp\n",
      "ftp_account_folder: uploads/whannon_fredhutch.org_K2yAcKhg\n",
      "ftp_subfolder: Delta_spike_DMS_pacbio_ccss\n",
      "\n",
      "ftp_password.txt Exists!\n"
     ]
    }
   ],
   "source": [
    "with open('config.yml') as f:\n",
    "    config = yaml.safe_load(f)\n",
    "    \n",
    "print(f\"\"\"\n",
    "ftp_username: {config['ftp_username']}\n",
    "ftp_account_folder: {config['ftp_account_folder']}\n",
    "ftp_subfolder: {config['pacbio_runs']['ftp_subfolder']}\n",
    "\"\"\")\n",
    "\n",
    "if os.path.isfile('ftp_password.txt'):\n",
    "    print(\"ftp_password.txt Exists!\")\n",
    "else:\n",
    "    raise Exception(\"Make sure that ftp_password.txt exists in this directory.\")\n"
   ]
  },
  {
   "cell_type": "markdown",
   "id": "03280bd1",
   "metadata": {},
   "source": [
    "---\n",
    "<details>\n",
    "    <summary><h2> &#9758; Upload the sequencing data</h2></summary>\n",
    "\n",
    "Now we need to upload the actual sequencing data. This is done by running the cells below. It first creates a very large `*.tar` file called `SRA_submission.tar` that contains all the `fastqs` specified in the Illumina Barcode metadata. \n",
    "\n",
    "**Run the cell below to make this file. This can take a bit.**\n",
    "</details>"
   ]
  },
  {
   "cell_type": "code",
   "execution_count": 23,
   "id": "bd5b4cb0",
   "metadata": {},
   "outputs": [
    {
     "name": "stdout",
     "output_type": "stream",
     "text": [
      "Concatenating and Adding file 1 of 8 to pacbio_SRA_submission.tar\n",
      "Concatenating and Adding file 8 of 8 to pacbio_SRA_submission.tar\n",
      "Added all files to pacbio_SRA_submission.tar\n",
      "\n",
      "Removing tmp directory.\n",
      "\n",
      "The size of pacbio_SRA_submission.tar is 10.1 GB\n",
      "\n",
      "pacbio_SRA_submission.tar contains all 8 expected files.\n",
      "\n",
      "Finished preparing the tar file for upload.\n"
     ]
    }
   ],
   "source": [
    "ftp_upload.make_tar_file(\"pacbio_fasta_files.csv\", \"pacbio_SRA_submission.tar\")"
   ]
  },
  {
   "cell_type": "markdown",
   "id": "b4c5c8b9",
   "metadata": {},
   "source": [
    "If the size of the `*.tar` file is what you expect, **run the chunk below to use FTP to upload the file to the SRA.** This can take a pretty long time to finish running, <strong style=color:red;>so if you have more than 5 gbs of data to upload, do not run this.</strong>"
   ]
  },
  {
   "cell_type": "code",
   "execution_count": 24,
   "id": "56957852",
   "metadata": {},
   "outputs": [],
   "source": [
    "# upload_via_ftp(tar_path=\"pacbio_SRA_submission.tar\",\n",
    "#                ftp_username=config['ftp_username'],\n",
    "#                ftp_account_folder=config['ftp_account_folder'],\n",
    "#                ftp_subfolder=config['pacbio_runs']['ftp_subfolder'],\n",
    "#                ftp_address='ftp-private.ncbi.nlm.nih.gov',\n",
    "#                ftp_password='ftp_password.txt'\n",
    "#               ) "
   ]
  },
  {
   "cell_type": "markdown",
   "id": "73650a3b",
   "metadata": {},
   "source": [
    "<strong style=color:red;>Instead, because this can take a very long time for large amounts of data, run this from the command line and submit to `slurm` as follows:</strong> \n",
    "\n",
    "\n",
    "```\n",
    "sbatch --wrap \"python utils/ftp_upload.py --config config.yml --sampletype pacbio\" --time 2-0\n",
    "```"
   ]
  },
  {
   "cell_type": "markdown",
   "id": "4e7a0502",
   "metadata": {},
   "source": [
    "Finally, return to the SRA submission webpage for the reads, and check the blue **`Select preload folder`** box. Note that you need to wait about 10 minutes for the pre-load folder to become visible. The click to select the folder you created (this is the `ftp_subfolder` defined in `config.yaml`) and click Use selected folder. Finally, check **`Autofinish submission`** box and hit Continue. You will get a warning that files are missing since you uploaded a `*.tar` archive; do not worry about this and just click **`Continue`**.\n",
    "\n",
    "The webpage will then indicate it is extracting files from the `*.tar`, so wait for this to finish. It should then show that your submission is complete and just waiting for processing."
   ]
  },
  {
   "cell_type": "markdown",
   "id": "6bdb3a62",
   "metadata": {},
   "source": [
    "<h1 style=color:green;>&#127881; Congrats, you're done! &#127881;</h1>"
   ]
  }
 ],
 "metadata": {
  "kernelspec": {
   "display_name": "Python 3 (ipykernel)",
   "language": "python",
   "name": "python3"
  },
  "language_info": {
   "codemirror_mode": {
    "name": "ipython",
    "version": 3
   },
   "file_extension": ".py",
   "mimetype": "text/x-python",
   "name": "python",
   "nbconvert_exporter": "python",
   "pygments_lexer": "ipython3",
   "version": "3.7.6"
  }
 },
 "nbformat": 4,
 "nbformat_minor": 5
}
