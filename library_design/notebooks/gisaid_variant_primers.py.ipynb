{
 "cells": [
  {
   "cell_type": "markdown",
   "metadata": {},
   "source": [
    "# Generate primers for spike mutations in GISAID alignments"
   ]
  },
  {
   "cell_type": "markdown",
   "metadata": {},
   "source": [
    "This script takes `spike_alignment_counts.csv` table, filters it for amino acids that are not already present in variant sequence and runs `create_primers_del.py` script to generate primers."
   ]
  },
  {
   "cell_type": "code",
   "execution_count": 1,
   "metadata": {},
   "outputs": [],
   "source": [
    "import pandas as pd\n",
    "from plotnine import *\n",
    "from Bio.SeqUtils import MeltingTemp as mt\n",
    "import statistics"
   ]
  },
  {
   "cell_type": "code",
   "execution_count": 2,
   "metadata": {},
   "outputs": [],
   "source": [
    "# import snakemake variables\n",
    "gisaid_mutations = snakemake.input.gisaid_mutations\n",
    "reference_lookup  = snakemake.input.reference_lookup\n",
    "codon_table = snakemake.input.codon_table\n",
    "spike_extended = snakemake.input.spike_extended\n",
    "create_primers_srcipt = snakemake.input.create_primers_srcipt\n",
    "gisaid_mutation_count_filter = snakemake.params.gisaid_mutation_count_filter\n",
    "\n",
    "variant_gisaid_mutations_out = snakemake.output.variant_gisaid_mutations\n",
    "variant_gisaid_primers_del = snakemake.output.variant_gisaid_primers_del\n",
    "variant_gisaid_primers = snakemake.output.variant_gisaid_primers"
   ]
  },
  {
   "cell_type": "code",
   "execution_count": 3,
   "metadata": {},
   "outputs": [],
   "source": [
    "gisaid_mutations = pd.read_csv(gisaid_mutations)\n",
    "reference_lookup = pd.read_csv(reference_lookup)"
   ]
  },
  {
   "cell_type": "code",
   "execution_count": 4,
   "metadata": {},
   "outputs": [],
   "source": [
    "#remove GISAID mutations that are in variant spike already\n",
    "#merge lookup and gisaid tables\n",
    "new_df = pd.merge(gisaid_mutations,\n",
    "                  reference_lookup,\n",
    "                  how='left',\n",
    "                  left_on=['site','amino_acid'],\n",
    "                  right_on = ['parent_pos','parent_seq'],\n",
    "                  indicator=True)\n",
    "\n",
    "#filter on amino acids not already present in variant\n",
    "new_df_noWU = new_df.loc[(new_df['_merge'] == 'left_only') | (new_df['variant_sig'] == 'Yes')]\n",
    "new_gisaid_mutations = new_df[new_df.index.isin(new_df_noWU.index)]\n",
    "new_gisaid_mutations = new_gisaid_mutations[['site','amino_acid','alignment_counts']]"
   ]
  },
  {
   "cell_type": "code",
   "execution_count": 5,
   "metadata": {},
   "outputs": [],
   "source": [
    "#now merge tables just on parent position, sort by position, and renumber by variant\n",
    "new_gisaid_mutations = pd.merge(new_gisaid_mutations,\n",
    "                  reference_lookup,\n",
    "                  how='left',\n",
    "                  left_on=['site'],\n",
    "                  right_on = ['parent_pos'])\n",
    "\n",
    "#drop positions with NaN in parent sequence removed CTD amino acids\n",
    "new_gisaid_mutations = new_gisaid_mutations[new_gisaid_mutations['parent_pos'].notna()]\n",
    "new_gisaid_mutations = new_gisaid_mutations.sort_values(by=['site'],ignore_index=True )"
   ]
  },
  {
   "cell_type": "code",
   "execution_count": 6,
   "metadata": {},
   "outputs": [],
   "source": [
    "#drop mutations that occur only once\n",
    "new_gisaid_mutations=new_gisaid_mutations.loc[new_gisaid_mutations['alignment_counts'] > gisaid_mutation_count_filter]"
   ]
  },
  {
   "cell_type": "code",
   "execution_count": 7,
   "metadata": {},
   "outputs": [],
   "source": [
    "#create new table with mutations according to variant numbering\n",
    "variant_gisaid_mutations = new_gisaid_mutations[['variant_pos', 'amino_acid', 'alignment_counts']].copy()\n",
    "variant_gisaid_mutations = variant_gisaid_mutations.rename(\n",
    "                            columns={\"variant_pos\": \"site\",\n",
    "                                     \"amino_acid\": \"mutant\",\n",
    "                                     \"alignment_counts\": \"alignment_counts\" }\n",
    ")\n",
    "variant_gisaid_mutations.to_csv(variant_gisaid_mutations_out, index=False) "
   ]
  },
  {
   "cell_type": "code",
   "execution_count": 8,
   "metadata": {},
   "outputs": [
    {
     "name": "stdout",
     "output_type": "stream",
     "text": [
      "Read the following command line arguments\n",
      "\tsequencefile = ../reference_sequences/B16172_extended_ends_for_primers.txt\n",
      "\tmutations_csv = ../results/variant_gisaid_mutations.csv\n",
      "\tcodon_frequency_csv = ../reference_sequences/homo_codon_freq_del.csv\n",
      "\tprimerprefix = variantGISAID\n",
      "\toutfile = ../results/primers/variant_gisaid_primers_del.csv\n",
      "\tstartprimerlength = 37\n",
      "\tmaxprimertm = 61.5\n",
      "\tminprimertm = 60.5\n",
      "\tminlength = 25\n",
      "\tmaxlength = 51\n",
      "Read a sequence of length 3842 from ../reference_sequences/B16172_extended_ends_for_primers.txt:\n",
      "cagccgagccacatcgctcaacgcgtgccaccATGTTTGTGTTCCTGGTGCTGCTGCCACTGGTGTCCAGCCAGTGTGTGAACCTGAGAACCAGGACCCAACTTCCTCCTGCCTACACCAACTCCTTCACCAGGGGAGTCTACTACCCTGACAAGGTGTTCAGGTCCTCTGTGCTGCACAGCACCCAGGACCTGTTCCTGCCATTCTTCAGCAATGTGACCTGGTTCCATGCCATCCATGTGTCTGGCACCAATGGCACCAAGAGGTTTGACAACCCTGTGCTGCCATTCAATGATGGAGTCTACTTTGCCAGCACAGAGAAGAGCAACATCATCAGGGGCTGGATTTTTGGCACCACCCTGGACAGCAAGACCCAGTCCCTGCTGATTGTGAACAATGCCACCAATGTGGTGATTAAGGTGTGTGAGTTCCAGTTCTGTAATGACCCATTCCTGGACGTCTACTACCACAAGAACAACAAGTCCTGGATGGAGTCTGGAGTCTACTCCTCTGCCAACAACTGTACCTTTGAATATGTGAGCCAACCATTCCTGATGGACTTGGAGGGCAAGCAGGGCAACTTCAAGAACCTGAGGGAGTTTGTGTTCAAGAACATTGATGGCTACTTCAAGATTTACAGCAAACACACACCAATCAACCTGGTGAGGGACCTGCCACAGGGCTTCTCTGCCTTGGAACCACTGGTGGACCTGCCAATTGGCATCAACATCACCAGGTTCCAGACCCTGCTGGCTCTGCACAGGTCCTACCTGACACCTGGAGACTCCTCCTCTGGCTGGACAGCAGGAGCAGCAGCCTACTATGTGGGCTACCTCCAACCAAGGACCTTCCTGCTGAAATACAATGAGAATGGCACCATCACAGATGCTGTGGACTGTGCCCTGGACCCACTGTCTGAGACCAAGTGTACCCTGAAATCCTTCACAGTGGAGAAGGGCATCTACCAGACCAGCAACTTCAGGGTCCAACCAACAGAGAGCATTGTGAGGTTTCCAAACATCACCAACCTGTGTCCATTTGGAGAGGTGTTCAATGCCACCAGGTTTGCCTCTGTCTATGCCTGGAACAGGAAGAGGATTAGCAACTGTGTGGCTGACTACTCTGTGCTCTACAACTCTGCCTCCTTCAGCACCTTCAAGTGTTATGGAGTGAGCCCAACCAAACTGAATGACCTGTGTTTCACCAATGTCTATGCTGACTCCTTTGTGATTAGGGGAGATGAGGTGAGACAGATTGCCCCTGGACAAACAGGCAAGATTGCTGACTACAACTACAAACTGCCTGATGACTTCACAGGCTGTGTGATTGCCTGGAACAGCAACAACCTGGACAGCAAGGTGGGAGGCAACTACAACTACAGATACAGACTGTTCAGGAAGAGCAACCTGAAACCATTTGAGAGGGACATCAGCACAGAGATTTACCAGGCTGGCAGCAAGCCATGTAATGGAGTGGAGGGCTTCAACTGTTACTTTCCACTCCAATCCTATGGCTTCCAACCAACCAATGGAGTGGGCTACCAACCATACAGGGTGGTGGTGCTGTCCTTTGAACTGCTCCATGCCCCTGCCACAGTGTGTGGACCAAAGAAGAGCACCAACCTGGTGAAGAACAAGTGTGTGAACTTCAACTTCAATGGACTGACAGGCACAGGAGTGCTGACAGAGAGCAACAAGAAGTTCCTGCCATTCCAACAGTTTGGCAGGGACATTGCTGACACCACAGATGCTGTGAGGGACCCACAGACCTTGGAGATTCTGGACATCACACCATGTTCCTTTGGAGGAGTGTCTGTGATTACACCTGGCACCAACACCAGCAACCAGGTGGCTGTGCTCTACCAGGGTGTGAACTGTACTGAGGTGCCTGTGGCTATCCATGCTGACCAACTTACACCAACCTGGAGGGTCTACAGCACAGGCAGCAATGTGTTCCAGACCAGGGCTGGCTGTCTGATTGGAGCAGAGCATGTGAACAACTCCTATGAGTGTGACATCCCAATTGGAGCAGGCATCTGTGCCTCCTACCAGACCCAGACCAACAGCAGAAGGAGGGCAAGGTCTGTGGCAAGCCAGAGCATCATTGCCTACACAATGAGTCTGGGAGCAGAGAACTCTGTGGCTTACAGCAACAACAGCATTGCCATCCCAACCAACTTCACCATCTCTGTGACCACAGAGATTCTGCCTGTGAGTATGACCAAGACCTCTGTGGACTGTACAATGTATATCTGTGGAGACAGCACAGAGTGTAGCAACCTGCTGCTCCAATATGGCTCCTTCTGTACCCAACTTAACAGGGCTCTGACAGGCATTGCTGTGGAACAGGACAAGAACACCCAGGAGGTGTTTGCCCAGGTGAAGCAGATTTACAAGACACCTCCAATCAAGGACTTTGGAGGCTTCAACTTCAGCCAGATTCTGCCTGACCCAAGCAAGCCAAGCAAGAGGTCCTTCATTGAGGACCTGCTGTTCAACAAGGTGACCCTGGCTGATGCTGGCTTCATCAAGCAATATGGAGACTGTCTGGGAGACATTGCTGCCAGGGACCTGATTTGTGCCCAGAAGTTCAATGGACTGACAGTGCTGCCTCCACTGCTGACAGATGAGATGATTGCCCAATACACCTCTGCCCTGCTGGCTGGCACCATCACCTCTGGCTGGACCTTTGGAGCAGGAGCAGCCCTCCAAATCCCATTTGCTATGCAGATGGCTTACAGGTTCAATGGCATTGGAGTGACCCAGAATGTGCTCTATGAGAACCAGAAACTGATTGCCAACCAGTTCAACTCTGCCATTGGCAAGATTCAGGACTCCCTGTCCAGCACAGCCTCTGCCCTGGGCAAACTCCAAAACGTGGTGAACCAGAATGCCCAGGCTCTGAACACCCTGGTGAAGCAACTTTCCAGCAACTTTGGAGCCATCTCCTCTGTGCTGAATGACATCCTGAGCAGACTGGACAAGGTGGAGGCTGAGGTCCAGATTGACAGACTGATTACAGGCAGACTCCAATCCCTCCAAACCTATGTGACCCAACAACTTATCAGGGCTGCTGAGATTAGGGCATCTGCCAACCTGGCTGCCACCAAGATGAGTGAGTGTGTGCTGGGACAAAGCAAGAGGGTGGACTTCTGTGGCAAGGGCTACCACCTGATGAGTTTTCCACAGTCTGCCCCTCATGGAGTGGTGTTCCTGCATGTGACCTATGTGCCTGCCCAGGAGAAGAACTTCACCACAGCCCCTGCCATCTGCCATGATGGCAAGGCTCACTTTCCAAGGGAGGGAGTGTTTGTGAGCAATGGCACCCACTGGTTTGTGACCCAGAGGAACTTCTATGAACCACAGATTATCACCACAGACAACACCTTTGTGTCTGGCAACTGTGATGTGGTGATTGGCATTGTGAACAACACAGTCTATGACCCACTCCAACCTGAACTGGACTCCTTCAAGGAGGAACTGGACAAATACTTCAAGAACCACACCAGCCCTGATGTGGACCTGGGAGACATCTCTGGCATCAATGCCTCTGTGGTGAACATCCAGAAGGAGATTGACAGACTGAATGAGGTGGCTAAGAACCTGAATGAGTCCCTGATTGACCTCCAAGAACTGGGCAAATATGAACAATACATCAAGTGGCCATGGTACATCTGGCTGGGCTTCATTGCTGGACTGATTGCCATTGTGATGGTGACCATAATGCTGTGTTGTATGACCTCCTGTTGTTCCTGTCTGAAAGGCTGTTGTTCCTGTGGCTCCTGAtaatgaggcgcgcctagttggatcacactctttccctacacgacgctcttccgatct\n",
      "The primers will be named with the prefix variantGISAID\n",
      "Designed 5798 mutation forward primers.\n",
      "Designed 5798 mutation reverse primers.\n",
      "This gives a total of 11596 primers.\n",
      "\n",
      "Now writing these primers to ../results/primers/variant_gisaid_primers_del.csv\n"
     ]
    }
   ],
   "source": [
    "# run primer design script\n",
    "!python {create_primers_srcipt} \\\n",
    "    {spike_extended} \\\n",
    "    {variant_gisaid_mutations_out} \\\n",
    "    {codon_table} \\\n",
    "    variantGISAID \\\n",
    "    {variant_gisaid_primers_del} \\\n",
    "    --minprimertm 60.5 \\\n",
    "    --maxprimertm 61.5"
   ]
  },
  {
   "cell_type": "code",
   "execution_count": 9,
   "metadata": {},
   "outputs": [
    {
     "data": {
      "text/html": [
       "<div>\n",
       "<style scoped>\n",
       "    .dataframe tbody tr th:only-of-type {\n",
       "        vertical-align: middle;\n",
       "    }\n",
       "\n",
       "    .dataframe tbody tr th {\n",
       "        vertical-align: top;\n",
       "    }\n",
       "\n",
       "    .dataframe thead th {\n",
       "        text-align: right;\n",
       "    }\n",
       "</style>\n",
       "<table border=\"1\" class=\"dataframe\">\n",
       "  <thead>\n",
       "    <tr style=\"text-align: right;\">\n",
       "      <th></th>\n",
       "      <th>primer_name</th>\n",
       "      <th>seq</th>\n",
       "    </tr>\n",
       "  </thead>\n",
       "  <tbody>\n",
       "    <tr>\n",
       "      <th>0</th>\n",
       "      <td>variantGISAID-for-mut1-</td>\n",
       "      <td>cgcgtgccacc---TTTGTGTTCCTG</td>\n",
       "    </tr>\n",
       "    <tr>\n",
       "      <th>1</th>\n",
       "      <td>variantGISAID-for-mut1I</td>\n",
       "      <td>cgcgtgccaccATCTTTGTGTTCCT</td>\n",
       "    </tr>\n",
       "    <tr>\n",
       "      <th>2</th>\n",
       "      <td>variantGISAID-for-mut1V</td>\n",
       "      <td>cgcgtgccaccGTGTTTGTGTTCCT</td>\n",
       "    </tr>\n",
       "    <tr>\n",
       "      <th>3</th>\n",
       "      <td>variantGISAID-for-mut1L</td>\n",
       "      <td>cgcgtgccaccCTGTTTGTGTTCCT</td>\n",
       "    </tr>\n",
       "    <tr>\n",
       "      <th>4</th>\n",
       "      <td>variantGISAID-for-mut1N</td>\n",
       "      <td>cgcgtgccaccAACTTTGTGTTCCT</td>\n",
       "    </tr>\n",
       "    <tr>\n",
       "      <th>...</th>\n",
       "      <td>...</td>\n",
       "      <td>...</td>\n",
       "    </tr>\n",
       "    <tr>\n",
       "      <th>11591</th>\n",
       "      <td>variantGISAID-rev-mut1250C</td>\n",
       "      <td>gcctcattaTCAGCAGCCACAGGAACA</td>\n",
       "    </tr>\n",
       "    <tr>\n",
       "      <th>11592</th>\n",
       "      <td>variantGISAID-rev-mut1250T</td>\n",
       "      <td>gcctcattaTCAGGTGCCACAGGAACA</td>\n",
       "    </tr>\n",
       "    <tr>\n",
       "      <th>11593</th>\n",
       "      <td>variantGISAID-rev-mut1250-</td>\n",
       "      <td>gcgcctcattaTCA---GCCACAGGAACAA</td>\n",
       "    </tr>\n",
       "    <tr>\n",
       "      <th>11594</th>\n",
       "      <td>variantGISAID-rev-mut1250F</td>\n",
       "      <td>cgcctcattaTCAGAAGCCACAGGAACAA</td>\n",
       "    </tr>\n",
       "    <tr>\n",
       "      <th>11595</th>\n",
       "      <td>variantGISAID-rev-mut1250P</td>\n",
       "      <td>gcctcattaTCAGGGGCCACAGGAAC</td>\n",
       "    </tr>\n",
       "  </tbody>\n",
       "</table>\n",
       "<p>11596 rows × 2 columns</p>\n",
       "</div>"
      ],
      "text/plain": [
       "                      primer_name                              seq\n",
       "0         variantGISAID-for-mut1-       cgcgtgccacc---TTTGTGTTCCTG\n",
       "1         variantGISAID-for-mut1I        cgcgtgccaccATCTTTGTGTTCCT\n",
       "2         variantGISAID-for-mut1V        cgcgtgccaccGTGTTTGTGTTCCT\n",
       "3         variantGISAID-for-mut1L        cgcgtgccaccCTGTTTGTGTTCCT\n",
       "4         variantGISAID-for-mut1N        cgcgtgccaccAACTTTGTGTTCCT\n",
       "...                           ...                              ...\n",
       "11591  variantGISAID-rev-mut1250C      gcctcattaTCAGCAGCCACAGGAACA\n",
       "11592  variantGISAID-rev-mut1250T      gcctcattaTCAGGTGCCACAGGAACA\n",
       "11593  variantGISAID-rev-mut1250-   gcgcctcattaTCA---GCCACAGGAACAA\n",
       "11594  variantGISAID-rev-mut1250F    cgcctcattaTCAGAAGCCACAGGAACAA\n",
       "11595  variantGISAID-rev-mut1250P       gcctcattaTCAGGGGCCACAGGAAC\n",
       "\n",
       "[11596 rows x 2 columns]"
      ]
     },
     "execution_count": 9,
     "metadata": {},
     "output_type": "execute_result"
    }
   ],
   "source": [
    "#import primer table\n",
    "header_list = [\"primer_name\", \"seq\"]\n",
    "variantGISAID_primers = pd.read_csv(variant_gisaid_primers_del, names=header_list)\n",
    "variantGISAID_primers"
   ]
  },
  {
   "cell_type": "code",
   "execution_count": 10,
   "metadata": {},
   "outputs": [
    {
     "data": {
      "text/html": [
       "<div>\n",
       "<style scoped>\n",
       "    .dataframe tbody tr th:only-of-type {\n",
       "        vertical-align: middle;\n",
       "    }\n",
       "\n",
       "    .dataframe tbody tr th {\n",
       "        vertical-align: top;\n",
       "    }\n",
       "\n",
       "    .dataframe thead th {\n",
       "        text-align: right;\n",
       "    }\n",
       "</style>\n",
       "<table border=\"1\" class=\"dataframe\">\n",
       "  <thead>\n",
       "    <tr style=\"text-align: right;\">\n",
       "      <th></th>\n",
       "      <th>primer_name</th>\n",
       "      <th>seq</th>\n",
       "    </tr>\n",
       "  </thead>\n",
       "  <tbody>\n",
       "    <tr>\n",
       "      <th>0</th>\n",
       "      <td>variantGISAID-for-mut1-</td>\n",
       "      <td>cgcgtgccaccTTTGTGTTCCTG</td>\n",
       "    </tr>\n",
       "    <tr>\n",
       "      <th>1</th>\n",
       "      <td>variantGISAID-for-mut1I</td>\n",
       "      <td>cgcgtgccaccATCTTTGTGTTCCT</td>\n",
       "    </tr>\n",
       "    <tr>\n",
       "      <th>2</th>\n",
       "      <td>variantGISAID-for-mut1V</td>\n",
       "      <td>cgcgtgccaccGTGTTTGTGTTCCT</td>\n",
       "    </tr>\n",
       "    <tr>\n",
       "      <th>3</th>\n",
       "      <td>variantGISAID-for-mut1L</td>\n",
       "      <td>cgcgtgccaccCTGTTTGTGTTCCT</td>\n",
       "    </tr>\n",
       "    <tr>\n",
       "      <th>4</th>\n",
       "      <td>variantGISAID-for-mut1N</td>\n",
       "      <td>cgcgtgccaccAACTTTGTGTTCCT</td>\n",
       "    </tr>\n",
       "    <tr>\n",
       "      <th>...</th>\n",
       "      <td>...</td>\n",
       "      <td>...</td>\n",
       "    </tr>\n",
       "    <tr>\n",
       "      <th>11591</th>\n",
       "      <td>variantGISAID-rev-mut1250C</td>\n",
       "      <td>gcctcattaTCAGCAGCCACAGGAACA</td>\n",
       "    </tr>\n",
       "    <tr>\n",
       "      <th>11592</th>\n",
       "      <td>variantGISAID-rev-mut1250T</td>\n",
       "      <td>gcctcattaTCAGGTGCCACAGGAACA</td>\n",
       "    </tr>\n",
       "    <tr>\n",
       "      <th>11593</th>\n",
       "      <td>variantGISAID-rev-mut1250-</td>\n",
       "      <td>gcgcctcattaTCAGCCACAGGAACAA</td>\n",
       "    </tr>\n",
       "    <tr>\n",
       "      <th>11594</th>\n",
       "      <td>variantGISAID-rev-mut1250F</td>\n",
       "      <td>cgcctcattaTCAGAAGCCACAGGAACAA</td>\n",
       "    </tr>\n",
       "    <tr>\n",
       "      <th>11595</th>\n",
       "      <td>variantGISAID-rev-mut1250P</td>\n",
       "      <td>gcctcattaTCAGGGGCCACAGGAAC</td>\n",
       "    </tr>\n",
       "  </tbody>\n",
       "</table>\n",
       "<p>11596 rows × 2 columns</p>\n",
       "</div>"
      ],
      "text/plain": [
       "                      primer_name                             seq\n",
       "0         variantGISAID-for-mut1-         cgcgtgccaccTTTGTGTTCCTG\n",
       "1         variantGISAID-for-mut1I       cgcgtgccaccATCTTTGTGTTCCT\n",
       "2         variantGISAID-for-mut1V       cgcgtgccaccGTGTTTGTGTTCCT\n",
       "3         variantGISAID-for-mut1L       cgcgtgccaccCTGTTTGTGTTCCT\n",
       "4         variantGISAID-for-mut1N       cgcgtgccaccAACTTTGTGTTCCT\n",
       "...                           ...                             ...\n",
       "11591  variantGISAID-rev-mut1250C     gcctcattaTCAGCAGCCACAGGAACA\n",
       "11592  variantGISAID-rev-mut1250T     gcctcattaTCAGGTGCCACAGGAACA\n",
       "11593  variantGISAID-rev-mut1250-     gcgcctcattaTCAGCCACAGGAACAA\n",
       "11594  variantGISAID-rev-mut1250F   cgcctcattaTCAGAAGCCACAGGAACAA\n",
       "11595  variantGISAID-rev-mut1250P      gcctcattaTCAGGGGCCACAGGAAC\n",
       "\n",
       "[11596 rows x 2 columns]"
      ]
     },
     "execution_count": 10,
     "metadata": {},
     "output_type": "execute_result"
    }
   ],
   "source": [
    "#strip all --- strings that indicate deletions\n",
    "variantGISAID_primers['seq'] = variantGISAID_primers['seq'].replace('-', '', regex=True).astype(str)\n",
    "variantGISAID_primers"
   ]
  },
  {
   "cell_type": "markdown",
   "metadata": {},
   "source": [
    "## Analyse primers"
   ]
  },
  {
   "cell_type": "markdown",
   "metadata": {},
   "source": [
    "Analyse primer annealing temperatures."
   ]
  },
  {
   "cell_type": "code",
   "execution_count": 11,
   "metadata": {},
   "outputs": [
    {
     "data": {
      "text/html": [
       "<div>\n",
       "<style scoped>\n",
       "    .dataframe tbody tr th:only-of-type {\n",
       "        vertical-align: middle;\n",
       "    }\n",
       "\n",
       "    .dataframe tbody tr th {\n",
       "        vertical-align: top;\n",
       "    }\n",
       "\n",
       "    .dataframe thead th {\n",
       "        text-align: right;\n",
       "    }\n",
       "</style>\n",
       "<table border=\"1\" class=\"dataframe\">\n",
       "  <thead>\n",
       "    <tr style=\"text-align: right;\">\n",
       "      <th></th>\n",
       "      <th>primer_name</th>\n",
       "      <th>seq</th>\n",
       "      <th>Tm</th>\n",
       "      <th>length</th>\n",
       "    </tr>\n",
       "  </thead>\n",
       "  <tbody>\n",
       "    <tr>\n",
       "      <th>0</th>\n",
       "      <td>variantGISAID-for-mut1-</td>\n",
       "      <td>cgcgtgccaccTTTGTGTTCCTG</td>\n",
       "      <td>61.24</td>\n",
       "      <td>24</td>\n",
       "    </tr>\n",
       "    <tr>\n",
       "      <th>1</th>\n",
       "      <td>variantGISAID-for-mut1I</td>\n",
       "      <td>cgcgtgccaccATCTTTGTGTTCCT</td>\n",
       "      <td>62.12</td>\n",
       "      <td>26</td>\n",
       "    </tr>\n",
       "    <tr>\n",
       "      <th>2</th>\n",
       "      <td>variantGISAID-for-mut1V</td>\n",
       "      <td>cgcgtgccaccGTGTTTGTGTTCCT</td>\n",
       "      <td>64.39</td>\n",
       "      <td>26</td>\n",
       "    </tr>\n",
       "    <tr>\n",
       "      <th>3</th>\n",
       "      <td>variantGISAID-for-mut1L</td>\n",
       "      <td>cgcgtgccaccCTGTTTGTGTTCCT</td>\n",
       "      <td>63.95</td>\n",
       "      <td>26</td>\n",
       "    </tr>\n",
       "    <tr>\n",
       "      <th>4</th>\n",
       "      <td>variantGISAID-for-mut1N</td>\n",
       "      <td>cgcgtgccaccAACTTTGTGTTCCT</td>\n",
       "      <td>62.50</td>\n",
       "      <td>26</td>\n",
       "    </tr>\n",
       "    <tr>\n",
       "      <th>...</th>\n",
       "      <td>...</td>\n",
       "      <td>...</td>\n",
       "      <td>...</td>\n",
       "      <td>...</td>\n",
       "    </tr>\n",
       "    <tr>\n",
       "      <th>11591</th>\n",
       "      <td>variantGISAID-rev-mut1250C</td>\n",
       "      <td>gcctcattaTCAGCAGCCACAGGAACA</td>\n",
       "      <td>60.96</td>\n",
       "      <td>28</td>\n",
       "    </tr>\n",
       "    <tr>\n",
       "      <th>11592</th>\n",
       "      <td>variantGISAID-rev-mut1250T</td>\n",
       "      <td>gcctcattaTCAGGTGCCACAGGAACA</td>\n",
       "      <td>60.70</td>\n",
       "      <td>28</td>\n",
       "    </tr>\n",
       "    <tr>\n",
       "      <th>11593</th>\n",
       "      <td>variantGISAID-rev-mut1250-</td>\n",
       "      <td>gcgcctcattaTCAGCCACAGGAACAA</td>\n",
       "      <td>61.42</td>\n",
       "      <td>28</td>\n",
       "    </tr>\n",
       "    <tr>\n",
       "      <th>11594</th>\n",
       "      <td>variantGISAID-rev-mut1250F</td>\n",
       "      <td>cgcctcattaTCAGAAGCCACAGGAACAA</td>\n",
       "      <td>60.90</td>\n",
       "      <td>30</td>\n",
       "    </tr>\n",
       "    <tr>\n",
       "      <th>11595</th>\n",
       "      <td>variantGISAID-rev-mut1250P</td>\n",
       "      <td>gcctcattaTCAGGGGCCACAGGAAC</td>\n",
       "      <td>61.05</td>\n",
       "      <td>27</td>\n",
       "    </tr>\n",
       "  </tbody>\n",
       "</table>\n",
       "<p>11596 rows × 4 columns</p>\n",
       "</div>"
      ],
      "text/plain": [
       "                      primer_name                             seq     Tm  \\\n",
       "0         variantGISAID-for-mut1-         cgcgtgccaccTTTGTGTTCCTG  61.24   \n",
       "1         variantGISAID-for-mut1I       cgcgtgccaccATCTTTGTGTTCCT  62.12   \n",
       "2         variantGISAID-for-mut1V       cgcgtgccaccGTGTTTGTGTTCCT  64.39   \n",
       "3         variantGISAID-for-mut1L       cgcgtgccaccCTGTTTGTGTTCCT  63.95   \n",
       "4         variantGISAID-for-mut1N       cgcgtgccaccAACTTTGTGTTCCT  62.50   \n",
       "...                           ...                             ...    ...   \n",
       "11591  variantGISAID-rev-mut1250C     gcctcattaTCAGCAGCCACAGGAACA  60.96   \n",
       "11592  variantGISAID-rev-mut1250T     gcctcattaTCAGGTGCCACAGGAACA  60.70   \n",
       "11593  variantGISAID-rev-mut1250-     gcgcctcattaTCAGCCACAGGAACAA  61.42   \n",
       "11594  variantGISAID-rev-mut1250F   cgcctcattaTCAGAAGCCACAGGAACAA  60.90   \n",
       "11595  variantGISAID-rev-mut1250P      gcctcattaTCAGGGGCCACAGGAAC  61.05   \n",
       "\n",
       "       length  \n",
       "0          24  \n",
       "1          26  \n",
       "2          26  \n",
       "3          26  \n",
       "4          26  \n",
       "...       ...  \n",
       "11591      28  \n",
       "11592      28  \n",
       "11593      28  \n",
       "11594      30  \n",
       "11595      27  \n",
       "\n",
       "[11596 rows x 4 columns]"
      ]
     },
     "execution_count": 11,
     "metadata": {},
     "output_type": "execute_result"
    }
   ],
   "source": [
    "variantGISAID_primers['Tm'] = variantGISAID_primers.apply(lambda x: '%0.2f' % mt.Tm_NN(x.seq, strict=False), axis=1)\n",
    "variantGISAID_primers['Tm'] = variantGISAID_primers['Tm'].astype('float')\n",
    "variantGISAID_primers['length'] = variantGISAID_primers.apply(lambda x: len(x.seq), axis=1)\n",
    "variantGISAID_primers"
   ]
  },
  {
   "cell_type": "code",
   "execution_count": 12,
   "metadata": {
    "scrolled": true
   },
   "outputs": [
    {
     "data": {
      "image/png": "[encoded data removed]",
      "text/plain": [
       "<Figure size 640x480 with 1 Axes>"
      ]
     },
     "metadata": {},
     "output_type": "display_data"
    },
    {
     "data": {
      "text/plain": [
       "<bound method ggplot.draw of <ggplot: (8785669658329)>>"
      ]
     },
     "execution_count": 12,
     "metadata": {},
     "output_type": "execute_result"
    }
   ],
   "source": [
    "p = (ggplot(variantGISAID_primers) + \n",
    "     aes('length') + \n",
    "     geom_histogram(color='white',bins=30)\n",
    "    )\n",
    "\n",
    "p.draw"
   ]
  },
  {
   "cell_type": "code",
   "execution_count": 13,
   "metadata": {},
   "outputs": [
    {
     "name": "stderr",
     "output_type": "stream",
     "text": [
      "/fh/fast/bloom_j/software/miniconda3/envs/BloomLab/lib/python3.8/site-packages/plotnine/layer.py:467: PlotnineWarning: geom_histogram : Removed 2 rows containing missing values.\n"
     ]
    },
    {
     "data": {
      "image/png": "[encoded data removed]",
      "text/plain": [
       "<Figure size 640x480 with 1 Axes>"
      ]
     },
     "metadata": {},
     "output_type": "display_data"
    },
    {
     "data": {
      "text/plain": [
       "<bound method ggplot.draw of <ggplot: (8786314031942)>>"
      ]
     },
     "execution_count": 13,
     "metadata": {},
     "output_type": "execute_result"
    }
   ],
   "source": [
    "p = (ggplot(variantGISAID_primers) + \n",
    "     aes('Tm') + \n",
    "     geom_histogram(color='white', bins=30)+\n",
    "     xlim(58,72)\n",
    "    )\n",
    "\n",
    "p.draw"
   ]
  },
  {
   "cell_type": "code",
   "execution_count": 14,
   "metadata": {
    "scrolled": true
   },
   "outputs": [
    {
     "data": {
      "text/plain": [
       "1.7381507798540277"
      ]
     },
     "execution_count": 14,
     "metadata": {},
     "output_type": "execute_result"
    }
   ],
   "source": [
    "statistics.pvariance(variantGISAID_primers['Tm'])"
   ]
  },
  {
   "cell_type": "code",
   "execution_count": 15,
   "metadata": {},
   "outputs": [],
   "source": [
    "# finish by exporting primers\n",
    "variantGISAID_primers.to_csv(variant_gisaid_primers, index=False) "
   ]
  },
  {
   "cell_type": "code",
   "execution_count": null,
   "metadata": {},
   "outputs": [],
   "source": []
  }
 ],
 "metadata": {
  "kernelspec": {
   "display_name": "Python 3",
   "language": "python",
   "name": "python3"
  },
  "language_info": {
   "codemirror_mode": {
    "name": "ipython",
    "version": 3
   },
   "file_extension": ".py",
   "mimetype": "text/x-python",
   "name": "python",
   "nbconvert_exporter": "python",
   "pygments_lexer": "ipython3",
   "version": "3.8.5"
  }
 },
 "nbformat": 4,
 "nbformat_minor": 4
}
