{
 "cells": [
  {
   "cell_type": "markdown",
   "metadata": {},
   "source": [
    "# Positive selection primer design"
   ]
  },
  {
   "cell_type": "markdown",
   "metadata": {},
   "source": [
    "This notebook takes positive selection dataframe and designs NNS primers for each position"
   ]
  },
  {
   "cell_type": "code",
   "execution_count": 1,
   "metadata": {},
   "outputs": [],
   "source": [
    "import pandas as pd\n",
    "from plotnine import *\n",
    "from Bio.SeqUtils import MeltingTemp as mt\n",
    "import statistics"
   ]
  },
  {
   "cell_type": "code",
   "execution_count": null,
   "metadata": {},
   "outputs": [],
   "source": [
    "reference_lookup = snakemake.input.reference_lookup\n",
    "positive_sel_df = snakemake.input.positive_sel_df\n",
    "create_primers_srcipt = snakemake.input.create_primers_srcipt\n",
    "spike_extended = snakemake.input.spike_extended\n",
    "\n",
    "full_legth_spike_primers_NNG = snakemake.output.full_legth_spike_primers_NNG\n",
    "full_legth_spike_primers_NNC = snakemake.output.full_legth_spike_primers_NNC\n",
    "PS_legth_spike_primer_df_NNG_out = snakemake.output.PS_legth_spike_primer_df_NNG_out\n",
    "PS_legth_spike_primer_df_NNC_out = snakemake.output.PS_legth_spike_primer_df_NNC_out\n",
    "PS_legth_spike_primer_df_out = snakemake.output.PS_legth_spike_primer_df_out"
   ]
  },
  {
   "cell_type": "code",
   "execution_count": null,
   "metadata": {},
   "outputs": [],
   "source": [
    "reference_lookup = pd.read_csv(reference_lookup)\n",
    "positive_sel_df = pd.read_csv(positive_sel_df)"
   ]
  },
  {
   "cell_type": "code",
   "execution_count": 2,
   "metadata": {},
   "outputs": [],
   "source": [
    "# reference_lookup = pd.read_csv(\"../reference_sequences/reference_sequence_position_lookup.csv\")\n",
    "# positive_sel_df = pd.read_csv(\"../results/spike_positive_selection_sites.csv\")\n",
    "# create_primers_srcipt = '../scripts/2021Jan_create_primers.py'\n",
    "# spike_extended = \"../reference_sequences/B16172_extended_ends_for_primers.txt\"\n",
    "\n",
    "# full_legth_spike_primers_NNG = '../results/primers/FULL_LENGTH_Spike_primer_positive_selection_NNG.csv'\n",
    "# full_legth_spike_primers_NNC = '../results/primers/FULL_LENGTH_Spike_primer_positive_selection_NNC.csv'\n",
    "# PS_legth_spike_primer_df_NNG_out = '../results/primers/Positive_selection_site_primers_NNG.csv'\n",
    "# PS_legth_spike_primer_df_NNC_out = '../results/primers/Positive_selection_site_primers_NNC.csv'\n",
    "# PS_legth_spike_primer_df_out = '../results/primers/Positive_selection_site_primers_all.csv'"
   ]
  },
  {
   "cell_type": "code",
   "execution_count": 3,
   "metadata": {},
   "outputs": [],
   "source": [
    "#merge lookup and positive selection site tables\n",
    "#remove mutations that are in variant spike already\n",
    "new_positive_sel_df = pd.merge(positive_sel_df,\n",
    "                  reference_lookup,\n",
    "                  how='left',\n",
    "                  left_on=['site'],\n",
    "                  right_on = ['parent_pos'],\n",
    "                  indicator=True)"
   ]
  },
  {
   "cell_type": "code",
   "execution_count": 4,
   "metadata": {},
   "outputs": [],
   "source": [
    "#now merge tables just on parent position\n",
    "new_positive_sel_df = pd.merge(positive_sel_df,\n",
    "                  reference_lookup,\n",
    "                  how='left',\n",
    "                  left_on=['site'],\n",
    "                  right_on = ['parent_pos'])\n",
    "\n",
    "new_positive_sel_df = new_positive_sel_df.sort_values(by=['site'],ignore_index=True)\n",
    "#drop missing sites, this removes +ve selection sites that are in CTD or in missing positions in the variant\n",
    "new_positive_sel_df = new_positive_sel_df[new_positive_sel_df['variant_pos'].notna()]\n"
   ]
  },
  {
   "cell_type": "code",
   "execution_count": 5,
   "metadata": {},
   "outputs": [],
   "source": [
    "new_positive_sel_df = new_positive_sel_df[['variant_pos','variant_seq','n_time_windows', 'p']]"
   ]
  },
  {
   "cell_type": "markdown",
   "metadata": {},
   "source": [
    "## Design primers"
   ]
  },
  {
   "cell_type": "markdown",
   "metadata": {},
   "source": [
    "### NNG primers"
   ]
  },
  {
   "cell_type": "code",
   "execution_count": 6,
   "metadata": {},
   "outputs": [
    {
     "name": "stdout",
     "output_type": "stream",
     "text": [
      "Read the following command line arguments\n",
      "\tsequencefile = ../reference_sequences/B16172_extended_ends_for_primers.txt\n",
      "\tprimerprefix = positiveSelectionSpike_NNG\n",
      "\tfirstcodon = 1\n",
      "\toutfile = ../results/primers/FULL_LENGTH_Spike_primer_positive_selection_NNG.csv\n",
      "\tstartprimerlength = 37\n",
      "\tmaxprimertm = 61.5\n",
      "\tminprimertm = 60.5\n",
      "\tminlength = 25\n",
      "\tmaxlength = 51\n",
      "\tambiguous_codon = NNG\n",
      "\toutput = opools\n",
      "Read a sequence of length 3842 from ../reference_sequences/B16172_extended_ends_for_primers.txt:\n",
      "cagccgagccacatcgctcaacgcgtgccaccATGTTTGTGTTCCTGGTGCTGCTGCCACTGGTGTCCAGCCAGTGTGTGAACCTGAGAACCAGGACCCAACTTCCTCCTGCCTACACCAACTCCTTCACCAGGGGAGTCTACTACCCTGACAAGGTGTTCAGGTCCTCTGTGCTGCACAGCACCCAGGACCTGTTCCTGCCATTCTTCAGCAATGTGACCTGGTTCCATGCCATCCATGTGTCTGGCACCAATGGCACCAAGAGGTTTGACAACCCTGTGCTGCCATTCAATGATGGAGTCTACTTTGCCAGCACAGAGAAGAGCAACATCATCAGGGGCTGGATTTTTGGCACCACCCTGGACAGCAAGACCCAGTCCCTGCTGATTGTGAACAATGCCACCAATGTGGTGATTAAGGTGTGTGAGTTCCAGTTCTGTAATGACCCATTCCTGGACGTCTACTACCACAAGAACAACAAGTCCTGGATGGAGTCTGGAGTCTACTCCTCTGCCAACAACTGTACCTTTGAATATGTGAGCCAACCATTCCTGATGGACTTGGAGGGCAAGCAGGGCAACTTCAAGAACCTGAGGGAGTTTGTGTTCAAGAACATTGATGGCTACTTCAAGATTTACAGCAAACACACACCAATCAACCTGGTGAGGGACCTGCCACAGGGCTTCTCTGCCTTGGAACCACTGGTGGACCTGCCAATTGGCATCAACATCACCAGGTTCCAGACCCTGCTGGCTCTGCACAGGTCCTACCTGACACCTGGAGACTCCTCCTCTGGCTGGACAGCAGGAGCAGCAGCCTACTATGTGGGCTACCTCCAACCAAGGACCTTCCTGCTGAAATACAATGAGAATGGCACCATCACAGATGCTGTGGACTGTGCCCTGGACCCACTGTCTGAGACCAAGTGTACCCTGAAATCCTTCACAGTGGAGAAGGGCATCTACCAGACCAGCAACTTCAGGGTCCAACCAACAGAGAGCATTGTGAGGTTTCCAAACATCACCAACCTGTGTCCATTTGGAGAGGTGTTCAATGCCACCAGGTTTGCCTCTGTCTATGCCTGGAACAGGAAGAGGATTAGCAACTGTGTGGCTGACTACTCTGTGCTCTACAACTCTGCCTCCTTCAGCACCTTCAAGTGTTATGGAGTGAGCCCAACCAAACTGAATGACCTGTGTTTCACCAATGTCTATGCTGACTCCTTTGTGATTAGGGGAGATGAGGTGAGACAGATTGCCCCTGGACAAACAGGCAAGATTGCTGACTACAACTACAAACTGCCTGATGACTTCACAGGCTGTGTGATTGCCTGGAACAGCAACAACCTGGACAGCAAGGTGGGAGGCAACTACAACTACAGATACAGACTGTTCAGGAAGAGCAACCTGAAACCATTTGAGAGGGACATCAGCACAGAGATTTACCAGGCTGGCAGCAAGCCATGTAATGGAGTGGAGGGCTTCAACTGTTACTTTCCACTCCAATCCTATGGCTTCCAACCAACCAATGGAGTGGGCTACCAACCATACAGGGTGGTGGTGCTGTCCTTTGAACTGCTCCATGCCCCTGCCACAGTGTGTGGACCAAAGAAGAGCACCAACCTGGTGAAGAACAAGTGTGTGAACTTCAACTTCAATGGACTGACAGGCACAGGAGTGCTGACAGAGAGCAACAAGAAGTTCCTGCCATTCCAACAGTTTGGCAGGGACATTGCTGACACCACAGATGCTGTGAGGGACCCACAGACCTTGGAGATTCTGGACATCACACCATGTTCCTTTGGAGGAGTGTCTGTGATTACACCTGGCACCAACACCAGCAACCAGGTGGCTGTGCTCTACCAGGGTGTGAACTGTACTGAGGTGCCTGTGGCTATCCATGCTGACCAACTTACACCAACCTGGAGGGTCTACAGCACAGGCAGCAATGTGTTCCAGACCAGGGCTGGCTGTCTGATTGGAGCAGAGCATGTGAACAACTCCTATGAGTGTGACATCCCAATTGGAGCAGGCATCTGTGCCTCCTACCAGACCCAGACCAACAGCAGAAGGAGGGCAAGGTCTGTGGCAAGCCAGAGCATCATTGCCTACACAATGAGTCTGGGAGCAGAGAACTCTGTGGCTTACAGCAACAACAGCATTGCCATCCCAACCAACTTCACCATCTCTGTGACCACAGAGATTCTGCCTGTGAGTATGACCAAGACCTCTGTGGACTGTACAATGTATATCTGTGGAGACAGCACAGAGTGTAGCAACCTGCTGCTCCAATATGGCTCCTTCTGTACCCAACTTAACAGGGCTCTGACAGGCATTGCTGTGGAACAGGACAAGAACACCCAGGAGGTGTTTGCCCAGGTGAAGCAGATTTACAAGACACCTCCAATCAAGGACTTTGGAGGCTTCAACTTCAGCCAGATTCTGCCTGACCCAAGCAAGCCAAGCAAGAGGTCCTTCATTGAGGACCTGCTGTTCAACAAGGTGACCCTGGCTGATGCTGGCTTCATCAAGCAATATGGAGACTGTCTGGGAGACATTGCTGCCAGGGACCTGATTTGTGCCCAGAAGTTCAATGGACTGACAGTGCTGCCTCCACTGCTGACAGATGAGATGATTGCCCAATACACCTCTGCCCTGCTGGCTGGCACCATCACCTCTGGCTGGACCTTTGGAGCAGGAGCAGCCCTCCAAATCCCATTTGCTATGCAGATGGCTTACAGGTTCAATGGCATTGGAGTGACCCAGAATGTGCTCTATGAGAACCAGAAACTGATTGCCAACCAGTTCAACTCTGCCATTGGCAAGATTCAGGACTCCCTGTCCAGCACAGCCTCTGCCCTGGGCAAACTCCAAAACGTGGTGAACCAGAATGCCCAGGCTCTGAACACCCTGGTGAAGCAACTTTCCAGCAACTTTGGAGCCATCTCCTCTGTGCTGAATGACATCCTGAGCAGACTGGACAAGGTGGAGGCTGAGGTCCAGATTGACAGACTGATTACAGGCAGACTCCAATCCCTCCAAACCTATGTGACCCAACAACTTATCAGGGCTGCTGAGATTAGGGCATCTGCCAACCTGGCTGCCACCAAGATGAGTGAGTGTGTGCTGGGACAAAGCAAGAGGGTGGACTTCTGTGGCAAGGGCTACCACCTGATGAGTTTTCCACAGTCTGCCCCTCATGGAGTGGTGTTCCTGCATGTGACCTATGTGCCTGCCCAGGAGAAGAACTTCACCACAGCCCCTGCCATCTGCCATGATGGCAAGGCTCACTTTCCAAGGGAGGGAGTGTTTGTGAGCAATGGCACCCACTGGTTTGTGACCCAGAGGAACTTCTATGAACCACAGATTATCACCACAGACAACACCTTTGTGTCTGGCAACTGTGATGTGGTGATTGGCATTGTGAACAACACAGTCTATGACCCACTCCAACCTGAACTGGACTCCTTCAAGGAGGAACTGGACAAATACTTCAAGAACCACACCAGCCCTGATGTGGACCTGGGAGACATCTCTGGCATCAATGCCTCTGTGGTGAACATCCAGAAGGAGATTGACAGACTGAATGAGGTGGCTAAGAACCTGAATGAGTCCCTGATTGACCTCCAAGAACTGGGCAAATATGAACAATACATCAAGTGGCCATGGTACATCTGGCTGGGCTTCATTGCTGGACTGATTGCCATTGTGATGGTGACCATAATGCTGTGTTGTATGACCTCCTGTTGTTCCTGTCTGAAAGGCTGTTGTTCCTGTGGCTCCTGAtaatgaggcgcgcctagttggatcacactctttccctacacgacgctcttccgatct\n",
      "The primers will be named with the prefix positiveSelectionSpike_NNG, and the first codon numbered as 1.\n",
      "Designed 1251 mutation forward primers.\n",
      "Designed 1251 mutation reverse primers.\n",
      "This gives a total of 2502 primers.\n",
      "\n",
      "Now writing these primers to ../results/primers/FULL_LENGTH_Spike_primer_positive_selection_NNG.csv\n"
     ]
    }
   ],
   "source": [
    "# run primer design script\n",
    "!python {create_primers_srcipt} \\\n",
    "    {spike_extended} \\\n",
    "    positiveSelectionSpike_NNG \\\n",
    "    1 \\\n",
    "    {full_legth_spike_primers_NNG} \\\n",
    "    --ambiguous_codon NNG \\\n",
    "    --minprimertm 60.5 \\\n",
    "    --output opools \\\n",
    "    --maxprimertm 61.5"
   ]
  },
  {
   "cell_type": "code",
   "execution_count": 9,
   "metadata": {},
   "outputs": [],
   "source": [
    "#import primer table\n",
    "full_legth_spike_primer_df = pd.read_csv(full_legth_spike_primers_NNG)"
   ]
  },
  {
   "cell_type": "markdown",
   "metadata": {},
   "source": [
    "Extract site from primer name"
   ]
  },
  {
   "cell_type": "code",
   "execution_count": 10,
   "metadata": {},
   "outputs": [],
   "source": [
    "full_legth_spike_primer_df['site'] = full_legth_spike_primer_df['Primer name'].str.extract('(\\d+)')\n",
    "full_legth_spike_primer_df['site'] = full_legth_spike_primer_df['site'].astype(float)"
   ]
  },
  {
   "cell_type": "markdown",
   "metadata": {},
   "source": [
    "Now merge `new_positive_sel_df` with primer table so you only take primers used for positively aelected sites"
   ]
  },
  {
   "cell_type": "code",
   "execution_count": 11,
   "metadata": {},
   "outputs": [],
   "source": [
    "#now merge tables just on parent position\n",
    "PS_legth_spike_primer_df_NNG = pd.merge(new_positive_sel_df,\n",
    "                  full_legth_spike_primer_df,\n",
    "                  how='left',\n",
    "                  left_on=['variant_pos'],\n",
    "                  right_on = ['site'])"
   ]
  },
  {
   "cell_type": "code",
   "execution_count": 12,
   "metadata": {},
   "outputs": [],
   "source": [
    "PS_legth_spike_primer_df_NNG.to_csv(PS_legth_spike_primer_df_NNG_out, index=False) "
   ]
  },
  {
   "cell_type": "markdown",
   "metadata": {},
   "source": [
    "### NNC primers"
   ]
  },
  {
   "cell_type": "code",
   "execution_count": 13,
   "metadata": {},
   "outputs": [
    {
     "name": "stdout",
     "output_type": "stream",
     "text": [
      "Read the following command line arguments\n",
      "\tsequencefile = ../reference_sequences/B16172_extended_ends_for_primers.txt\n",
      "\tprimerprefix = positiveSelectionSpike_NNC\n",
      "\tfirstcodon = 1\n",
      "\toutfile = ../results/primers/FULL_LENGTH_Spike_primer_positive_selection_NNC.csv\n",
      "\tstartprimerlength = 37\n",
      "\tmaxprimertm = 61.5\n",
      "\tminprimertm = 60.5\n",
      "\tminlength = 25\n",
      "\tmaxlength = 51\n",
      "\tambiguous_codon = NNC\n",
      "\toutput = opools\n",
      "Read a sequence of length 3842 from ../reference_sequences/B16172_extended_ends_for_primers.txt:\n",
      "cagccgagccacatcgctcaacgcgtgccaccATGTTTGTGTTCCTGGTGCTGCTGCCACTGGTGTCCAGCCAGTGTGTGAACCTGAGAACCAGGACCCAACTTCCTCCTGCCTACACCAACTCCTTCACCAGGGGAGTCTACTACCCTGACAAGGTGTTCAGGTCCTCTGTGCTGCACAGCACCCAGGACCTGTTCCTGCCATTCTTCAGCAATGTGACCTGGTTCCATGCCATCCATGTGTCTGGCACCAATGGCACCAAGAGGTTTGACAACCCTGTGCTGCCATTCAATGATGGAGTCTACTTTGCCAGCACAGAGAAGAGCAACATCATCAGGGGCTGGATTTTTGGCACCACCCTGGACAGCAAGACCCAGTCCCTGCTGATTGTGAACAATGCCACCAATGTGGTGATTAAGGTGTGTGAGTTCCAGTTCTGTAATGACCCATTCCTGGACGTCTACTACCACAAGAACAACAAGTCCTGGATGGAGTCTGGAGTCTACTCCTCTGCCAACAACTGTACCTTTGAATATGTGAGCCAACCATTCCTGATGGACTTGGAGGGCAAGCAGGGCAACTTCAAGAACCTGAGGGAGTTTGTGTTCAAGAACATTGATGGCTACTTCAAGATTTACAGCAAACACACACCAATCAACCTGGTGAGGGACCTGCCACAGGGCTTCTCTGCCTTGGAACCACTGGTGGACCTGCCAATTGGCATCAACATCACCAGGTTCCAGACCCTGCTGGCTCTGCACAGGTCCTACCTGACACCTGGAGACTCCTCCTCTGGCTGGACAGCAGGAGCAGCAGCCTACTATGTGGGCTACCTCCAACCAAGGACCTTCCTGCTGAAATACAATGAGAATGGCACCATCACAGATGCTGTGGACTGTGCCCTGGACCCACTGTCTGAGACCAAGTGTACCCTGAAATCCTTCACAGTGGAGAAGGGCATCTACCAGACCAGCAACTTCAGGGTCCAACCAACAGAGAGCATTGTGAGGTTTCCAAACATCACCAACCTGTGTCCATTTGGAGAGGTGTTCAATGCCACCAGGTTTGCCTCTGTCTATGCCTGGAACAGGAAGAGGATTAGCAACTGTGTGGCTGACTACTCTGTGCTCTACAACTCTGCCTCCTTCAGCACCTTCAAGTGTTATGGAGTGAGCCCAACCAAACTGAATGACCTGTGTTTCACCAATGTCTATGCTGACTCCTTTGTGATTAGGGGAGATGAGGTGAGACAGATTGCCCCTGGACAAACAGGCAAGATTGCTGACTACAACTACAAACTGCCTGATGACTTCACAGGCTGTGTGATTGCCTGGAACAGCAACAACCTGGACAGCAAGGTGGGAGGCAACTACAACTACAGATACAGACTGTTCAGGAAGAGCAACCTGAAACCATTTGAGAGGGACATCAGCACAGAGATTTACCAGGCTGGCAGCAAGCCATGTAATGGAGTGGAGGGCTTCAACTGTTACTTTCCACTCCAATCCTATGGCTTCCAACCAACCAATGGAGTGGGCTACCAACCATACAGGGTGGTGGTGCTGTCCTTTGAACTGCTCCATGCCCCTGCCACAGTGTGTGGACCAAAGAAGAGCACCAACCTGGTGAAGAACAAGTGTGTGAACTTCAACTTCAATGGACTGACAGGCACAGGAGTGCTGACAGAGAGCAACAAGAAGTTCCTGCCATTCCAACAGTTTGGCAGGGACATTGCTGACACCACAGATGCTGTGAGGGACCCACAGACCTTGGAGATTCTGGACATCACACCATGTTCCTTTGGAGGAGTGTCTGTGATTACACCTGGCACCAACACCAGCAACCAGGTGGCTGTGCTCTACCAGGGTGTGAACTGTACTGAGGTGCCTGTGGCTATCCATGCTGACCAACTTACACCAACCTGGAGGGTCTACAGCACAGGCAGCAATGTGTTCCAGACCAGGGCTGGCTGTCTGATTGGAGCAGAGCATGTGAACAACTCCTATGAGTGTGACATCCCAATTGGAGCAGGCATCTGTGCCTCCTACCAGACCCAGACCAACAGCAGAAGGAGGGCAAGGTCTGTGGCAAGCCAGAGCATCATTGCCTACACAATGAGTCTGGGAGCAGAGAACTCTGTGGCTTACAGCAACAACAGCATTGCCATCCCAACCAACTTCACCATCTCTGTGACCACAGAGATTCTGCCTGTGAGTATGACCAAGACCTCTGTGGACTGTACAATGTATATCTGTGGAGACAGCACAGAGTGTAGCAACCTGCTGCTCCAATATGGCTCCTTCTGTACCCAACTTAACAGGGCTCTGACAGGCATTGCTGTGGAACAGGACAAGAACACCCAGGAGGTGTTTGCCCAGGTGAAGCAGATTTACAAGACACCTCCAATCAAGGACTTTGGAGGCTTCAACTTCAGCCAGATTCTGCCTGACCCAAGCAAGCCAAGCAAGAGGTCCTTCATTGAGGACCTGCTGTTCAACAAGGTGACCCTGGCTGATGCTGGCTTCATCAAGCAATATGGAGACTGTCTGGGAGACATTGCTGCCAGGGACCTGATTTGTGCCCAGAAGTTCAATGGACTGACAGTGCTGCCTCCACTGCTGACAGATGAGATGATTGCCCAATACACCTCTGCCCTGCTGGCTGGCACCATCACCTCTGGCTGGACCTTTGGAGCAGGAGCAGCCCTCCAAATCCCATTTGCTATGCAGATGGCTTACAGGTTCAATGGCATTGGAGTGACCCAGAATGTGCTCTATGAGAACCAGAAACTGATTGCCAACCAGTTCAACTCTGCCATTGGCAAGATTCAGGACTCCCTGTCCAGCACAGCCTCTGCCCTGGGCAAACTCCAAAACGTGGTGAACCAGAATGCCCAGGCTCTGAACACCCTGGTGAAGCAACTTTCCAGCAACTTTGGAGCCATCTCCTCTGTGCTGAATGACATCCTGAGCAGACTGGACAAGGTGGAGGCTGAGGTCCAGATTGACAGACTGATTACAGGCAGACTCCAATCCCTCCAAACCTATGTGACCCAACAACTTATCAGGGCTGCTGAGATTAGGGCATCTGCCAACCTGGCTGCCACCAAGATGAGTGAGTGTGTGCTGGGACAAAGCAAGAGGGTGGACTTCTGTGGCAAGGGCTACCACCTGATGAGTTTTCCACAGTCTGCCCCTCATGGAGTGGTGTTCCTGCATGTGACCTATGTGCCTGCCCAGGAGAAGAACTTCACCACAGCCCCTGCCATCTGCCATGATGGCAAGGCTCACTTTCCAAGGGAGGGAGTGTTTGTGAGCAATGGCACCCACTGGTTTGTGACCCAGAGGAACTTCTATGAACCACAGATTATCACCACAGACAACACCTTTGTGTCTGGCAACTGTGATGTGGTGATTGGCATTGTGAACAACACAGTCTATGACCCACTCCAACCTGAACTGGACTCCTTCAAGGAGGAACTGGACAAATACTTCAAGAACCACACCAGCCCTGATGTGGACCTGGGAGACATCTCTGGCATCAATGCCTCTGTGGTGAACATCCAGAAGGAGATTGACAGACTGAATGAGGTGGCTAAGAACCTGAATGAGTCCCTGATTGACCTCCAAGAACTGGGCAAATATGAACAATACATCAAGTGGCCATGGTACATCTGGCTGGGCTTCATTGCTGGACTGATTGCCATTGTGATGGTGACCATAATGCTGTGTTGTATGACCTCCTGTTGTTCCTGTCTGAAAGGCTGTTGTTCCTGTGGCTCCTGAtaatgaggcgcgcctagttggatcacactctttccctacacgacgctcttccgatct\n",
      "The primers will be named with the prefix positiveSelectionSpike_NNC, and the first codon numbered as 1.\n",
      "Designed 1251 mutation forward primers.\n",
      "Designed 1251 mutation reverse primers.\n",
      "This gives a total of 2502 primers.\n",
      "\n",
      "Now writing these primers to ../results/primers/FULL_LENGTH_Spike_primer_positive_selection_NNC.csv\n"
     ]
    }
   ],
   "source": [
    "# run primer design script\n",
    "!python {create_primers_srcipt} \\\n",
    "    {spike_extended} \\\n",
    "    positiveSelectionSpike_NNC \\\n",
    "    1 \\\n",
    "    {full_legth_spike_primers_NNC} \\\n",
    "    --ambiguous_codon NNC \\\n",
    "    --minprimertm 60.5 \\\n",
    "    --output opools \\\n",
    "    --maxprimertm 61.5"
   ]
  },
  {
   "cell_type": "code",
   "execution_count": 14,
   "metadata": {},
   "outputs": [
    {
     "data": {
      "text/html": [
       "<div>\n",
       "<style scoped>\n",
       "    .dataframe tbody tr th:only-of-type {\n",
       "        vertical-align: middle;\n",
       "    }\n",
       "\n",
       "    .dataframe tbody tr th {\n",
       "        vertical-align: top;\n",
       "    }\n",
       "\n",
       "    .dataframe thead th {\n",
       "        text-align: right;\n",
       "    }\n",
       "</style>\n",
       "<table border=\"1\" class=\"dataframe\">\n",
       "  <thead>\n",
       "    <tr style=\"text-align: right;\">\n",
       "      <th></th>\n",
       "      <th>Pool name</th>\n",
       "      <th>Primer name</th>\n",
       "      <th>Ambiguous codon</th>\n",
       "      <th>Sequence</th>\n",
       "    </tr>\n",
       "  </thead>\n",
       "  <tbody>\n",
       "    <tr>\n",
       "      <th>0</th>\n",
       "      <td>positiveSelectionSpike_NNC_ForPool</td>\n",
       "      <td>positiveSelectionSpike_NNC-for-mut1</td>\n",
       "      <td>NNC</td>\n",
       "      <td>cgcgtgccaccNNCTTTGTGTTCCT</td>\n",
       "    </tr>\n",
       "    <tr>\n",
       "      <th>1</th>\n",
       "      <td>positiveSelectionSpike_NNC_ForPool</td>\n",
       "      <td>positiveSelectionSpike_NNC-for-mut2</td>\n",
       "      <td>NNC</td>\n",
       "      <td>gtgccaccATGNNCGTGTTCCTGGT</td>\n",
       "    </tr>\n",
       "    <tr>\n",
       "      <th>2</th>\n",
       "      <td>positiveSelectionSpike_NNC_ForPool</td>\n",
       "      <td>positiveSelectionSpike_NNC-for-mut3</td>\n",
       "      <td>NNC</td>\n",
       "      <td>gccaccATGTTTNNCTTCCTGGTGCTG</td>\n",
       "    </tr>\n",
       "    <tr>\n",
       "      <th>3</th>\n",
       "      <td>positiveSelectionSpike_NNC_ForPool</td>\n",
       "      <td>positiveSelectionSpike_NNC-for-mut4</td>\n",
       "      <td>NNC</td>\n",
       "      <td>ccATGTTTGTGNNCCTGGTGCTGCTG</td>\n",
       "    </tr>\n",
       "    <tr>\n",
       "      <th>4</th>\n",
       "      <td>positiveSelectionSpike_NNC_ForPool</td>\n",
       "      <td>positiveSelectionSpike_NNC-for-mut5</td>\n",
       "      <td>NNC</td>\n",
       "      <td>TGTTTGTGTTCNNCGTGCTGCTGCC</td>\n",
       "    </tr>\n",
       "    <tr>\n",
       "      <th>...</th>\n",
       "      <td>...</td>\n",
       "      <td>...</td>\n",
       "      <td>...</td>\n",
       "      <td>...</td>\n",
       "    </tr>\n",
       "    <tr>\n",
       "      <th>2497</th>\n",
       "      <td>positiveSelectionSpike_NNC_RevPool</td>\n",
       "      <td>positiveSelectionSpike_NNC-rev-mut1247</td>\n",
       "      <td>NNC</td>\n",
       "      <td>taTCAGGAGCCACAGNNACAACAGCCTTTCA</td>\n",
       "    </tr>\n",
       "    <tr>\n",
       "      <th>2498</th>\n",
       "      <td>positiveSelectionSpike_NNC_RevPool</td>\n",
       "      <td>positiveSelectionSpike_NNC-rev-mut1248</td>\n",
       "      <td>NNC</td>\n",
       "      <td>attaTCAGGAGCCGNNGGAACAACAGCC</td>\n",
       "    </tr>\n",
       "    <tr>\n",
       "      <th>2499</th>\n",
       "      <td>positiveSelectionSpike_NNC_RevPool</td>\n",
       "      <td>positiveSelectionSpike_NNC-rev-mut1249</td>\n",
       "      <td>NNC</td>\n",
       "      <td>gcctcattaTCAGGAGNNACAGGAACAACAGC</td>\n",
       "    </tr>\n",
       "    <tr>\n",
       "      <th>2500</th>\n",
       "      <td>positiveSelectionSpike_NNC_RevPool</td>\n",
       "      <td>positiveSelectionSpike_NNC-rev-mut1250</td>\n",
       "      <td>NNC</td>\n",
       "      <td>cgcctcattaTCAGNNGCCACAGGAACAA</td>\n",
       "    </tr>\n",
       "    <tr>\n",
       "      <th>2501</th>\n",
       "      <td>positiveSelectionSpike_NNC_RevPool</td>\n",
       "      <td>positiveSelectionSpike_NNC-rev-mut1251</td>\n",
       "      <td>NNC</td>\n",
       "      <td>gcgcctcattaGNNGGAGCCACAGG</td>\n",
       "    </tr>\n",
       "  </tbody>\n",
       "</table>\n",
       "<p>2502 rows × 4 columns</p>\n",
       "</div>"
      ],
      "text/plain": [
       "                               Pool name  \\\n",
       "0     positiveSelectionSpike_NNC_ForPool   \n",
       "1     positiveSelectionSpike_NNC_ForPool   \n",
       "2     positiveSelectionSpike_NNC_ForPool   \n",
       "3     positiveSelectionSpike_NNC_ForPool   \n",
       "4     positiveSelectionSpike_NNC_ForPool   \n",
       "...                                  ...   \n",
       "2497  positiveSelectionSpike_NNC_RevPool   \n",
       "2498  positiveSelectionSpike_NNC_RevPool   \n",
       "2499  positiveSelectionSpike_NNC_RevPool   \n",
       "2500  positiveSelectionSpike_NNC_RevPool   \n",
       "2501  positiveSelectionSpike_NNC_RevPool   \n",
       "\n",
       "                                 Primer name Ambiguous codon  \\\n",
       "0        positiveSelectionSpike_NNC-for-mut1             NNC   \n",
       "1        positiveSelectionSpike_NNC-for-mut2             NNC   \n",
       "2        positiveSelectionSpike_NNC-for-mut3             NNC   \n",
       "3        positiveSelectionSpike_NNC-for-mut4             NNC   \n",
       "4        positiveSelectionSpike_NNC-for-mut5             NNC   \n",
       "...                                      ...             ...   \n",
       "2497  positiveSelectionSpike_NNC-rev-mut1247             NNC   \n",
       "2498  positiveSelectionSpike_NNC-rev-mut1248             NNC   \n",
       "2499  positiveSelectionSpike_NNC-rev-mut1249             NNC   \n",
       "2500  positiveSelectionSpike_NNC-rev-mut1250             NNC   \n",
       "2501  positiveSelectionSpike_NNC-rev-mut1251             NNC   \n",
       "\n",
       "                              Sequence  \n",
       "0            cgcgtgccaccNNCTTTGTGTTCCT  \n",
       "1            gtgccaccATGNNCGTGTTCCTGGT  \n",
       "2          gccaccATGTTTNNCTTCCTGGTGCTG  \n",
       "3           ccATGTTTGTGNNCCTGGTGCTGCTG  \n",
       "4            TGTTTGTGTTCNNCGTGCTGCTGCC  \n",
       "...                                ...  \n",
       "2497   taTCAGGAGCCACAGNNACAACAGCCTTTCA  \n",
       "2498      attaTCAGGAGCCGNNGGAACAACAGCC  \n",
       "2499  gcctcattaTCAGGAGNNACAGGAACAACAGC  \n",
       "2500     cgcctcattaTCAGNNGCCACAGGAACAA  \n",
       "2501         gcgcctcattaGNNGGAGCCACAGG  \n",
       "\n",
       "[2502 rows x 4 columns]"
      ]
     },
     "execution_count": 14,
     "metadata": {},
     "output_type": "execute_result"
    }
   ],
   "source": [
    "#import primer table\n",
    "full_legth_spike_primer_df = pd.read_csv(full_legth_spike_primers_NNC)\n",
    "full_legth_spike_primer_df"
   ]
  },
  {
   "cell_type": "code",
   "execution_count": 15,
   "metadata": {},
   "outputs": [],
   "source": [
    "full_legth_spike_primer_df['site'] = full_legth_spike_primer_df['Primer name'].str.extract('(\\d+)')\n",
    "full_legth_spike_primer_df['site'] = full_legth_spike_primer_df['site'].astype(float)"
   ]
  },
  {
   "cell_type": "code",
   "execution_count": 16,
   "metadata": {},
   "outputs": [],
   "source": [
    "#now merge tables just on parent position\n",
    "PS_legth_spike_primer_df_NNC = pd.merge(new_positive_sel_df,\n",
    "                  full_legth_spike_primer_df,\n",
    "                  how='left',\n",
    "                  left_on=['variant_pos'],\n",
    "                  right_on = ['site'])"
   ]
  },
  {
   "cell_type": "code",
   "execution_count": 17,
   "metadata": {},
   "outputs": [],
   "source": [
    "PS_legth_spike_primer_df_NNC.to_csv(PS_legth_spike_primer_df_NNC_out, index=False) "
   ]
  },
  {
   "cell_type": "markdown",
   "metadata": {},
   "source": [
    "### Concat NNG and NNC primer tables"
   ]
  },
  {
   "cell_type": "code",
   "execution_count": 18,
   "metadata": {},
   "outputs": [],
   "source": [
    "frames = [PS_legth_spike_primer_df_NNG, PS_legth_spike_primer_df_NNC]\n",
    "PS_legth_spike_primer_df = pd.concat(frames)\n"
   ]
  },
  {
   "cell_type": "code",
   "execution_count": 19,
   "metadata": {},
   "outputs": [],
   "source": [
    "PS_legth_spike_primer_df = PS_legth_spike_primer_df[['Pool name','Primer name','Sequence']]"
   ]
  },
  {
   "cell_type": "code",
   "execution_count": 20,
   "metadata": {},
   "outputs": [],
   "source": [
    "PS_legth_spike_primer_df.to_csv(PS_legth_spike_primer_df_out, index=False) "
   ]
  },
  {
   "cell_type": "code",
   "execution_count": 23,
   "metadata": {},
   "outputs": [
    {
     "data": {
      "text/html": [
       "<div>\n",
       "<style scoped>\n",
       "    .dataframe tbody tr th:only-of-type {\n",
       "        vertical-align: middle;\n",
       "    }\n",
       "\n",
       "    .dataframe tbody tr th {\n",
       "        vertical-align: top;\n",
       "    }\n",
       "\n",
       "    .dataframe thead th {\n",
       "        text-align: right;\n",
       "    }\n",
       "</style>\n",
       "<table border=\"1\" class=\"dataframe\">\n",
       "  <thead>\n",
       "    <tr style=\"text-align: right;\">\n",
       "      <th></th>\n",
       "      <th>Pool name</th>\n",
       "      <th>Primer name</th>\n",
       "      <th>Sequence</th>\n",
       "      <th>Tm</th>\n",
       "    </tr>\n",
       "  </thead>\n",
       "  <tbody>\n",
       "    <tr>\n",
       "      <th>0</th>\n",
       "      <td>positiveSelectionSpike_NNG_ForPool</td>\n",
       "      <td>positiveSelectionSpike_NNG-for-mut5</td>\n",
       "      <td>TGTTTGTGTTCNNGGTGCTGCTGCC</td>\n",
       "      <td>60.90</td>\n",
       "    </tr>\n",
       "    <tr>\n",
       "      <th>1</th>\n",
       "      <td>positiveSelectionSpike_NNG_RevPool</td>\n",
       "      <td>positiveSelectionSpike_NNG-rev-mut5</td>\n",
       "      <td>GGCAGCAGCACCNNGAACACAAACA</td>\n",
       "      <td>60.90</td>\n",
       "    </tr>\n",
       "    <tr>\n",
       "      <th>2</th>\n",
       "      <td>positiveSelectionSpike_NNG_ForPool</td>\n",
       "      <td>positiveSelectionSpike_NNG-for-mut12</td>\n",
       "      <td>TGCCACTGGTGNNGAGCCAGTGTGT</td>\n",
       "      <td>62.41</td>\n",
       "    </tr>\n",
       "    <tr>\n",
       "      <th>3</th>\n",
       "      <td>positiveSelectionSpike_NNG_RevPool</td>\n",
       "      <td>positiveSelectionSpike_NNG-rev-mut12</td>\n",
       "      <td>ACACACTGGCTCNNCACCAGTGGCA</td>\n",
       "      <td>62.41</td>\n",
       "    </tr>\n",
       "    <tr>\n",
       "      <th>4</th>\n",
       "      <td>positiveSelectionSpike_NNG_ForPool</td>\n",
       "      <td>positiveSelectionSpike_NNG-for-mut13</td>\n",
       "      <td>CACTGGTGTCCNNGCAGTGTGTGAAC</td>\n",
       "      <td>60.40</td>\n",
       "    </tr>\n",
       "    <tr>\n",
       "      <th>...</th>\n",
       "      <td>...</td>\n",
       "      <td>...</td>\n",
       "      <td>...</td>\n",
       "      <td>...</td>\n",
       "    </tr>\n",
       "    <tr>\n",
       "      <th>153</th>\n",
       "      <td>positiveSelectionSpike_NNC_RevPool</td>\n",
       "      <td>positiveSelectionSpike_NNC-rev-mut1217</td>\n",
       "      <td>AGTCCAGCAATGAAGNNCAGCCAGATGTAC</td>\n",
       "      <td>60.93</td>\n",
       "    </tr>\n",
       "    <tr>\n",
       "      <th>154</th>\n",
       "      <td>positiveSelectionSpike_NNC_ForPool</td>\n",
       "      <td>positiveSelectionSpike_NNC-for-mut1226</td>\n",
       "      <td>GGACTGATTGCCATTNNCATGGTGACCATAATG</td>\n",
       "      <td>59.99</td>\n",
       "    </tr>\n",
       "    <tr>\n",
       "      <th>155</th>\n",
       "      <td>positiveSelectionSpike_NNC_RevPool</td>\n",
       "      <td>positiveSelectionSpike_NNC-rev-mut1226</td>\n",
       "      <td>CATTATGGTCACCATGNNAATGGCAATCAGTCC</td>\n",
       "      <td>59.99</td>\n",
       "    </tr>\n",
       "    <tr>\n",
       "      <th>156</th>\n",
       "      <td>positiveSelectionSpike_NNC_ForPool</td>\n",
       "      <td>positiveSelectionSpike_NNC-for-mut1250</td>\n",
       "      <td>TTGTTCCTGTGGCNNCTGAtaatgaggcg</td>\n",
       "      <td>60.96</td>\n",
       "    </tr>\n",
       "    <tr>\n",
       "      <th>157</th>\n",
       "      <td>positiveSelectionSpike_NNC_RevPool</td>\n",
       "      <td>positiveSelectionSpike_NNC-rev-mut1250</td>\n",
       "      <td>cgcctcattaTCAGNNGCCACAGGAACAA</td>\n",
       "      <td>60.96</td>\n",
       "    </tr>\n",
       "  </tbody>\n",
       "</table>\n",
       "<p>316 rows × 4 columns</p>\n",
       "</div>"
      ],
      "text/plain": [
       "                              Pool name  \\\n",
       "0    positiveSelectionSpike_NNG_ForPool   \n",
       "1    positiveSelectionSpike_NNG_RevPool   \n",
       "2    positiveSelectionSpike_NNG_ForPool   \n",
       "3    positiveSelectionSpike_NNG_RevPool   \n",
       "4    positiveSelectionSpike_NNG_ForPool   \n",
       "..                                  ...   \n",
       "153  positiveSelectionSpike_NNC_RevPool   \n",
       "154  positiveSelectionSpike_NNC_ForPool   \n",
       "155  positiveSelectionSpike_NNC_RevPool   \n",
       "156  positiveSelectionSpike_NNC_ForPool   \n",
       "157  positiveSelectionSpike_NNC_RevPool   \n",
       "\n",
       "                                Primer name  \\\n",
       "0       positiveSelectionSpike_NNG-for-mut5   \n",
       "1       positiveSelectionSpike_NNG-rev-mut5   \n",
       "2      positiveSelectionSpike_NNG-for-mut12   \n",
       "3      positiveSelectionSpike_NNG-rev-mut12   \n",
       "4      positiveSelectionSpike_NNG-for-mut13   \n",
       "..                                      ...   \n",
       "153  positiveSelectionSpike_NNC-rev-mut1217   \n",
       "154  positiveSelectionSpike_NNC-for-mut1226   \n",
       "155  positiveSelectionSpike_NNC-rev-mut1226   \n",
       "156  positiveSelectionSpike_NNC-for-mut1250   \n",
       "157  positiveSelectionSpike_NNC-rev-mut1250   \n",
       "\n",
       "                              Sequence     Tm  \n",
       "0            TGTTTGTGTTCNNGGTGCTGCTGCC  60.90  \n",
       "1            GGCAGCAGCACCNNGAACACAAACA  60.90  \n",
       "2            TGCCACTGGTGNNGAGCCAGTGTGT  62.41  \n",
       "3            ACACACTGGCTCNNCACCAGTGGCA  62.41  \n",
       "4           CACTGGTGTCCNNGCAGTGTGTGAAC  60.40  \n",
       "..                                 ...    ...  \n",
       "153     AGTCCAGCAATGAAGNNCAGCCAGATGTAC  60.93  \n",
       "154  GGACTGATTGCCATTNNCATGGTGACCATAATG  59.99  \n",
       "155  CATTATGGTCACCATGNNAATGGCAATCAGTCC  59.99  \n",
       "156      TTGTTCCTGTGGCNNCTGAtaatgaggcg  60.96  \n",
       "157      cgcctcattaTCAGNNGCCACAGGAACAA  60.96  \n",
       "\n",
       "[316 rows x 4 columns]"
      ]
     },
     "execution_count": 23,
     "metadata": {},
     "output_type": "execute_result"
    }
   ],
   "source": [
    "PS_legth_spike_primer_df"
   ]
  },
  {
   "cell_type": "code",
   "execution_count": 24,
   "metadata": {},
   "outputs": [
    {
     "data": {
      "text/html": [
       "<div>\n",
       "<style scoped>\n",
       "    .dataframe tbody tr th:only-of-type {\n",
       "        vertical-align: middle;\n",
       "    }\n",
       "\n",
       "    .dataframe tbody tr th {\n",
       "        vertical-align: top;\n",
       "    }\n",
       "\n",
       "    .dataframe thead th {\n",
       "        text-align: right;\n",
       "    }\n",
       "</style>\n",
       "<table border=\"1\" class=\"dataframe\">\n",
       "  <thead>\n",
       "    <tr style=\"text-align: right;\">\n",
       "      <th></th>\n",
       "      <th>Pool name</th>\n",
       "      <th>Primer name</th>\n",
       "      <th>Sequence</th>\n",
       "      <th>Tm</th>\n",
       "      <th>length</th>\n",
       "    </tr>\n",
       "  </thead>\n",
       "  <tbody>\n",
       "    <tr>\n",
       "      <th>0</th>\n",
       "      <td>positiveSelectionSpike_NNG_ForPool</td>\n",
       "      <td>positiveSelectionSpike_NNG-for-mut5</td>\n",
       "      <td>TGTTTGTGTTCNNGGTGCTGCTGCC</td>\n",
       "      <td>60.90</td>\n",
       "      <td>25</td>\n",
       "    </tr>\n",
       "    <tr>\n",
       "      <th>1</th>\n",
       "      <td>positiveSelectionSpike_NNG_RevPool</td>\n",
       "      <td>positiveSelectionSpike_NNG-rev-mut5</td>\n",
       "      <td>GGCAGCAGCACCNNGAACACAAACA</td>\n",
       "      <td>60.90</td>\n",
       "      <td>25</td>\n",
       "    </tr>\n",
       "    <tr>\n",
       "      <th>2</th>\n",
       "      <td>positiveSelectionSpike_NNG_ForPool</td>\n",
       "      <td>positiveSelectionSpike_NNG-for-mut12</td>\n",
       "      <td>TGCCACTGGTGNNGAGCCAGTGTGT</td>\n",
       "      <td>62.41</td>\n",
       "      <td>25</td>\n",
       "    </tr>\n",
       "    <tr>\n",
       "      <th>3</th>\n",
       "      <td>positiveSelectionSpike_NNG_RevPool</td>\n",
       "      <td>positiveSelectionSpike_NNG-rev-mut12</td>\n",
       "      <td>ACACACTGGCTCNNCACCAGTGGCA</td>\n",
       "      <td>62.41</td>\n",
       "      <td>25</td>\n",
       "    </tr>\n",
       "    <tr>\n",
       "      <th>4</th>\n",
       "      <td>positiveSelectionSpike_NNG_ForPool</td>\n",
       "      <td>positiveSelectionSpike_NNG-for-mut13</td>\n",
       "      <td>CACTGGTGTCCNNGCAGTGTGTGAAC</td>\n",
       "      <td>60.40</td>\n",
       "      <td>26</td>\n",
       "    </tr>\n",
       "    <tr>\n",
       "      <th>...</th>\n",
       "      <td>...</td>\n",
       "      <td>...</td>\n",
       "      <td>...</td>\n",
       "      <td>...</td>\n",
       "      <td>...</td>\n",
       "    </tr>\n",
       "    <tr>\n",
       "      <th>153</th>\n",
       "      <td>positiveSelectionSpike_NNC_RevPool</td>\n",
       "      <td>positiveSelectionSpike_NNC-rev-mut1217</td>\n",
       "      <td>AGTCCAGCAATGAAGNNCAGCCAGATGTAC</td>\n",
       "      <td>60.93</td>\n",
       "      <td>30</td>\n",
       "    </tr>\n",
       "    <tr>\n",
       "      <th>154</th>\n",
       "      <td>positiveSelectionSpike_NNC_ForPool</td>\n",
       "      <td>positiveSelectionSpike_NNC-for-mut1226</td>\n",
       "      <td>GGACTGATTGCCATTNNCATGGTGACCATAATG</td>\n",
       "      <td>59.99</td>\n",
       "      <td>33</td>\n",
       "    </tr>\n",
       "    <tr>\n",
       "      <th>155</th>\n",
       "      <td>positiveSelectionSpike_NNC_RevPool</td>\n",
       "      <td>positiveSelectionSpike_NNC-rev-mut1226</td>\n",
       "      <td>CATTATGGTCACCATGNNAATGGCAATCAGTCC</td>\n",
       "      <td>59.99</td>\n",
       "      <td>33</td>\n",
       "    </tr>\n",
       "    <tr>\n",
       "      <th>156</th>\n",
       "      <td>positiveSelectionSpike_NNC_ForPool</td>\n",
       "      <td>positiveSelectionSpike_NNC-for-mut1250</td>\n",
       "      <td>TTGTTCCTGTGGCNNCTGAtaatgaggcg</td>\n",
       "      <td>60.96</td>\n",
       "      <td>29</td>\n",
       "    </tr>\n",
       "    <tr>\n",
       "      <th>157</th>\n",
       "      <td>positiveSelectionSpike_NNC_RevPool</td>\n",
       "      <td>positiveSelectionSpike_NNC-rev-mut1250</td>\n",
       "      <td>cgcctcattaTCAGNNGCCACAGGAACAA</td>\n",
       "      <td>60.96</td>\n",
       "      <td>29</td>\n",
       "    </tr>\n",
       "  </tbody>\n",
       "</table>\n",
       "<p>316 rows × 5 columns</p>\n",
       "</div>"
      ],
      "text/plain": [
       "                              Pool name  \\\n",
       "0    positiveSelectionSpike_NNG_ForPool   \n",
       "1    positiveSelectionSpike_NNG_RevPool   \n",
       "2    positiveSelectionSpike_NNG_ForPool   \n",
       "3    positiveSelectionSpike_NNG_RevPool   \n",
       "4    positiveSelectionSpike_NNG_ForPool   \n",
       "..                                  ...   \n",
       "153  positiveSelectionSpike_NNC_RevPool   \n",
       "154  positiveSelectionSpike_NNC_ForPool   \n",
       "155  positiveSelectionSpike_NNC_RevPool   \n",
       "156  positiveSelectionSpike_NNC_ForPool   \n",
       "157  positiveSelectionSpike_NNC_RevPool   \n",
       "\n",
       "                                Primer name  \\\n",
       "0       positiveSelectionSpike_NNG-for-mut5   \n",
       "1       positiveSelectionSpike_NNG-rev-mut5   \n",
       "2      positiveSelectionSpike_NNG-for-mut12   \n",
       "3      positiveSelectionSpike_NNG-rev-mut12   \n",
       "4      positiveSelectionSpike_NNG-for-mut13   \n",
       "..                                      ...   \n",
       "153  positiveSelectionSpike_NNC-rev-mut1217   \n",
       "154  positiveSelectionSpike_NNC-for-mut1226   \n",
       "155  positiveSelectionSpike_NNC-rev-mut1226   \n",
       "156  positiveSelectionSpike_NNC-for-mut1250   \n",
       "157  positiveSelectionSpike_NNC-rev-mut1250   \n",
       "\n",
       "                              Sequence     Tm  length  \n",
       "0            TGTTTGTGTTCNNGGTGCTGCTGCC  60.90      25  \n",
       "1            GGCAGCAGCACCNNGAACACAAACA  60.90      25  \n",
       "2            TGCCACTGGTGNNGAGCCAGTGTGT  62.41      25  \n",
       "3            ACACACTGGCTCNNCACCAGTGGCA  62.41      25  \n",
       "4           CACTGGTGTCCNNGCAGTGTGTGAAC  60.40      26  \n",
       "..                                 ...    ...     ...  \n",
       "153     AGTCCAGCAATGAAGNNCAGCCAGATGTAC  60.93      30  \n",
       "154  GGACTGATTGCCATTNNCATGGTGACCATAATG  59.99      33  \n",
       "155  CATTATGGTCACCATGNNAATGGCAATCAGTCC  59.99      33  \n",
       "156      TTGTTCCTGTGGCNNCTGAtaatgaggcg  60.96      29  \n",
       "157      cgcctcattaTCAGNNGCCACAGGAACAA  60.96      29  \n",
       "\n",
       "[316 rows x 5 columns]"
      ]
     },
     "execution_count": 24,
     "metadata": {},
     "output_type": "execute_result"
    }
   ],
   "source": [
    "PS_legth_spike_primer_df['Tm'] = PS_legth_spike_primer_df.apply(lambda x: '%0.2f' % mt.Tm_NN(x.Sequence, strict=False), axis=1)\n",
    "PS_legth_spike_primer_df['Tm'] = PS_legth_spike_primer_df['Tm'].astype('float')\n",
    "PS_legth_spike_primer_df['length'] = PS_legth_spike_primer_df.apply(lambda x: len(x.Sequence), axis=1)\n",
    "PS_legth_spike_primer_df"
   ]
  },
  {
   "cell_type": "code",
   "execution_count": 26,
   "metadata": {},
   "outputs": [
    {
     "data": {
      "image/png": "[encoded data removed]",
      "text/plain": [
       "<Figure size 640x480 with 1 Axes>"
      ]
     },
     "metadata": {},
     "output_type": "display_data"
    },
    {
     "data": {
      "text/plain": [
       "<bound method ggplot.draw of <ggplot: (8735871146722)>>"
      ]
     },
     "execution_count": 26,
     "metadata": {},
     "output_type": "execute_result"
    }
   ],
   "source": [
    "p = (ggplot(PS_legth_spike_primer_df) + \n",
    "     aes('length') + \n",
    "     geom_histogram(color='white',bins=30)\n",
    "    )\n",
    "\n",
    "p.draw"
   ]
  },
  {
   "cell_type": "code",
   "execution_count": 27,
   "metadata": {},
   "outputs": [
    {
     "name": "stderr",
     "output_type": "stream",
     "text": [
      "/fh/fast/bloom_j/software/miniconda3/envs/BloomLab/lib/python3.8/site-packages/plotnine/layer.py:467: PlotnineWarning: geom_histogram : Removed 2 rows containing missing values.\n"
     ]
    },
    {
     "data": {
      "image/png": "[encoded data removed]",
      "text/plain": [
       "<Figure size 640x480 with 1 Axes>"
      ]
     },
     "metadata": {},
     "output_type": "display_data"
    },
    {
     "data": {
      "text/plain": [
       "<bound method ggplot.draw of <ggplot: (8735870984572)>>"
      ]
     },
     "execution_count": 27,
     "metadata": {},
     "output_type": "execute_result"
    }
   ],
   "source": [
    "p = (ggplot(PS_legth_spike_primer_df) + \n",
    "     aes('Tm') + \n",
    "     geom_histogram(color='white', bins=30)+\n",
    "     xlim(58,72)\n",
    "    )\n",
    "\n",
    "p.draw"
   ]
  },
  {
   "cell_type": "code",
   "execution_count": null,
   "metadata": {},
   "outputs": [],
   "source": []
  }
 ],
 "metadata": {
  "kernelspec": {
   "display_name": "Python 3",
   "language": "python",
   "name": "python3"
  },
  "language_info": {
   "codemirror_mode": {
    "name": "ipython",
    "version": 3
   },
   "file_extension": ".py",
   "mimetype": "text/x-python",
   "name": "python",
   "nbconvert_exporter": "python",
   "pygments_lexer": "ipython3",
   "version": "3.8.5"
  }
 },
 "nbformat": 4,
 "nbformat_minor": 4
}
