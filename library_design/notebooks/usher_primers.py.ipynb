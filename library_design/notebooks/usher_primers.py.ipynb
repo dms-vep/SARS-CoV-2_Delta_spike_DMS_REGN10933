{
 "cells": [
  {
   "cell_type": "markdown",
   "metadata": {},
   "source": [
    "# Create primers for mutations in Usher data"
   ]
  },
  {
   "cell_type": "markdown",
   "metadata": {},
   "source": [
    "This notebooks takes Usher data, compared it to GISAID variant tables, filters it for higher frequency changes and creates primers for all usher sites."
   ]
  },
  {
   "cell_type": "code",
   "execution_count": null,
   "metadata": {},
   "outputs": [],
   "source": [
    "import pandas as pd\n",
    "from plotnine import *\n",
    "from Bio.SeqUtils import MeltingTemp as mt\n",
    "import statistics"
   ]
  },
  {
   "cell_type": "code",
   "execution_count": null,
   "metadata": {},
   "outputs": [],
   "source": [
    "usher_df = snakemake.input.usher_df\n",
    "reference_lookup = snakemake.input.reference_lookup\n",
    "gisaid_mutations = snakemake.input.gisaid_mutations\n",
    "usher_count_filter = snakemake.params.usher_count_filter\n",
    "codon_table = snakemake.input.codon_table\n",
    "spike_extended = snakemake.input.spike_extended\n",
    "create_primers_srcipt = snakemake.input.create_primers_srcipt\n",
    "\n",
    "new_usher_df_out = snakemake.output.new_usher_df_out\n",
    "usher_primers = snakemake.output.usher_primers"
   ]
  },
  {
   "cell_type": "code",
   "execution_count": null,
   "metadata": {},
   "outputs": [],
   "source": [
    "usher_df = pd.read_csv(usher_df)\n",
    "reference_lookup = pd.read_csv(reference_lookup)\n",
    "gisaid_mutations = pd.read_csv(gisaid_mutations)"
   ]
  },
  {
   "cell_type": "code",
   "execution_count": 52,
   "metadata": {},
   "outputs": [],
   "source": [
    "# usher_df = pd.read_csv (\"../results/spike_mutcounts.csv\")\n",
    "# reference_lookup = pd.read_csv(\"../reference_sequences/reference_sequence_position_lookup.csv\")\n",
    "# gisaid_mutations = pd.read_csv(\"../results/spike_alignment_counts.csv\")\n",
    "# usher_count_filter = 10\n",
    "# codon_table = \"../reference_sequences/homo_codon_freq_del.csv\"\n",
    "# spike_extended = \"../reference_sequences/B16172_extended_ends_for_primers.txt\"\n",
    "# create_primers_srcipt = '../scripts/create_primers_del.py'\n",
    "\n",
    "# new_usher_df_out = '../results/variant_usher_mutations.csv'\n",
    "# usher_primers = '../results/primers/usher_primers.csv'"
   ]
  },
  {
   "cell_type": "markdown",
   "metadata": {},
   "source": [
    "## Compare GISAID and Usher data"
   ]
  },
  {
   "cell_type": "markdown",
   "metadata": {},
   "source": [
    "First check if all mutations on ushed are present in gisaid data, as usher should be a subset of GISAID."
   ]
  },
  {
   "cell_type": "code",
   "execution_count": 53,
   "metadata": {},
   "outputs": [
    {
     "data": {
      "text/html": [
       "<div>\n",
       "<style scoped>\n",
       "    .dataframe tbody tr th:only-of-type {\n",
       "        vertical-align: middle;\n",
       "    }\n",
       "\n",
       "    .dataframe tbody tr th {\n",
       "        vertical-align: top;\n",
       "    }\n",
       "\n",
       "    .dataframe thead th {\n",
       "        text-align: right;\n",
       "    }\n",
       "</style>\n",
       "<table border=\"1\" class=\"dataframe\">\n",
       "  <thead>\n",
       "    <tr style=\"text-align: right;\">\n",
       "      <th></th>\n",
       "      <th>site</th>\n",
       "      <th>amino_acid</th>\n",
       "      <th>alignment_counts</th>\n",
       "    </tr>\n",
       "  </thead>\n",
       "  <tbody>\n",
       "    <tr>\n",
       "      <th>1</th>\n",
       "      <td>2</td>\n",
       "      <td>M</td>\n",
       "      <td>4</td>\n",
       "    </tr>\n",
       "    <tr>\n",
       "      <th>2</th>\n",
       "      <td>27</td>\n",
       "      <td>M</td>\n",
       "      <td>2</td>\n",
       "    </tr>\n",
       "    <tr>\n",
       "      <th>3</th>\n",
       "      <td>32</td>\n",
       "      <td>M</td>\n",
       "      <td>3</td>\n",
       "    </tr>\n",
       "    <tr>\n",
       "      <th>4</th>\n",
       "      <td>64</td>\n",
       "      <td>M</td>\n",
       "      <td>1</td>\n",
       "    </tr>\n",
       "    <tr>\n",
       "      <th>5</th>\n",
       "      <td>68</td>\n",
       "      <td>M</td>\n",
       "      <td>17</td>\n",
       "    </tr>\n",
       "    <tr>\n",
       "      <th>...</th>\n",
       "      <td>...</td>\n",
       "      <td>...</td>\n",
       "      <td>...</td>\n",
       "    </tr>\n",
       "    <tr>\n",
       "      <th>9080</th>\n",
       "      <td>1209</td>\n",
       "      <td>H</td>\n",
       "      <td>6</td>\n",
       "    </tr>\n",
       "    <tr>\n",
       "      <th>9081</th>\n",
       "      <td>474</td>\n",
       "      <td>H</td>\n",
       "      <td>37</td>\n",
       "    </tr>\n",
       "    <tr>\n",
       "      <th>9082</th>\n",
       "      <td>901</td>\n",
       "      <td>H</td>\n",
       "      <td>1</td>\n",
       "    </tr>\n",
       "    <tr>\n",
       "      <th>9084</th>\n",
       "      <td>983</td>\n",
       "      <td>H</td>\n",
       "      <td>1</td>\n",
       "    </tr>\n",
       "    <tr>\n",
       "      <th>9085</th>\n",
       "      <td>992</td>\n",
       "      <td>H</td>\n",
       "      <td>1</td>\n",
       "    </tr>\n",
       "  </tbody>\n",
       "</table>\n",
       "<p>7834 rows × 3 columns</p>\n",
       "</div>"
      ],
      "text/plain": [
       "      site amino_acid  alignment_counts\n",
       "1        2          M                 4\n",
       "2       27          M                 2\n",
       "3       32          M                 3\n",
       "4       64          M                 1\n",
       "5       68          M                17\n",
       "...    ...        ...               ...\n",
       "9080  1209          H                 6\n",
       "9081   474          H                37\n",
       "9082   901          H                 1\n",
       "9084   983          H                 1\n",
       "9085   992          H                 1\n",
       "\n",
       "[7834 rows x 3 columns]"
      ]
     },
     "execution_count": 53,
     "metadata": {},
     "output_type": "execute_result"
    }
   ],
   "source": [
    "#merge reference_lookup and gisaid_mutations tables\n",
    "#remove GISAID mutations that are in variant spike already\n",
    "new_df = pd.merge(gisaid_mutations,\n",
    "                  reference_lookup,\n",
    "                  how='left',\n",
    "                  left_on=['site','amino_acid'],\n",
    "                  right_on = ['parent_pos','parent_seq'],\n",
    "                  indicator=True)\n",
    "\n",
    "#filter on amino acids not already present in variant\n",
    "new_df_noWU = new_df.loc[(new_df['_merge'] == 'left_only')]\n",
    "new_gisaid_mutations = new_df[new_df.index.isin(new_df_noWU.index)]\n",
    "new_gisaid_mutations = new_gisaid_mutations[['site','amino_acid','alignment_counts']]\n",
    "new_gisaid_mutations"
   ]
  },
  {
   "cell_type": "code",
   "execution_count": 54,
   "metadata": {},
   "outputs": [
    {
     "data": {
      "text/html": [
       "<div>\n",
       "<style scoped>\n",
       "    .dataframe tbody tr th:only-of-type {\n",
       "        vertical-align: middle;\n",
       "    }\n",
       "\n",
       "    .dataframe tbody tr th {\n",
       "        vertical-align: top;\n",
       "    }\n",
       "\n",
       "    .dataframe thead th {\n",
       "        text-align: right;\n",
       "    }\n",
       "</style>\n",
       "<table border=\"1\" class=\"dataframe\">\n",
       "  <thead>\n",
       "    <tr style=\"text-align: right;\">\n",
       "      <th></th>\n",
       "      <th>site</th>\n",
       "      <th>amino_acid</th>\n",
       "      <th>alignment_counts</th>\n",
       "      <th>n_mutations_to</th>\n",
       "    </tr>\n",
       "  </thead>\n",
       "  <tbody>\n",
       "    <tr>\n",
       "      <th>0</th>\n",
       "      <td>1</td>\n",
       "      <td>I</td>\n",
       "      <td>7</td>\n",
       "      <td>1.0</td>\n",
       "    </tr>\n",
       "    <tr>\n",
       "      <th>1</th>\n",
       "      <td>1</td>\n",
       "      <td>I</td>\n",
       "      <td>7</td>\n",
       "      <td>2.0</td>\n",
       "    </tr>\n",
       "    <tr>\n",
       "      <th>2</th>\n",
       "      <td>2</td>\n",
       "      <td>V</td>\n",
       "      <td>29</td>\n",
       "      <td>1.0</td>\n",
       "    </tr>\n",
       "    <tr>\n",
       "      <th>3</th>\n",
       "      <td>2</td>\n",
       "      <td>L</td>\n",
       "      <td>353</td>\n",
       "      <td>42.0</td>\n",
       "    </tr>\n",
       "    <tr>\n",
       "      <th>4</th>\n",
       "      <td>2</td>\n",
       "      <td>L</td>\n",
       "      <td>353</td>\n",
       "      <td>11.0</td>\n",
       "    </tr>\n",
       "    <tr>\n",
       "      <th>...</th>\n",
       "      <td>...</td>\n",
       "      <td>...</td>\n",
       "      <td>...</td>\n",
       "      <td>...</td>\n",
       "    </tr>\n",
       "    <tr>\n",
       "      <th>4935</th>\n",
       "      <td>1272</td>\n",
       "      <td>D</td>\n",
       "      <td>1</td>\n",
       "      <td>1.0</td>\n",
       "    </tr>\n",
       "    <tr>\n",
       "      <th>4936</th>\n",
       "      <td>1272</td>\n",
       "      <td>H</td>\n",
       "      <td>76</td>\n",
       "      <td>8.0</td>\n",
       "    </tr>\n",
       "    <tr>\n",
       "      <th>4937</th>\n",
       "      <td>1273</td>\n",
       "      <td>I</td>\n",
       "      <td>300</td>\n",
       "      <td>69.0</td>\n",
       "    </tr>\n",
       "    <tr>\n",
       "      <th>4938</th>\n",
       "      <td>1273</td>\n",
       "      <td>A</td>\n",
       "      <td>34</td>\n",
       "      <td>3.0</td>\n",
       "    </tr>\n",
       "    <tr>\n",
       "      <th>4939</th>\n",
       "      <td>1273</td>\n",
       "      <td>T</td>\n",
       "      <td>2238089</td>\n",
       "      <td>1.0</td>\n",
       "    </tr>\n",
       "  </tbody>\n",
       "</table>\n",
       "<p>4940 rows × 4 columns</p>\n",
       "</div>"
      ],
      "text/plain": [
       "      site amino_acid  alignment_counts  n_mutations_to\n",
       "0        1          I                 7             1.0\n",
       "1        1          I                 7             2.0\n",
       "2        2          V                29             1.0\n",
       "3        2          L               353            42.0\n",
       "4        2          L               353            11.0\n",
       "...    ...        ...               ...             ...\n",
       "4935  1272          D                 1             1.0\n",
       "4936  1272          H                76             8.0\n",
       "4937  1273          I               300            69.0\n",
       "4938  1273          A                34             3.0\n",
       "4939  1273          T           2238089             1.0\n",
       "\n",
       "[4940 rows x 4 columns]"
      ]
     },
     "execution_count": 54,
     "metadata": {},
     "output_type": "execute_result"
    }
   ],
   "source": [
    "#now merge tables just on parent position, remove rows with no usher data, sort by position\n",
    "new_gisaid_mutations = pd.merge(new_gisaid_mutations,\n",
    "                  usher_df,\n",
    "                  how='left',\n",
    "                  left_on=['site', 'amino_acid'],\n",
    "                  right_on = ['site', 'amino_acid'])\n",
    "\n",
    "#drop positions with NaN in parent sequence removed CTD amino acids\n",
    "new_gisaid_mutations = new_gisaid_mutations[new_gisaid_mutations['n_mutations_to'].notna()]\n",
    "new_gisaid_mutations = new_gisaid_mutations.sort_values(by=['site'],ignore_index=True )\n",
    "new_gisaid_mutations"
   ]
  },
  {
   "cell_type": "markdown",
   "metadata": {},
   "source": [
    "Now plot correlation between usher and GISAID data"
   ]
  },
  {
   "cell_type": "code",
   "execution_count": 55,
   "metadata": {},
   "outputs": [
    {
     "data": {
      "image/png": "[encoded data removed]",
      "text/plain": [
       "<Figure size 640x480 with 1 Axes>"
      ]
     },
     "metadata": {},
     "output_type": "display_data"
    },
    {
     "data": {
      "text/plain": [
       "<bound method ggplot.draw of <ggplot: (8770690458260)>>"
      ]
     },
     "execution_count": 55,
     "metadata": {},
     "output_type": "execute_result"
    }
   ],
   "source": [
    "p = (ggplot(new_gisaid_mutations) + \n",
    "     aes('alignment_counts', 'n_mutations_to') + \n",
    "     geom_point(alpha = 0.3)+\n",
    "     scale_x_log10()+\n",
    "     scale_y_log10()\n",
    "    )\n",
    "p.draw"
   ]
  },
  {
   "cell_type": "markdown",
   "metadata": {},
   "source": [
    "Now look at which mutations in usher are not present in GISAID"
   ]
  },
  {
   "cell_type": "code",
   "execution_count": 56,
   "metadata": {},
   "outputs": [
    {
     "data": {
      "text/html": [
       "<div>\n",
       "<style scoped>\n",
       "    .dataframe tbody tr th:only-of-type {\n",
       "        vertical-align: middle;\n",
       "    }\n",
       "\n",
       "    .dataframe tbody tr th {\n",
       "        vertical-align: top;\n",
       "    }\n",
       "\n",
       "    .dataframe thead th {\n",
       "        text-align: right;\n",
       "    }\n",
       "</style>\n",
       "<table border=\"1\" class=\"dataframe\">\n",
       "  <thead>\n",
       "    <tr style=\"text-align: right;\">\n",
       "      <th></th>\n",
       "      <th>site</th>\n",
       "      <th>amino_acid</th>\n",
       "      <th>n_mutations_to</th>\n",
       "      <th>site_mutations</th>\n",
       "    </tr>\n",
       "  </thead>\n",
       "  <tbody>\n",
       "    <tr>\n",
       "      <th>1054</th>\n",
       "      <td>710</td>\n",
       "      <td>I</td>\n",
       "      <td>14</td>\n",
       "      <td>710I</td>\n",
       "    </tr>\n",
       "    <tr>\n",
       "      <th>1356</th>\n",
       "      <td>743</td>\n",
       "      <td>S</td>\n",
       "      <td>10</td>\n",
       "      <td>743S</td>\n",
       "    </tr>\n",
       "    <tr>\n",
       "      <th>2659</th>\n",
       "      <td>716</td>\n",
       "      <td>S</td>\n",
       "      <td>4</td>\n",
       "      <td>716S</td>\n",
       "    </tr>\n",
       "    <tr>\n",
       "      <th>2757</th>\n",
       "      <td>975</td>\n",
       "      <td>I</td>\n",
       "      <td>3</td>\n",
       "      <td>975I</td>\n",
       "    </tr>\n",
       "    <tr>\n",
       "      <th>3036</th>\n",
       "      <td>70</td>\n",
       "      <td>D</td>\n",
       "      <td>3</td>\n",
       "      <td>70D</td>\n",
       "    </tr>\n",
       "    <tr>\n",
       "      <th>...</th>\n",
       "      <td>...</td>\n",
       "      <td>...</td>\n",
       "      <td>...</td>\n",
       "      <td>...</td>\n",
       "    </tr>\n",
       "    <tr>\n",
       "      <th>5483</th>\n",
       "      <td>1213</td>\n",
       "      <td>R</td>\n",
       "      <td>1</td>\n",
       "      <td>1213R</td>\n",
       "    </tr>\n",
       "    <tr>\n",
       "      <th>5489</th>\n",
       "      <td>1190</td>\n",
       "      <td>D</td>\n",
       "      <td>1</td>\n",
       "      <td>1190D</td>\n",
       "    </tr>\n",
       "    <tr>\n",
       "      <th>5498</th>\n",
       "      <td>1159</td>\n",
       "      <td>N</td>\n",
       "      <td>1</td>\n",
       "      <td>1159N</td>\n",
       "    </tr>\n",
       "    <tr>\n",
       "      <th>5501</th>\n",
       "      <td>1142</td>\n",
       "      <td>E</td>\n",
       "      <td>1</td>\n",
       "      <td>1142E</td>\n",
       "    </tr>\n",
       "    <tr>\n",
       "      <th>5509</th>\n",
       "      <td>1106</td>\n",
       "      <td>E</td>\n",
       "      <td>1</td>\n",
       "      <td>1106E</td>\n",
       "    </tr>\n",
       "  </tbody>\n",
       "</table>\n",
       "<p>167 rows × 4 columns</p>\n",
       "</div>"
      ],
      "text/plain": [
       "      site amino_acid  n_mutations_to site_mutations\n",
       "1054   710          I              14           710I\n",
       "1356   743          S              10           743S\n",
       "2659   716          S               4           716S\n",
       "2757   975          I               3           975I\n",
       "3036    70          D               3            70D\n",
       "...    ...        ...             ...            ...\n",
       "5483  1213          R               1          1213R\n",
       "5489  1190          D               1          1190D\n",
       "5498  1159          N               1          1159N\n",
       "5501  1142          E               1          1142E\n",
       "5509  1106          E               1          1106E\n",
       "\n",
       "[167 rows x 4 columns]"
      ]
     },
     "execution_count": 56,
     "metadata": {},
     "output_type": "execute_result"
    }
   ],
   "source": [
    "usher_df[\"site_mutations\"] = usher_df[\"site\"].astype(str) + usher_df[\"amino_acid\"]\n",
    "gisaid_mutations[\"site_mutations\"] = gisaid_mutations[\"site\"].astype(str) + gisaid_mutations[\"amino_acid\"]\n",
    "\n",
    "notInGISAID=usher_df.loc[~usher_df.site_mutations.isin(gisaid_mutations.site_mutations),]\n",
    "notInGISAID"
   ]
  },
  {
   "cell_type": "markdown",
   "metadata": {},
   "source": [
    "Now plot counts for usher sites not present in GISAID"
   ]
  },
  {
   "cell_type": "code",
   "execution_count": 57,
   "metadata": {},
   "outputs": [
    {
     "name": "stderr",
     "output_type": "stream",
     "text": [
      "/fh/fast/bloom_j/software/miniconda3/envs/BloomLab/lib/python3.8/site-packages/plotnine/stats/stat_bin.py:93: PlotnineWarning: 'stat_bin()' using 'bins = 13'. Pick better value with 'binwidth'.\n"
     ]
    },
    {
     "data": {
      "image/png": "[encoded data removed]",
      "text/plain": [
       "<Figure size 640x480 with 1 Axes>"
      ]
     },
     "metadata": {},
     "output_type": "display_data"
    },
    {
     "data": {
      "text/plain": [
       "<bound method ggplot.draw of <ggplot: (8770690430296)>>"
      ]
     },
     "execution_count": 57,
     "metadata": {},
     "output_type": "execute_result"
    }
   ],
   "source": [
    "p = (ggplot(notInGISAID) + \n",
    "     aes('n_mutations_to') + \n",
    "     geom_histogram()\n",
    "    )\n",
    "p.draw"
   ]
  },
  {
   "cell_type": "code",
   "execution_count": 58,
   "metadata": {},
   "outputs": [
    {
     "data": {
      "image/png": "[encoded data removed]",
      "text/plain": [
       "<Figure size 640x480 with 1 Axes>"
      ]
     },
     "metadata": {},
     "output_type": "display_data"
    },
    {
     "data": {
      "text/plain": [
       "<bound method ggplot.draw of <ggplot: (8770690191026)>>"
      ]
     },
     "execution_count": 58,
     "metadata": {},
     "output_type": "execute_result"
    }
   ],
   "source": [
    "#plot sites of usher changes\n",
    "p = (ggplot(new_gisaid_mutations) + \n",
    "     aes('site') + \n",
    "     geom_bar()\n",
    "    )\n",
    "\n",
    "# ggsave(plot = p, filename = 'results/primer_tm_dist.png')\n",
    "p.draw"
   ]
  },
  {
   "cell_type": "markdown",
   "metadata": {},
   "source": [
    "## Filter usher dataset"
   ]
  },
  {
   "cell_type": "markdown",
   "metadata": {},
   "source": [
    "We want to filter usher data for more frequent mutations"
   ]
  },
  {
   "cell_type": "code",
   "execution_count": 59,
   "metadata": {},
   "outputs": [],
   "source": [
    "#merge lookup and usher tables\n",
    "#remove mutations that are in variant spike already\n",
    "new_usher_df = pd.merge(usher_df,\n",
    "                  reference_lookup,\n",
    "                  how='left',\n",
    "                  left_on=['site','amino_acid'],\n",
    "                  right_on = ['parent_pos','parent_seq'],\n",
    "                  indicator=True)\n",
    "\n",
    "#filter on amino acids not already present in variant\n",
    "new_new_usher_df_noRef = new_usher_df.loc[(new_usher_df['_merge'] == 'left_only') | (new_usher_df['variant_sig'] == 'Yes')]\n",
    "new_usher_df = new_usher_df[new_usher_df.index.isin(new_new_usher_df_noRef.index)]\n",
    "new_usher_df = new_usher_df[['site','amino_acid','n_mutations_to']]\n"
   ]
  },
  {
   "cell_type": "code",
   "execution_count": 60,
   "metadata": {},
   "outputs": [
    {
     "data": {
      "text/html": [
       "<div>\n",
       "<style scoped>\n",
       "    .dataframe tbody tr th:only-of-type {\n",
       "        vertical-align: middle;\n",
       "    }\n",
       "\n",
       "    .dataframe tbody tr th {\n",
       "        vertical-align: top;\n",
       "    }\n",
       "\n",
       "    .dataframe thead th {\n",
       "        text-align: right;\n",
       "    }\n",
       "</style>\n",
       "<table border=\"1\" class=\"dataframe\">\n",
       "  <thead>\n",
       "    <tr style=\"text-align: right;\">\n",
       "      <th></th>\n",
       "      <th>site</th>\n",
       "      <th>amino_acid</th>\n",
       "      <th>n_mutations_to</th>\n",
       "      <th>parent_seq</th>\n",
       "      <th>variant_seq</th>\n",
       "      <th>parent_pos</th>\n",
       "      <th>variant_pos</th>\n",
       "      <th>variant_sig</th>\n",
       "    </tr>\n",
       "  </thead>\n",
       "  <tbody>\n",
       "    <tr>\n",
       "      <th>0</th>\n",
       "      <td>1</td>\n",
       "      <td>I</td>\n",
       "      <td>1</td>\n",
       "      <td>M</td>\n",
       "      <td>M</td>\n",
       "      <td>1.0</td>\n",
       "      <td>1.0</td>\n",
       "      <td>No</td>\n",
       "    </tr>\n",
       "    <tr>\n",
       "      <th>1</th>\n",
       "      <td>1</td>\n",
       "      <td>I</td>\n",
       "      <td>2</td>\n",
       "      <td>M</td>\n",
       "      <td>M</td>\n",
       "      <td>1.0</td>\n",
       "      <td>1.0</td>\n",
       "      <td>No</td>\n",
       "    </tr>\n",
       "    <tr>\n",
       "      <th>2</th>\n",
       "      <td>2</td>\n",
       "      <td>L</td>\n",
       "      <td>42</td>\n",
       "      <td>F</td>\n",
       "      <td>F</td>\n",
       "      <td>2.0</td>\n",
       "      <td>2.0</td>\n",
       "      <td>No</td>\n",
       "    </tr>\n",
       "    <tr>\n",
       "      <th>3</th>\n",
       "      <td>2</td>\n",
       "      <td>Y</td>\n",
       "      <td>1</td>\n",
       "      <td>F</td>\n",
       "      <td>F</td>\n",
       "      <td>2.0</td>\n",
       "      <td>2.0</td>\n",
       "      <td>No</td>\n",
       "    </tr>\n",
       "    <tr>\n",
       "      <th>4</th>\n",
       "      <td>2</td>\n",
       "      <td>L</td>\n",
       "      <td>11</td>\n",
       "      <td>F</td>\n",
       "      <td>F</td>\n",
       "      <td>2.0</td>\n",
       "      <td>2.0</td>\n",
       "      <td>No</td>\n",
       "    </tr>\n",
       "    <tr>\n",
       "      <th>...</th>\n",
       "      <td>...</td>\n",
       "      <td>...</td>\n",
       "      <td>...</td>\n",
       "      <td>...</td>\n",
       "      <td>...</td>\n",
       "      <td>...</td>\n",
       "      <td>...</td>\n",
       "      <td>...</td>\n",
       "    </tr>\n",
       "    <tr>\n",
       "      <th>5014</th>\n",
       "      <td>1252</td>\n",
       "      <td>T</td>\n",
       "      <td>2</td>\n",
       "      <td>S</td>\n",
       "      <td>S</td>\n",
       "      <td>1252.0</td>\n",
       "      <td>1250.0</td>\n",
       "      <td>No</td>\n",
       "    </tr>\n",
       "    <tr>\n",
       "      <th>5015</th>\n",
       "      <td>1252</td>\n",
       "      <td>Y</td>\n",
       "      <td>7</td>\n",
       "      <td>S</td>\n",
       "      <td>S</td>\n",
       "      <td>1252.0</td>\n",
       "      <td>1250.0</td>\n",
       "      <td>No</td>\n",
       "    </tr>\n",
       "    <tr>\n",
       "      <th>5016</th>\n",
       "      <td>1252</td>\n",
       "      <td>P</td>\n",
       "      <td>38</td>\n",
       "      <td>S</td>\n",
       "      <td>S</td>\n",
       "      <td>1252.0</td>\n",
       "      <td>1250.0</td>\n",
       "      <td>No</td>\n",
       "    </tr>\n",
       "    <tr>\n",
       "      <th>5017</th>\n",
       "      <td>1252</td>\n",
       "      <td>F</td>\n",
       "      <td>118</td>\n",
       "      <td>S</td>\n",
       "      <td>S</td>\n",
       "      <td>1252.0</td>\n",
       "      <td>1250.0</td>\n",
       "      <td>No</td>\n",
       "    </tr>\n",
       "    <tr>\n",
       "      <th>5018</th>\n",
       "      <td>1252</td>\n",
       "      <td>C</td>\n",
       "      <td>2</td>\n",
       "      <td>S</td>\n",
       "      <td>S</td>\n",
       "      <td>1252.0</td>\n",
       "      <td>1250.0</td>\n",
       "      <td>No</td>\n",
       "    </tr>\n",
       "  </tbody>\n",
       "</table>\n",
       "<p>5019 rows × 8 columns</p>\n",
       "</div>"
      ],
      "text/plain": [
       "      site amino_acid  n_mutations_to parent_seq variant_seq  parent_pos  \\\n",
       "0        1          I               1          M           M         1.0   \n",
       "1        1          I               2          M           M         1.0   \n",
       "2        2          L              42          F           F         2.0   \n",
       "3        2          Y               1          F           F         2.0   \n",
       "4        2          L              11          F           F         2.0   \n",
       "...    ...        ...             ...        ...         ...         ...   \n",
       "5014  1252          T               2          S           S      1252.0   \n",
       "5015  1252          Y               7          S           S      1252.0   \n",
       "5016  1252          P              38          S           S      1252.0   \n",
       "5017  1252          F             118          S           S      1252.0   \n",
       "5018  1252          C               2          S           S      1252.0   \n",
       "\n",
       "      variant_pos variant_sig  \n",
       "0             1.0          No  \n",
       "1             1.0          No  \n",
       "2             2.0          No  \n",
       "3             2.0          No  \n",
       "4             2.0          No  \n",
       "...           ...         ...  \n",
       "5014       1250.0          No  \n",
       "5015       1250.0          No  \n",
       "5016       1250.0          No  \n",
       "5017       1250.0          No  \n",
       "5018       1250.0          No  \n",
       "\n",
       "[5019 rows x 8 columns]"
      ]
     },
     "execution_count": 60,
     "metadata": {},
     "output_type": "execute_result"
    }
   ],
   "source": [
    "#now merge tables just on parent position\n",
    "new_usher_df = pd.merge(new_usher_df,\n",
    "                  reference_lookup,\n",
    "                  how='left',\n",
    "                  left_on=['site'],\n",
    "                  right_on = ['parent_pos'])\n",
    "\n",
    "#drop positions with NaN in parent sequence removed CTD amino acids\n",
    "new_usher_df = new_usher_df[new_usher_df['parent_pos'].notna()]\n",
    "new_usher_df = new_usher_df.sort_values(by=['site'],ignore_index=True)\n",
    "new_usher_df"
   ]
  },
  {
   "cell_type": "code",
   "execution_count": 61,
   "metadata": {},
   "outputs": [
    {
     "name": "stderr",
     "output_type": "stream",
     "text": [
      "/fh/fast/bloom_j/software/miniconda3/envs/BloomLab/lib/python3.8/site-packages/plotnine/layer.py:372: PlotnineWarning: stat_bin : Removed 82 rows containing non-finite values.\n",
      "/fh/fast/bloom_j/software/miniconda3/envs/BloomLab/lib/python3.8/site-packages/plotnine/layer.py:467: PlotnineWarning: geom_histogram : Removed 2 rows containing missing values.\n"
     ]
    },
    {
     "data": {
      "image/png": "[encoded data removed]",
      "text/plain": [
       "<Figure size 640x480 with 1 Axes>"
      ]
     },
     "metadata": {},
     "output_type": "display_data"
    },
    {
     "data": {
      "text/plain": [
       "<bound method ggplot.draw of <ggplot: (8770690359863)>>"
      ]
     },
     "execution_count": 61,
     "metadata": {},
     "output_type": "execute_result"
    }
   ],
   "source": [
    "p = (ggplot(new_usher_df) + \n",
    "     aes('n_mutations_to') + \n",
    "     geom_histogram(color='white', bins=100)+\n",
    "     xlim(0,200)\n",
    "    )\n",
    "\n",
    "# ggsave(plot = p, filename = 'results/primer_tm_dist.png')\n",
    "p.draw"
   ]
  },
  {
   "cell_type": "code",
   "execution_count": 62,
   "metadata": {},
   "outputs": [
    {
     "data": {
      "text/plain": [
       "1312"
      ]
     },
     "execution_count": 62,
     "metadata": {},
     "output_type": "execute_result"
    }
   ],
   "source": [
    "#drop mutations that occur less >= <usher_count_filter> times\n",
    "new_usher_df=new_usher_df.loc[new_usher_df['n_mutations_to'] >= usher_count_filter]\n",
    "len(new_usher_df)"
   ]
  },
  {
   "cell_type": "code",
   "execution_count": 63,
   "metadata": {},
   "outputs": [
    {
     "name": "stderr",
     "output_type": "stream",
     "text": [
      "/fh/fast/bloom_j/software/miniconda3/envs/BloomLab/lib/python3.8/site-packages/plotnine/layer.py:372: PlotnineWarning: stat_bin : Removed 82 rows containing non-finite values.\n",
      "/fh/fast/bloom_j/software/miniconda3/envs/BloomLab/lib/python3.8/site-packages/plotnine/layer.py:467: PlotnineWarning: geom_histogram : Removed 2 rows containing missing values.\n"
     ]
    },
    {
     "data": {
      "image/png": "[encoded data removed]",
      "text/plain": [
       "<Figure size 640x480 with 1 Axes>"
      ]
     },
     "metadata": {},
     "output_type": "display_data"
    },
    {
     "data": {
      "text/plain": [
       "<bound method ggplot.draw of <ggplot: (8770690462504)>>"
      ]
     },
     "execution_count": 63,
     "metadata": {},
     "output_type": "execute_result"
    }
   ],
   "source": [
    "p = (ggplot(new_usher_df) + \n",
    "     aes('n_mutations_to') + \n",
    "     geom_histogram(color='white', bins=100)+\n",
    "     xlim(0,200)\n",
    "    )\n",
    "\n",
    "# ggsave(plot = p, filename = 'results/primer_tm_dist.png')\n",
    "p.draw"
   ]
  },
  {
   "cell_type": "markdown",
   "metadata": {},
   "source": [
    "Now filter drop columns that we don't need and relabel for variant"
   ]
  },
  {
   "cell_type": "code",
   "execution_count": 64,
   "metadata": {},
   "outputs": [],
   "source": [
    "#create new table with mutations according to variant numbering\n",
    "new_usher_df = new_usher_df[['variant_pos', 'amino_acid', 'n_mutations_to']].copy()\n",
    "new_usher_df = new_usher_df.rename(\n",
    "                            columns={\"variant_pos\": \"site\",\n",
    "                                     \"amino_acid\": \"mutant\",\n",
    "                                     \"n_mutations_to\": \"n_mutations_to\" }\n",
    ")\n",
    "new_usher_df\n",
    "new_usher_df.to_csv(new_usher_df_out, index=False) "
   ]
  },
  {
   "cell_type": "markdown",
   "metadata": {},
   "source": [
    "## Make usher primers"
   ]
  },
  {
   "cell_type": "code",
   "execution_count": 65,
   "metadata": {},
   "outputs": [
    {
     "name": "stdout",
     "output_type": "stream",
     "text": [
      "Read the following command line arguments\n",
      "\tsequencefile = ../reference_sequences/B16172_extended_ends_for_primers.txt\n",
      "\tmutations_csv = ../results/variant_usher_mutations.csv\n",
      "\tcodon_frequency_csv = ../reference_sequences/homo_codon_freq_del.csv\n",
      "\tprimerprefix = variantGISAID\n",
      "\toutfile = ../results/primers/usher_primers.csv\n",
      "\tstartprimerlength = 37\n",
      "\tmaxprimertm = 61.5\n",
      "\tminprimertm = 60.5\n",
      "\tminlength = 25\n",
      "\tmaxlength = 51\n",
      "Read a sequence of length 3842 from ../reference_sequences/B16172_extended_ends_for_primers.txt:\n",
      "cagccgagccacatcgctcaacgcgtgccaccATGTTTGTGTTCCTGGTGCTGCTGCCACTGGTGTCCAGCCAGTGTGTGAACCTGAGAACCAGGACCCAACTTCCTCCTGCCTACACCAACTCCTTCACCAGGGGAGTCTACTACCCTGACAAGGTGTTCAGGTCCTCTGTGCTGCACAGCACCCAGGACCTGTTCCTGCCATTCTTCAGCAATGTGACCTGGTTCCATGCCATCCATGTGTCTGGCACCAATGGCACCAAGAGGTTTGACAACCCTGTGCTGCCATTCAATGATGGAGTCTACTTTGCCAGCACAGAGAAGAGCAACATCATCAGGGGCTGGATTTTTGGCACCACCCTGGACAGCAAGACCCAGTCCCTGCTGATTGTGAACAATGCCACCAATGTGGTGATTAAGGTGTGTGAGTTCCAGTTCTGTAATGACCCATTCCTGGACGTCTACTACCACAAGAACAACAAGTCCTGGATGGAGTCTGGAGTCTACTCCTCTGCCAACAACTGTACCTTTGAATATGTGAGCCAACCATTCCTGATGGACTTGGAGGGCAAGCAGGGCAACTTCAAGAACCTGAGGGAGTTTGTGTTCAAGAACATTGATGGCTACTTCAAGATTTACAGCAAACACACACCAATCAACCTGGTGAGGGACCTGCCACAGGGCTTCTCTGCCTTGGAACCACTGGTGGACCTGCCAATTGGCATCAACATCACCAGGTTCCAGACCCTGCTGGCTCTGCACAGGTCCTACCTGACACCTGGAGACTCCTCCTCTGGCTGGACAGCAGGAGCAGCAGCCTACTATGTGGGCTACCTCCAACCAAGGACCTTCCTGCTGAAATACAATGAGAATGGCACCATCACAGATGCTGTGGACTGTGCCCTGGACCCACTGTCTGAGACCAAGTGTACCCTGAAATCCTTCACAGTGGAGAAGGGCATCTACCAGACCAGCAACTTCAGGGTCCAACCAACAGAGAGCATTGTGAGGTTTCCAAACATCACCAACCTGTGTCCATTTGGAGAGGTGTTCAATGCCACCAGGTTTGCCTCTGTCTATGCCTGGAACAGGAAGAGGATTAGCAACTGTGTGGCTGACTACTCTGTGCTCTACAACTCTGCCTCCTTCAGCACCTTCAAGTGTTATGGAGTGAGCCCAACCAAACTGAATGACCTGTGTTTCACCAATGTCTATGCTGACTCCTTTGTGATTAGGGGAGATGAGGTGAGACAGATTGCCCCTGGACAAACAGGCAAGATTGCTGACTACAACTACAAACTGCCTGATGACTTCACAGGCTGTGTGATTGCCTGGAACAGCAACAACCTGGACAGCAAGGTGGGAGGCAACTACAACTACAGATACAGACTGTTCAGGAAGAGCAACCTGAAACCATTTGAGAGGGACATCAGCACAGAGATTTACCAGGCTGGCAGCAAGCCATGTAATGGAGTGGAGGGCTTCAACTGTTACTTTCCACTCCAATCCTATGGCTTCCAACCAACCAATGGAGTGGGCTACCAACCATACAGGGTGGTGGTGCTGTCCTTTGAACTGCTCCATGCCCCTGCCACAGTGTGTGGACCAAAGAAGAGCACCAACCTGGTGAAGAACAAGTGTGTGAACTTCAACTTCAATGGACTGACAGGCACAGGAGTGCTGACAGAGAGCAACAAGAAGTTCCTGCCATTCCAACAGTTTGGCAGGGACATTGCTGACACCACAGATGCTGTGAGGGACCCACAGACCTTGGAGATTCTGGACATCACACCATGTTCCTTTGGAGGAGTGTCTGTGATTACACCTGGCACCAACACCAGCAACCAGGTGGCTGTGCTCTACCAGGGTGTGAACTGTACTGAGGTGCCTGTGGCTATCCATGCTGACCAACTTACACCAACCTGGAGGGTCTACAGCACAGGCAGCAATGTGTTCCAGACCAGGGCTGGCTGTCTGATTGGAGCAGAGCATGTGAACAACTCCTATGAGTGTGACATCCCAATTGGAGCAGGCATCTGTGCCTCCTACCAGACCCAGACCAACAGCAGAAGGAGGGCAAGGTCTGTGGCAAGCCAGAGCATCATTGCCTACACAATGAGTCTGGGAGCAGAGAACTCTGTGGCTTACAGCAACAACAGCATTGCCATCCCAACCAACTTCACCATCTCTGTGACCACAGAGATTCTGCCTGTGAGTATGACCAAGACCTCTGTGGACTGTACAATGTATATCTGTGGAGACAGCACAGAGTGTAGCAACCTGCTGCTCCAATATGGCTCCTTCTGTACCCAACTTAACAGGGCTCTGACAGGCATTGCTGTGGAACAGGACAAGAACACCCAGGAGGTGTTTGCCCAGGTGAAGCAGATTTACAAGACACCTCCAATCAAGGACTTTGGAGGCTTCAACTTCAGCCAGATTCTGCCTGACCCAAGCAAGCCAAGCAAGAGGTCCTTCATTGAGGACCTGCTGTTCAACAAGGTGACCCTGGCTGATGCTGGCTTCATCAAGCAATATGGAGACTGTCTGGGAGACATTGCTGCCAGGGACCTGATTTGTGCCCAGAAGTTCAATGGACTGACAGTGCTGCCTCCACTGCTGACAGATGAGATGATTGCCCAATACACCTCTGCCCTGCTGGCTGGCACCATCACCTCTGGCTGGACCTTTGGAGCAGGAGCAGCCCTCCAAATCCCATTTGCTATGCAGATGGCTTACAGGTTCAATGGCATTGGAGTGACCCAGAATGTGCTCTATGAGAACCAGAAACTGATTGCCAACCAGTTCAACTCTGCCATTGGCAAGATTCAGGACTCCCTGTCCAGCACAGCCTCTGCCCTGGGCAAACTCCAAAACGTGGTGAACCAGAATGCCCAGGCTCTGAACACCCTGGTGAAGCAACTTTCCAGCAACTTTGGAGCCATCTCCTCTGTGCTGAATGACATCCTGAGCAGACTGGACAAGGTGGAGGCTGAGGTCCAGATTGACAGACTGATTACAGGCAGACTCCAATCCCTCCAAACCTATGTGACCCAACAACTTATCAGGGCTGCTGAGATTAGGGCATCTGCCAACCTGGCTGCCACCAAGATGAGTGAGTGTGTGCTGGGACAAAGCAAGAGGGTGGACTTCTGTGGCAAGGGCTACCACCTGATGAGTTTTCCACAGTCTGCCCCTCATGGAGTGGTGTTCCTGCATGTGACCTATGTGCCTGCCCAGGAGAAGAACTTCACCACAGCCCCTGCCATCTGCCATGATGGCAAGGCTCACTTTCCAAGGGAGGGAGTGTTTGTGAGCAATGGCACCCACTGGTTTGTGACCCAGAGGAACTTCTATGAACCACAGATTATCACCACAGACAACACCTTTGTGTCTGGCAACTGTGATGTGGTGATTGGCATTGTGAACAACACAGTCTATGACCCACTCCAACCTGAACTGGACTCCTTCAAGGAGGAACTGGACAAATACTTCAAGAACCACACCAGCCCTGATGTGGACCTGGGAGACATCTCTGGCATCAATGCCTCTGTGGTGAACATCCAGAAGGAGATTGACAGACTGAATGAGGTGGCTAAGAACCTGAATGAGTCCCTGATTGACCTCCAAGAACTGGGCAAATATGAACAATACATCAAGTGGCCATGGTACATCTGGCTGGGCTTCATTGCTGGACTGATTGCCATTGTGATGGTGACCATAATGCTGTGTTGTATGACCTCCTGTTGTTCCTGTCTGAAAGGCTGTTGTTCCTGTGGCTCCTGAtaatgaggcgcgcctagttggatcacactctttccctacacgacgctcttccgatct\n",
      "The primers will be named with the prefix variantGISAID\n",
      "Designed 1306 mutation forward primers.\n",
      "Designed 1306 mutation reverse primers.\n",
      "This gives a total of 2612 primers.\n",
      "\n",
      "Now writing these primers to ../results/primers/usher_primers.csv\n"
     ]
    }
   ],
   "source": [
    "# run primer design script\n",
    "!python {create_primers_srcipt} \\\n",
    "    {spike_extended} \\\n",
    "    {new_usher_df_out} \\\n",
    "    {codon_table} \\\n",
    "    variant_usher \\\n",
    "    {usher_primers} \\\n",
    "    --minprimertm 60.5 \\\n",
    "    --maxprimertm 61.5"
   ]
  },
  {
   "cell_type": "markdown",
   "metadata": {},
   "source": [
    "## Check usher primers"
   ]
  },
  {
   "cell_type": "code",
   "execution_count": 66,
   "metadata": {},
   "outputs": [
    {
     "data": {
      "text/html": [
       "<div>\n",
       "<style scoped>\n",
       "    .dataframe tbody tr th:only-of-type {\n",
       "        vertical-align: middle;\n",
       "    }\n",
       "\n",
       "    .dataframe tbody tr th {\n",
       "        vertical-align: top;\n",
       "    }\n",
       "\n",
       "    .dataframe thead th {\n",
       "        text-align: right;\n",
       "    }\n",
       "</style>\n",
       "<table border=\"1\" class=\"dataframe\">\n",
       "  <thead>\n",
       "    <tr style=\"text-align: right;\">\n",
       "      <th></th>\n",
       "      <th>primer_name</th>\n",
       "      <th>seq</th>\n",
       "    </tr>\n",
       "  </thead>\n",
       "  <tbody>\n",
       "    <tr>\n",
       "      <th>0</th>\n",
       "      <td>variantGISAID-for-mut2L</td>\n",
       "      <td>gtgccaccATGCTGGTGTTCCTGGT</td>\n",
       "    </tr>\n",
       "    <tr>\n",
       "      <th>1</th>\n",
       "      <td>variantGISAID-for-mut2L</td>\n",
       "      <td>gtgccaccATGCTGGTGTTCCTGGT</td>\n",
       "    </tr>\n",
       "    <tr>\n",
       "      <th>2</th>\n",
       "      <td>variantGISAID-for-mut3G</td>\n",
       "      <td>ccaccATGTTTGGCTTCCTGGTGCT</td>\n",
       "    </tr>\n",
       "    <tr>\n",
       "      <th>3</th>\n",
       "      <td>variantGISAID-for-mut3F</td>\n",
       "      <td>gccaccATGTTTTTCTTCCTGGTGCTG</td>\n",
       "    </tr>\n",
       "    <tr>\n",
       "      <th>4</th>\n",
       "      <td>variantGISAID-for-mut3I</td>\n",
       "      <td>gccaccATGTTTATCTTCCTGGTGCTG</td>\n",
       "    </tr>\n",
       "    <tr>\n",
       "      <th>...</th>\n",
       "      <td>...</td>\n",
       "      <td>...</td>\n",
       "    </tr>\n",
       "    <tr>\n",
       "      <th>2607</th>\n",
       "      <td>variantGISAID-rev-mut1249V</td>\n",
       "      <td>cctcattaTCAGGACACACAGGAACAACAGC</td>\n",
       "    </tr>\n",
       "    <tr>\n",
       "      <th>2608</th>\n",
       "      <td>variantGISAID-rev-mut1249R</td>\n",
       "      <td>cctcattaTCAGGACCTACAGGAACAACAGC</td>\n",
       "    </tr>\n",
       "    <tr>\n",
       "      <th>2609</th>\n",
       "      <td>variantGISAID-rev-mut1249E</td>\n",
       "      <td>cctcattaTCAGGACTCACAGGAACAACAGC</td>\n",
       "    </tr>\n",
       "    <tr>\n",
       "      <th>2610</th>\n",
       "      <td>variantGISAID-rev-mut1250P</td>\n",
       "      <td>gcctcattaTCAGGGGCCACAGGAAC</td>\n",
       "    </tr>\n",
       "    <tr>\n",
       "      <th>2611</th>\n",
       "      <td>variantGISAID-rev-mut1250F</td>\n",
       "      <td>cgcctcattaTCAGAAGCCACAGGAACAA</td>\n",
       "    </tr>\n",
       "  </tbody>\n",
       "</table>\n",
       "<p>2612 rows × 2 columns</p>\n",
       "</div>"
      ],
      "text/plain": [
       "                     primer_name                               seq\n",
       "0        variantGISAID-for-mut2L         gtgccaccATGCTGGTGTTCCTGGT\n",
       "1        variantGISAID-for-mut2L         gtgccaccATGCTGGTGTTCCTGGT\n",
       "2        variantGISAID-for-mut3G         ccaccATGTTTGGCTTCCTGGTGCT\n",
       "3        variantGISAID-for-mut3F       gccaccATGTTTTTCTTCCTGGTGCTG\n",
       "4        variantGISAID-for-mut3I       gccaccATGTTTATCTTCCTGGTGCTG\n",
       "...                          ...                               ...\n",
       "2607  variantGISAID-rev-mut1249V   cctcattaTCAGGACACACAGGAACAACAGC\n",
       "2608  variantGISAID-rev-mut1249R   cctcattaTCAGGACCTACAGGAACAACAGC\n",
       "2609  variantGISAID-rev-mut1249E   cctcattaTCAGGACTCACAGGAACAACAGC\n",
       "2610  variantGISAID-rev-mut1250P        gcctcattaTCAGGGGCCACAGGAAC\n",
       "2611  variantGISAID-rev-mut1250F     cgcctcattaTCAGAAGCCACAGGAACAA\n",
       "\n",
       "[2612 rows x 2 columns]"
      ]
     },
     "execution_count": 66,
     "metadata": {},
     "output_type": "execute_result"
    }
   ],
   "source": [
    "#import primer table\n",
    "header_list = [\"primer_name\", \"seq\"]\n",
    "variant_usher_primers = pd.read_csv(usher_primers, names=header_list)\n",
    "variant_usher_primers"
   ]
  },
  {
   "cell_type": "code",
   "execution_count": 67,
   "metadata": {},
   "outputs": [
    {
     "data": {
      "text/html": [
       "<div>\n",
       "<style scoped>\n",
       "    .dataframe tbody tr th:only-of-type {\n",
       "        vertical-align: middle;\n",
       "    }\n",
       "\n",
       "    .dataframe tbody tr th {\n",
       "        vertical-align: top;\n",
       "    }\n",
       "\n",
       "    .dataframe thead th {\n",
       "        text-align: right;\n",
       "    }\n",
       "</style>\n",
       "<table border=\"1\" class=\"dataframe\">\n",
       "  <thead>\n",
       "    <tr style=\"text-align: right;\">\n",
       "      <th></th>\n",
       "      <th>primer_name</th>\n",
       "      <th>seq</th>\n",
       "      <th>Tm</th>\n",
       "      <th>length</th>\n",
       "    </tr>\n",
       "  </thead>\n",
       "  <tbody>\n",
       "    <tr>\n",
       "      <th>0</th>\n",
       "      <td>variantGISAID-for-mut2L</td>\n",
       "      <td>gtgccaccATGCTGGTGTTCCTGGT</td>\n",
       "      <td>63.30</td>\n",
       "      <td>26</td>\n",
       "    </tr>\n",
       "    <tr>\n",
       "      <th>1</th>\n",
       "      <td>variantGISAID-for-mut2L</td>\n",
       "      <td>gtgccaccATGCTGGTGTTCCTGGT</td>\n",
       "      <td>63.30</td>\n",
       "      <td>26</td>\n",
       "    </tr>\n",
       "    <tr>\n",
       "      <th>2</th>\n",
       "      <td>variantGISAID-for-mut3G</td>\n",
       "      <td>ccaccATGTTTGGCTTCCTGGTGCT</td>\n",
       "      <td>61.60</td>\n",
       "      <td>26</td>\n",
       "    </tr>\n",
       "    <tr>\n",
       "      <th>3</th>\n",
       "      <td>variantGISAID-for-mut3F</td>\n",
       "      <td>gccaccATGTTTTTCTTCCTGGTGCTG</td>\n",
       "      <td>60.85</td>\n",
       "      <td>28</td>\n",
       "    </tr>\n",
       "    <tr>\n",
       "      <th>4</th>\n",
       "      <td>variantGISAID-for-mut3I</td>\n",
       "      <td>gccaccATGTTTATCTTCCTGGTGCTG</td>\n",
       "      <td>60.07</td>\n",
       "      <td>28</td>\n",
       "    </tr>\n",
       "    <tr>\n",
       "      <th>...</th>\n",
       "      <td>...</td>\n",
       "      <td>...</td>\n",
       "      <td>...</td>\n",
       "      <td>...</td>\n",
       "    </tr>\n",
       "    <tr>\n",
       "      <th>2607</th>\n",
       "      <td>variantGISAID-rev-mut1249V</td>\n",
       "      <td>cctcattaTCAGGACACACAGGAACAACAGC</td>\n",
       "      <td>61.04</td>\n",
       "      <td>32</td>\n",
       "    </tr>\n",
       "    <tr>\n",
       "      <th>2608</th>\n",
       "      <td>variantGISAID-rev-mut1249R</td>\n",
       "      <td>cctcattaTCAGGACCTACAGGAACAACAGC</td>\n",
       "      <td>60.31</td>\n",
       "      <td>32</td>\n",
       "    </tr>\n",
       "    <tr>\n",
       "      <th>2609</th>\n",
       "      <td>variantGISAID-rev-mut1249E</td>\n",
       "      <td>cctcattaTCAGGACTCACAGGAACAACAGC</td>\n",
       "      <td>60.67</td>\n",
       "      <td>32</td>\n",
       "    </tr>\n",
       "    <tr>\n",
       "      <th>2610</th>\n",
       "      <td>variantGISAID-rev-mut1250P</td>\n",
       "      <td>gcctcattaTCAGGGGCCACAGGAAC</td>\n",
       "      <td>61.05</td>\n",
       "      <td>27</td>\n",
       "    </tr>\n",
       "    <tr>\n",
       "      <th>2611</th>\n",
       "      <td>variantGISAID-rev-mut1250F</td>\n",
       "      <td>cgcctcattaTCAGAAGCCACAGGAACAA</td>\n",
       "      <td>60.90</td>\n",
       "      <td>30</td>\n",
       "    </tr>\n",
       "  </tbody>\n",
       "</table>\n",
       "<p>2612 rows × 4 columns</p>\n",
       "</div>"
      ],
      "text/plain": [
       "                     primer_name                               seq     Tm  \\\n",
       "0        variantGISAID-for-mut2L         gtgccaccATGCTGGTGTTCCTGGT  63.30   \n",
       "1        variantGISAID-for-mut2L         gtgccaccATGCTGGTGTTCCTGGT  63.30   \n",
       "2        variantGISAID-for-mut3G         ccaccATGTTTGGCTTCCTGGTGCT  61.60   \n",
       "3        variantGISAID-for-mut3F       gccaccATGTTTTTCTTCCTGGTGCTG  60.85   \n",
       "4        variantGISAID-for-mut3I       gccaccATGTTTATCTTCCTGGTGCTG  60.07   \n",
       "...                          ...                               ...    ...   \n",
       "2607  variantGISAID-rev-mut1249V   cctcattaTCAGGACACACAGGAACAACAGC  61.04   \n",
       "2608  variantGISAID-rev-mut1249R   cctcattaTCAGGACCTACAGGAACAACAGC  60.31   \n",
       "2609  variantGISAID-rev-mut1249E   cctcattaTCAGGACTCACAGGAACAACAGC  60.67   \n",
       "2610  variantGISAID-rev-mut1250P        gcctcattaTCAGGGGCCACAGGAAC  61.05   \n",
       "2611  variantGISAID-rev-mut1250F     cgcctcattaTCAGAAGCCACAGGAACAA  60.90   \n",
       "\n",
       "      length  \n",
       "0         26  \n",
       "1         26  \n",
       "2         26  \n",
       "3         28  \n",
       "4         28  \n",
       "...      ...  \n",
       "2607      32  \n",
       "2608      32  \n",
       "2609      32  \n",
       "2610      27  \n",
       "2611      30  \n",
       "\n",
       "[2612 rows x 4 columns]"
      ]
     },
     "execution_count": 67,
     "metadata": {},
     "output_type": "execute_result"
    }
   ],
   "source": [
    "variant_usher_primers['Tm'] = variant_usher_primers.apply(lambda x: '%0.2f' % mt.Tm_NN(x.seq, strict=False), axis=1)\n",
    "variant_usher_primers['Tm'] = variant_usher_primers['Tm'].astype('float')\n",
    "variant_usher_primers['length'] = variant_usher_primers.apply(lambda x: len(x.seq), axis=1)\n",
    "variant_usher_primers"
   ]
  },
  {
   "cell_type": "code",
   "execution_count": 69,
   "metadata": {},
   "outputs": [
    {
     "data": {
      "image/png": "[encoded data removed]",
      "text/plain": [
       "<Figure size 640x480 with 1 Axes>"
      ]
     },
     "metadata": {},
     "output_type": "display_data"
    },
    {
     "data": {
      "text/plain": [
       "<bound method ggplot.draw of <ggplot: (8770690360031)>>"
      ]
     },
     "execution_count": 69,
     "metadata": {},
     "output_type": "execute_result"
    }
   ],
   "source": [
    "p = (ggplot(variant_usher_primers) + \n",
    "     aes('length') + \n",
    "     geom_histogram(color='white',bins=30)\n",
    "    )\n",
    "\n",
    "p.draw"
   ]
  },
  {
   "cell_type": "code",
   "execution_count": 70,
   "metadata": {},
   "outputs": [
    {
     "name": "stderr",
     "output_type": "stream",
     "text": [
      "/fh/fast/bloom_j/software/miniconda3/envs/BloomLab/lib/python3.8/site-packages/plotnine/layer.py:467: PlotnineWarning: geom_histogram : Removed 2 rows containing missing values.\n"
     ]
    },
    {
     "data": {
      "image/png": "[encoded data removed]",
      "text/plain": [
       "<Figure size 640x480 with 1 Axes>"
      ]
     },
     "metadata": {},
     "output_type": "display_data"
    },
    {
     "data": {
      "text/plain": [
       "<bound method ggplot.draw of <ggplot: (8770689689450)>>"
      ]
     },
     "execution_count": 70,
     "metadata": {},
     "output_type": "execute_result"
    }
   ],
   "source": [
    "p = (ggplot(variant_usher_primers) + \n",
    "     aes('Tm') + \n",
    "     geom_histogram(color='white', bins=30)+\n",
    "     xlim(58,72)\n",
    "    )\n",
    "\n",
    "p.draw"
   ]
  },
  {
   "cell_type": "code",
   "execution_count": 71,
   "metadata": {},
   "outputs": [
    {
     "data": {
      "text/plain": [
       "1.649630720798576"
      ]
     },
     "execution_count": 71,
     "metadata": {},
     "output_type": "execute_result"
    }
   ],
   "source": [
    "statistics.pvariance(variant_usher_primers['Tm'])"
   ]
  },
  {
   "cell_type": "code",
   "execution_count": null,
   "metadata": {},
   "outputs": [],
   "source": []
  }
 ],
 "metadata": {
  "kernelspec": {
   "display_name": "Python 3",
   "language": "python",
   "name": "python3"
  },
  "language_info": {
   "codemirror_mode": {
    "name": "ipython",
    "version": 3
   },
   "file_extension": ".py",
   "mimetype": "text/x-python",
   "name": "python",
   "nbconvert_exporter": "python",
   "pygments_lexer": "ipython3",
   "version": "3.8.5"
  }
 },
 "nbformat": 4,
 "nbformat_minor": 4
}
